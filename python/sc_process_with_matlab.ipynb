{
 "cells": [
  {
   "cell_type": "markdown",
   "metadata": {},
   "source": [
    "# Set of tools and function to use Matlab MEOP scripts within python"
   ]
  },
  {
   "cell_type": "code",
   "execution_count": 1,
   "metadata": {
    "tags": []
   },
   "outputs": [
    {
     "ename": "ModuleNotFoundError",
     "evalue": "No module named 'cmocean'",
     "output_type": "error",
     "traceback": [
      "\u001b[0;31m---------------------------------------------------------------------------\u001b[0m",
      "\u001b[0;31mModuleNotFoundError\u001b[0m                       Traceback (most recent call last)",
      "Cell \u001b[0;32mIn[1], line 1\u001b[0m\n\u001b[0;32m----> 1\u001b[0m \u001b[38;5;28;01mimport\u001b[39;00m \u001b[38;5;21;01mmeop_process\u001b[39;00m\n\u001b[1;32m      2\u001b[0m \u001b[38;5;28;01mfrom\u001b[39;00m \u001b[38;5;21;01mpathlib\u001b[39;00m \u001b[38;5;28;01mimport\u001b[39;00m Path\n\u001b[1;32m      3\u001b[0m \u001b[38;5;28;01mimport\u001b[39;00m \u001b[38;5;21;01msys\u001b[39;00m\n",
      "File \u001b[0;32m/media/disk2/roquet/MEOP_process/python/meop_process.py:16\u001b[0m\n\u001b[1;32m     14\u001b[0m \u001b[38;5;28;01mfrom\u001b[39;00m \u001b[38;5;21;01mimportlib\u001b[39;00m \u001b[38;5;28;01mimport\u001b[39;00m reload\n\u001b[1;32m     15\u001b[0m \u001b[38;5;28;01mimport\u001b[39;00m \u001b[38;5;21;01mio\u001b[39;00m\n\u001b[0;32m---> 16\u001b[0m \u001b[38;5;28;01mimport\u001b[39;00m \u001b[38;5;21;01mmeop\u001b[39;00m\n\u001b[1;32m     17\u001b[0m \u001b[38;5;28;01mimport\u001b[39;00m \u001b[38;5;21;01mmeop_filenames\u001b[39;00m\n\u001b[1;32m     18\u001b[0m \u001b[38;5;28;01mimport\u001b[39;00m \u001b[38;5;21;01mmeop_metadata\u001b[39;00m\n",
      "File \u001b[0;32m/media/disk2/roquet/MEOP_process/python/meop.py:14\u001b[0m\n\u001b[1;32m     12\u001b[0m \u001b[38;5;28;01mimport\u001b[39;00m \u001b[38;5;21;01mgsw\u001b[39;00m\n\u001b[1;32m     13\u001b[0m \u001b[38;5;28;01mfrom\u001b[39;00m \u001b[38;5;21;01mpathlib\u001b[39;00m \u001b[38;5;28;01mimport\u001b[39;00m Path\n\u001b[0;32m---> 14\u001b[0m \u001b[38;5;28;01mimport\u001b[39;00m \u001b[38;5;21;01mcmocean\u001b[39;00m\u001b[38;5;21;01m.\u001b[39;00m\u001b[38;5;21;01mcm\u001b[39;00m \u001b[38;5;28;01mas\u001b[39;00m \u001b[38;5;21;01mcmo\u001b[39;00m\n\u001b[1;32m     16\u001b[0m \u001b[38;5;28;01mimport\u001b[39;00m \u001b[38;5;21;01mwarnings\u001b[39;00m\n\u001b[1;32m     17\u001b[0m warnings\u001b[38;5;241m.\u001b[39mfilterwarnings(\u001b[38;5;124m\"\u001b[39m\u001b[38;5;124mignore\u001b[39m\u001b[38;5;124m\"\u001b[39m, category\u001b[38;5;241m=\u001b[39m\u001b[38;5;167;01mRuntimeWarning\u001b[39;00m)\n",
      "\u001b[0;31mModuleNotFoundError\u001b[0m: No module named 'cmocean'"
     ]
    }
   ],
   "source": [
    "import meop_process\n",
    "from pathlib import Path\n",
    "import sys\n",
    "import os\n",
    "import shutil\n",
    "import numpy as np\n",
    "import pandas as pd\n",
    "import xarray as xr\n",
    "import matplotlib.pyplot as plt\n",
    "import gsw\n",
    "from IPython.display import display,Image\n",
    "from importlib import reload\n",
    "import meop\n",
    "import netCDF4 as nc"
   ]
  },
  {
   "cell_type": "markdown",
   "metadata": {},
   "source": [
    "# Code to process data"
   ]
  },
  {
   "cell_type": "code",
   "execution_count": 2,
   "metadata": {
    "tags": []
   },
   "outputs": [
    {
     "ename": "NameError",
     "evalue": "name 'meop_process' is not defined",
     "output_type": "error",
     "traceback": [
      "\u001b[0;31m---------------------------------------------------------------------------\u001b[0m",
      "\u001b[0;31mNameError\u001b[0m                                 Traceback (most recent call last)",
      "Cell \u001b[0;32mIn[2], line 1\u001b[0m\n\u001b[0;32m----> 1\u001b[0m \u001b[43mmeop_process\u001b[49m\u001b[38;5;241m.\u001b[39mstart_matlab()\n",
      "\u001b[0;31mNameError\u001b[0m: name 'meop_process' is not defined"
     ]
    }
   ],
   "source": [
    "meop_process.start_matlab()"
   ]
  },
  {
   "cell_type": "code",
   "execution_count": 3,
   "metadata": {},
   "outputs": [],
   "source": [
    "conf = meop_process.init_mirounga()"
   ]
  },
  {
   "cell_type": "code",
   "execution_count": 19,
   "metadata": {},
   "outputs": [
    {
     "name": "stdout",
     "output_type": "stream",
     "text": [
      "\n",
      "ans =\n",
      "\n",
      "    '/media/dropbox/MEOP/RAW_MEOP_DATA/raw_smru_data_odv/ft23_ODV.txt'\n",
      "\n",
      "\n"
     ]
    }
   ],
   "source": [
    "meop_process.print_matlab(\"[conf.rawdir info_deployment.nomfic]\")"
   ]
  },
  {
   "cell_type": "code",
   "execution_count": 15,
   "metadata": {},
   "outputs": [
    {
     "name": "stdout",
     "output_type": "stream",
     "text": [
      "conf = init_mirounga;\n",
      "\n",
      "\n",
      "info_deployment = \n",
      "\n",
      "  struct with fields:\n",
      "\n",
      "               EXP: 'ft23'\n",
      "                PI: 'GUINET'\n",
      "            NATION: 'FRANCE'\n",
      "            nomfic: 'ft23_ODV.txt'\n",
      "               dir: '/home/jupyter-bpicard/MEOP_process/final_dataset_prof/ft23/'\n",
      "           process: 1\n",
      "            public: 1\n",
      "          list_tag: [8x1 struct]\n",
      "      list_tag_lr0: [8x1 struct]\n",
      "      list_tag_lr1: [8x1 struct]\n",
      "      list_tag_hr0: [8x1 struct]\n",
      "      list_tag_hr1: [8x1 struct]\n",
      "      list_tag_hr2: [1x1 struct]\n",
      "      list_tag_fr0: [0x1 struct]\n",
      "      list_tag_fr1: [0x1 struct]\n",
      "    list_smru_name: {'ft23-C899-18'  'ft23-C900-18'  'ft23-C901-18'  'ft23-C902-18'  'ft23-C903-18'  'ft23-F676-18'  'ft23-F781-18'  'ft23-F905-18'}\n",
      "\n",
      "\n"
     ]
    }
   ],
   "source": [
    "EXP = 'ft23'\n",
    "meop_process.load_info_deployment(EXP=EXP)\n",
    "meop_process.print_matlab(\"info_deployment\")"
   ]
  },
  {
   "cell_type": "code",
   "execution_count": 16,
   "metadata": {},
   "outputs": [
    {
     "name": "stdout",
     "output_type": "stream",
     "text": [
      "conf = init_mirounga;\n",
      "\n",
      "remove_deployment(conf,EXP);\n",
      "\n",
      "create_ncargo(conf,EXP);\n",
      "Process EXP=ft23\n",
      "\t8 tags\n",
      "\t1269 profiles\n",
      "  ft23-C899-18: 8 profiles and 0 Sprofiles removed\n",
      "  ft23-C900-18: 0 profiles and 0 Sprofiles removed\n",
      "  ft23-C901-18: 0 profiles and 0 Sprofiles removed\n",
      "  ft23-C902-18: 0 profiles and 0 Sprofiles removed\n",
      "  ft23-C903-18: 0 profiles and 0 Sprofiles removed\n",
      "  ft23-F676-18: 0 profiles and 0 Sprofiles removed\n",
      "  ft23-F781-18: 0 profiles and 0 Sprofiles removed\n",
      "Tag ft23-F905-18 lr0 removed\n",
      "  ft23-F905-18: 0 profiles and 0 Sprofiles removed\n",
      "\n",
      "create_fr0(conf,EXP);\n",
      "\n",
      "update_metadata(conf,EXP);\n",
      "the MATLAB function has been cancelled\n",
      "\n",
      "apply_adjustments(conf,EXP);\n",
      "the MATLAB function has been cancelled\n",
      "\n",
      "apply_tlc(conf,EXP);\n",
      "\n",
      "apply_tlc_fr(conf,EXP);\n",
      "\n",
      "create_hr2(conf,EXP);\n",
      "Reference to non-existent field 'JULD'.\n",
      "\n",
      "Error in create_hr2 (line 42)\n",
      "        I = round(interp1(data_fr1.JULD,1:length(data_fr1.JULD),data_hr2.JULD));\n",
      "\n",
      "\n"
     ]
    },
    {
     "data": {
      "text/plain": [
       "False"
      ]
     },
     "execution_count": 16,
     "metadata": {},
     "output_type": "execute_result"
    }
   ],
   "source": [
    "meop_process.process_single_deployment(EXP)"
   ]
  },
  {
   "cell_type": "code",
   "execution_count": 8,
   "metadata": {},
   "outputs": [
    {
     "name": "stdout",
     "output_type": "stream",
     "text": [
      "conf = init_mirounga;\n",
      "\n",
      "create_ncargo(conf,EXP,one_smru_name);\n",
      "Process smru_name=ft23-F904-18\n",
      "\t8 tags\n",
      "\t1269 profiles\n",
      "\n",
      "create_fr0(conf,EXP,one_smru_name);\n",
      "\n",
      "update_metadata(conf,EXP,one_smru_name);\n",
      "\n",
      "apply_adjustments(conf,EXP,one_smru_name);\n",
      "\n",
      "apply_tlc(conf,EXP,one_smru_name);\n",
      "\n",
      "apply_tlc_fr(conf,EXP,one_smru_name);\n",
      "\n",
      "create_hr2(conf,EXP,one_smru_name);\n",
      "Create hr2 version [by default, hr1 --> hr2]\n",
      "\n"
     ]
    },
    {
     "data": {
      "text/plain": [
       "True"
      ]
     },
     "execution_count": 8,
     "metadata": {},
     "output_type": "execute_result"
    }
   ],
   "source": [
    "meop_process.process_single_tag('ft23-F904-18')"
   ]
  },
  {
   "cell_type": "code",
   "execution_count": 6,
   "metadata": {},
   "outputs": [
    {
     "name": "stdout",
     "output_type": "stream",
     "text": [
      "generate_plot1(conf,EXP);\n",
      "calibration plots: \n",
      "\n",
      "generate_plot2(conf,EXP);\n",
      "plot diag ct152: lr0, raw\n",
      "plot diag ct152: lr1, adj\n",
      "plot diag ct152: hr1, adj\n",
      "plot diag ct152: hr2, adj\n",
      "plot diag ct152: fr1, adj\n",
      "\n"
     ]
    },
    {
     "data": {
      "text/plain": [
       "True"
      ]
     },
     "execution_count": 6,
     "metadata": {},
     "output_type": "execute_result"
    }
   ],
   "source": [
    "meop_process.run_command(\"generate_plot1(conf,EXP);\")\n",
    "meop_process.run_command(\"generate_plot2(conf,EXP);\")"
   ]
  },
  {
   "cell_type": "code",
   "execution_count": 34,
   "metadata": {},
   "outputs": [
    {
     "name": "stdout",
     "output_type": "stream",
     "text": [
      "conf = init_mirounga;\n",
      "\n",
      "create_ncargo(conf,EXP,one_smru_name);\n",
      "Process smru_name=ct107-933-13\n",
      "\t24 tags\n",
      "\t4902 profiles\n",
      "  ct107-933-13: 0 profiles and 0 Sprofiles removed\n",
      "SMRU ct107-933-13, PTT   133774: use crawl locations\n",
      "\n",
      "create_fr0(conf,EXP,one_smru_name);\n",
      "Process hr smru_name=ct107-933-13\n",
      "  SMRU ct107-933-13, PTT   133774: use crawl locations for fr data\n",
      "  Date issue in ct107-933-13 hr data, 12933 instr_id: 1 profiles removed\n",
      "  ct107-933-13: hr tags with 475 profiles\n",
      "  ct107-933-13: 0 profiles and 0 Sprofiles removed\n",
      "\n",
      "update_metadata(conf,EXP,one_smru_name);\n",
      "\n",
      "apply_adjustments(conf,EXP,one_smru_name);\n",
      "\n",
      "apply_tlc(conf,EXP,one_smru_name);\n",
      "\n",
      "apply_tlc_fr(conf,EXP,one_smru_name);\n",
      "\n",
      "create_hr2(conf,EXP,one_smru_name);\n",
      "Create hr2 version [by default, hr1 --> hr2]\n",
      "  ct107-933-13: high resolution fr1 --> hr2\n",
      "\n",
      "generate_plot1(conf,EXP,one_smru_name);\n",
      "calibration plots: ct107-933-13\n",
      "\n",
      "generate_plot2(conf,EXP,one_smru_name);\n",
      "plot diag ct107: lr0, raw\n",
      "plot diag ct107: lr1, adj\n",
      "plot diag ct107: hr1, adj\n",
      "plot diag ct107: hr2, adj\n",
      "plot diag ct107: fr1, adj\n",
      "\n"
     ]
    },
    {
     "data": {
      "text/plain": [
       "True"
      ]
     },
     "execution_count": 34,
     "metadata": {},
     "output_type": "execute_result"
    }
   ],
   "source": [
    "one_smru_name='ct154-878-BAT-19'\n",
    "process_single_tag(one_smru_name=one_smru_name)\n",
    "run_command(\"generate_plot1(conf,EXP,one_smru_name);\")\n",
    "run_command(\"generate_plot2(conf,EXP,one_smru_name);\")"
   ]
  },
  {
   "cell_type": "code",
   "execution_count": 7,
   "metadata": {},
   "outputs": [],
   "source": [
    "meop_process.stop_matlab()"
   ]
  },
  {
   "cell_type": "code",
   "execution_count": 16,
   "metadata": {},
   "outputs": [
    {
     "ename": "SyntaxError",
     "evalue": "EOL while scanning string literal (<ipython-input-16-ecaa5f552caa>, line 2)",
     "output_type": "error",
     "traceback": [
      "\u001b[0;36m  File \u001b[0;32m\"<ipython-input-16-ecaa5f552caa>\"\u001b[0;36m, line \u001b[0;32m2\u001b[0m\n\u001b[0;31m    cd('MEOP_process/final_dataset_prof/ct154/)\u001b[0m\n\u001b[0m                                               ^\u001b[0m\n\u001b[0;31mSyntaxError\u001b[0m\u001b[0;31m:\u001b[0m EOL while scanning string literal\n"
     ]
    }
   ],
   "source": [
    "one_smru_name='ct154-878-BAT-19'\n",
    "cd('MEOP_process/final_dataset_prof/ct154/)\n"
   ]
  },
  {
   "cell_type": "code",
   "execution_count": 21,
   "metadata": {},
   "outputs": [],
   "source": [
    "fn = '/home/jupyter-bpicard/MEOP_process/final_dataset_prof/ct154/ct154-878-BAT-19_fr1_prof.nc'\n",
    "ds = nc.Dataset(fn)"
   ]
  },
  {
   "cell_type": "code",
   "execution_count": 34,
   "metadata": {},
   "outputs": [],
   "source": [
    "test=ds[\"SCIENTIFIC_CALIB_COEFFICIENT\"]"
   ]
  },
  {
   "cell_type": "code",
   "execution_count": 35,
   "metadata": {},
   "outputs": [
    {
     "data": {
      "text/plain": [
       "<class 'netCDF4._netCDF4.Variable'>\n",
       "|S1 SCIENTIFIC_CALIB_COEFFICIENT(N_PROF, N_CALIB, N_PARAM, STRING256)\n",
       "    long_name: SRDL identifier in the SMRU database\n",
       "    _FillValue: b' '\n",
       "unlimited dimensions: \n",
       "current shape = (3973, 1, 5, 256)\n",
       "filling on"
      ]
     },
     "execution_count": 35,
     "metadata": {},
     "output_type": "execute_result"
    }
   ],
   "source": [
    "test"
   ]
  },
  {
   "cell_type": "code",
   "execution_count": 36,
   "metadata": {},
   "outputs": [
    {
     "data": {
      "text/plain": [
       "masked_array(\n",
       "  data=[[[b'p', b'1', b'=', --, b'0', b'.', b'0', b'0', b'0', b'0',\n",
       "          b'0', b'0', b'e', b'+', b'0', b'0', --, b'd', b'b', b'a',\n",
       "          b'r', b'/', b'k', b'm', b',', --, b'p', b'2', b'=', --, b'0',\n",
       "          b'.', b'0', b'0', b'0', b'0', b'0', b'0', b'e', b'+', b'0',\n",
       "          b'0', --, b'd', b'b', b'a', b'r', --, --, --, --, --, --, --,\n",
       "          --, --, --, --, --, --, --, --, --, --, --, --, --, --, --,\n",
       "          --, --, --, --, --, --, --, --, --, --, --, --, --, --, --,\n",
       "          --, --, --, --, --, --, --, --, --, --, --, --, --, --, --,\n",
       "          --],\n",
       "         [b't', b'1', b'=', --, b'0', b'.', b'0', b'0', b'0', b'0',\n",
       "          b'0', b'0', b'e', b'+', b'0', b'0', --, b'd', b'e', b'g',\n",
       "          b'C', b'/', b'k', b'm', b',', --, b't', b'2', b'=', --, b'0',\n",
       "          b'.', b'0', b'0', b'0', b'0', b'0', b'0', b'e', b'+', b'0',\n",
       "          b'0', --, b'd', b'e', b'g', b'C', --, --, --, --, --, --, --,\n",
       "          --, --, --, --, --, --, --, --, --, --, --, --, --, --, --,\n",
       "          --, --, --, --, --, --, --, --, --, --, --, --, --, --, --,\n",
       "          --, --, --, --, --, --, --, --, --, --, --, --, --, --, --,\n",
       "          --],\n",
       "         [b's', b'1', b'=', --, b'0', b'.', b'0', b'0', b'0', b'0',\n",
       "          b'0', b'0', b'e', b'+', b'0', b'0', --, --, b'p', b's', b'u',\n",
       "          b'/', b'k', b'm', b',', --, b's', b'2', b'=', --, b'0', b'.',\n",
       "          b'0', b'0', b'0', b'0', b'0', b'0', b'e', b'+', b'0', b'0',\n",
       "          --, --, b'p', b's', b'u', --, --, --, --, --, --, --, --, --,\n",
       "          --, --, --, --, --, --, --, --, --, --, --, --, --, --, --,\n",
       "          --, --, --, --, --, --, --, --, --, --, --, --, --, --, --,\n",
       "          --, --, --, --, --, --, --, --, --, --, --, --, --, --],\n",
       "         [b'f', b'1', b'=', --, b'0', b'.', b'6', b',', --, b'f', b'2',\n",
       "          b'=', --, b'0', b'.', b'0', --, --, --, --, --, --, --, --,\n",
       "          --, --, --, --, --, --, --, --, --, --, --, --, --, --, --,\n",
       "          --, --, --, --, --, --, --, --, --, --, --, --, --, --, --,\n",
       "          --, --, --, --, --, --, --, --, --, --, --, --, --, --, --,\n",
       "          --, --, --, --, --, --, --, --, --, --, --, --, --, --, --,\n",
       "          --, --, --, --, --, --, --, --, --, --, --, --, --, --, --,\n",
       "          --],\n",
       "         [--, --, --, --, --, --, --, --, --, --, --, --, --, --, --,\n",
       "          --, --, --, --, --, --, --, --, --, --, --, --, --, --, --,\n",
       "          --, --, --, --, --, --, --, --, --, --, --, --, --, --, --,\n",
       "          --, --, --, --, --, --, --, --, --, --, --, --, --, --, --,\n",
       "          --, --, --, --, --, --, --, --, --, --, --, --, --, --, --,\n",
       "          --, --, --, --, --, --, --, --, --, --, --, --, --, --, --,\n",
       "          --, --, --, --, --, --, --, --, --, --]]],\n",
       "  mask=[[[False, False, False, ...,  True,  True,  True],\n",
       "         [False, False, False, ...,  True,  True,  True],\n",
       "         [False, False, False, ...,  True,  True,  True],\n",
       "         [False, False, False, ...,  True,  True,  True],\n",
       "         [ True,  True,  True, ...,  True,  True,  True]]],\n",
       "  fill_value=b' ',\n",
       "  dtype='|S1')"
      ]
     },
     "execution_count": 36,
     "metadata": {},
     "output_type": "execute_result"
    }
   ],
   "source": [
    "test[1]"
   ]
  },
  {
   "cell_type": "code",
   "execution_count": 33,
   "metadata": {},
   "outputs": [
    {
     "data": {
      "text/plain": [
       "<class 'netCDF4._netCDF4.Dataset'>\n",
       "root group (NETCDF3_CLASSIC data model, file format NETCDF3):\n",
       "    comment:  \n",
       "    number_of_ts_profiles: 3933.0\n",
       "    number_of_t_profiles: 3933.0\n",
       "    number_chla_profiles: 3933.0\n",
       "    number_doxy_profiles: 0.0\n",
       "    number_light_profiles: 3933.0\n",
       "    geospatial_lat_min: -44.66838966666712\n",
       "    geospatial_lat_max: -42.385158194941276\n",
       "    geospatial_lon_min: 296.7981692592244\n",
       "    geospatial_lon_max: 306.4963593906788\n",
       "    pi_name: GUINET\n",
       "    data_type: Marine mammals time-series data\n",
       "    format_version: 1.1\n",
       "    date_update: 2021-03-01T15:44:42Z\n",
       "    version_database: MEOP-CTD_2020-10-20\n",
       "    PI: GUINET\n",
       "    reference_file_name: ct154-878-BAT-19_prof.nc\n",
       "    is_the_data_public: no: data cannot be used without the prior consent of the data owner\n",
       "    nation: FRANCE\n",
       "    deployment_code: ct154\n",
       "    source: Marine mammal observation\n",
       "    data_mode: D\n",
       "    references: http://www.meop.net\n",
       "    reference_doi:  \n",
       "    Conventions: CF-1.6 Sea-mammals-1.1\n",
       "    Netcdf_version: 3.6\n",
       "    naming_authority: MEOP consortium (Marine Mammals Exploring the Oceans Pole to Pole)\n",
       "    cdm_data_type: Station\n",
       "    geospatial_vertical_min: 0.0\n",
       "    geospatial_vertical_max: 2000.0\n",
       "    data_assembly_center: MEOP/Fabien Roquet (MISU)\n",
       "    distribution_statement: Follow MEOP data policy standards, cf. http://www.meop.net/the-dataset/data-access.html. Data available free of charge. User assumes all risk for use of data. User must display citation in any publication or product using data. User must contact PI prior to any commercial use of data\n",
       "    citation: The marine mammal data were collected and made freely available by the International MEOP Consortium and the national programs that contribute to it (http://www.meop.net).\n",
       "    thermal_lag_adjustment: yes\n",
       "    platform_code: 86004\n",
       "    wmo_platform_code: Q9901262\n",
       "    smru_platform_code: ct154-878-BAT-19\n",
       "    species: Southern elephant seal\n",
       "    time_coverage_start: 2019-10-15T00:00:00Z\n",
       "    time_coverage_end: 2019-11-29T00:00:00Z\n",
       "    location: Kerguelen\n",
       "    loc_algorithm: K\n",
       "    firmware_version: 206\n",
       "    firmware_parameters: FTD_CONT_18SD\n",
       "    instr_id: 14878\n",
       "    ptt: 63876\n",
       "    dimensions(sizes): DATE_TIME(14), STRING256(256), STRING64(64), STRING32(32), STRING16(16), STRING8(8), STRING4(4), STRING2(2), N_PROF(3973), N_PARAM(5), N_LEVELS(1000), N_CALIB(1)\n",
       "    variables(dimensions): |S1 DATA_TYPE(STRING16), |S1 FORMAT_VERSION(STRING4), |S1 HANDBOOK_VERSION(STRING4), |S1 REFERENCE_DATE_TIME(DATE_TIME), |S1 DATE_CREATION(DATE_TIME), |S1 DATE_UPDATE(DATE_TIME), |S1 PLATFORM_NUMBER(N_PROF, STRING8), |S1 PROJECT_NAME(N_PROF, STRING64), |S1 PI_NAME(N_PROF, STRING64), |S1 STATION_PARAMETERS(N_PROF, N_PARAM, STRING16), int32 CYCLE_NUMBER(N_PROF), |S1 DIRECTION(N_PROF), |S1 DATA_CENTRE(N_PROF, STRING2), |S1 DC_REFERENCE(N_PROF, STRING32), |S1 DATA_STATE_INDICATOR(N_PROF, STRING4), |S1 DATA_MODE(N_PROF), |S1 INST_REFERENCE(N_PROF, STRING64), |S1 WMO_INST_TYPE(N_PROF, STRING4), float64 JULD(N_PROF), |S1 JULD_QC(N_PROF), float64 JULD_LOCATION(N_PROF), float64 LATITUDE(N_PROF), float64 LONGITUDE(N_PROF), |S1 POSITION_QC(N_PROF), |S1 POSITIONING_SYSTEM(N_PROF, STRING8), |S1 PROFILE_PRES_QC(N_PROF), |S1 PROFILE_PSAL_QC(N_PROF), |S1 PROFILE_TEMP_QC(N_PROF), float32 PRES(N_PROF, N_LEVELS), |S1 PRES_QC(N_PROF, N_LEVELS), float32 PRES_ADJUSTED(N_PROF, N_LEVELS), |S1 PRES_ADJUSTED_QC(N_PROF, N_LEVELS), float32 PRES_ADJUSTED_ERROR(N_PROF, N_LEVELS), float32 TEMP(N_PROF, N_LEVELS), |S1 TEMP_QC(N_PROF, N_LEVELS), float32 TEMP_ADJUSTED(N_PROF, N_LEVELS), |S1 TEMP_ADJUSTED_QC(N_PROF, N_LEVELS), float32 TEMP_ADJUSTED_ERROR(N_PROF, N_LEVELS), float32 PSAL(N_PROF, N_LEVELS), |S1 PSAL_QC(N_PROF, N_LEVELS), float32 PSAL_ADJUSTED(N_PROF, N_LEVELS), |S1 PSAL_ADJUSTED_QC(N_PROF, N_LEVELS), float32 PSAL_ADJUSTED_ERROR(N_PROF, N_LEVELS), |S1 PROFILE_CHLA_QC(N_PROF), float32 CHLA(N_PROF, N_LEVELS), |S1 CHLA_QC(N_PROF, N_LEVELS), float32 CHLA_ADJUSTED(N_PROF, N_LEVELS), |S1 CHLA_ADJUSTED_QC(N_PROF, N_LEVELS), float32 CHLA_ADJUSTED_ERROR(N_PROF, N_LEVELS), |S1 PROFILE_LIGHT_QC(N_PROF), float32 LIGHT(N_PROF, N_LEVELS), |S1 LIGHT_QC(N_PROF, N_LEVELS), float32 LIGHT_ADJUSTED(N_PROF, N_LEVELS), |S1 LIGHT_ADJUSTED_QC(N_PROF, N_LEVELS), float32 LIGHT_ADJUSTED_ERROR(N_PROF, N_LEVELS), |S1 PARAMETER(N_PROF, N_CALIB, N_PARAM, STRING16), |S1 SCIENTIFIC_CALIB_EQUATION(N_PROF, N_CALIB, N_PARAM, STRING256), |S1 SCIENTIFIC_CALIB_COEFFICIENT(N_PROF, N_CALIB, N_PARAM, STRING256)\n",
       "    groups: "
      ]
     },
     "execution_count": 33,
     "metadata": {},
     "output_type": "execute_result"
    }
   ],
   "source": [
    "ds"
   ]
  },
  {
   "cell_type": "code",
   "execution_count": null,
   "metadata": {},
   "outputs": [],
   "source": []
  }
 ],
 "metadata": {
  "kernelspec": {
   "display_name": "Python 3 (ipykernel)",
   "language": "python",
   "name": "python3"
  },
  "language_info": {
   "codemirror_mode": {
    "name": "ipython",
    "version": 3
   },
   "file_extension": ".py",
   "mimetype": "text/x-python",
   "name": "python",
   "nbconvert_exporter": "python",
   "pygments_lexer": "ipython3",
   "version": "3.9.16"
  }
 },
 "nbformat": 4,
 "nbformat_minor": 4
}
