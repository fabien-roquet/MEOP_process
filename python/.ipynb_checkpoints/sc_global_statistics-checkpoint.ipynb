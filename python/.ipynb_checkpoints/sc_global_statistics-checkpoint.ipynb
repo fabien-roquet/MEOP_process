{
 "cells": [
  {
   "cell_type": "markdown",
   "metadata": {},
   "source": [
    "# Compute statistics about the global database\n",
    "\n",
    "* use lprofiles, ltags, ldeployments\n",
    "* list files are created in sc_list_profiles.ipynb"
   ]
  },
  {
   "cell_type": "code",
   "execution_count": 5,
   "metadata": {},
   "outputs": [
    {
     "data": {
      "text/plain": [
       "<module 'meop_metadata' from '/media/disk2/roquet/MEOP_process/python/meop_metadata.py'>"
      ]
     },
     "execution_count": 5,
     "metadata": {},
     "output_type": "execute_result"
    }
   ],
   "source": [
    "from pathlib import Path\n",
    "import sys\n",
    "import os\n",
    "import shutil\n",
    "import numpy as np\n",
    "import pandas as pd\n",
    "import xarray as xr\n",
    "import matplotlib.pyplot as plt\n",
    "import gsw\n",
    "from IPython.display import display,Image\n",
    "\n",
    "from importlib import reload\n",
    "import meop_metadata\n",
    "import meop_plot_data\n",
    "reload(meop_metadata)"
   ]
  },
  {
   "cell_type": "markdown",
   "metadata": {},
   "source": [
    "## Write statistics"
   ]
  },
  {
   "cell_type": "code",
   "execution_count": 6,
   "metadata": {},
   "outputs": [],
   "source": [
    "lprofiles, ltags, ldeployments = meop_metadata.read_lists_metadata(rebuild=False,verbose=False,public=False,Tdata=True)\n",
    "lprofiles_public, ltags_public, ldeployments_public = meop_metadata.read_list_profiles(rebuild=False,verbose=False,public=True,Tdata=True)"
   ]
  },
  {
   "cell_type": "code",
   "execution_count": 7,
   "metadata": {},
   "outputs": [
    {
     "data": {
      "text/html": [
       "<div>\n",
       "<style scoped>\n",
       "    .dataframe tbody tr th:only-of-type {\n",
       "        vertical-align: middle;\n",
       "    }\n",
       "\n",
       "    .dataframe tbody tr th {\n",
       "        vertical-align: top;\n",
       "    }\n",
       "\n",
       "    .dataframe thead th {\n",
       "        text-align: right;\n",
       "    }\n",
       "</style>\n",
       "<table border=\"1\" class=\"dataframe\">\n",
       "  <thead>\n",
       "    <tr style=\"text-align: right;\">\n",
       "      <th></th>\n",
       "      <th>DEPLOYMENT_CODE</th>\n",
       "      <th>SMRU_PLATFORM_CODE</th>\n",
       "      <th>CYCLE_NUMBER</th>\n",
       "      <th>JULD</th>\n",
       "      <th>LATITUDE</th>\n",
       "      <th>LONGITUDE</th>\n",
       "      <th>N_TEMP</th>\n",
       "      <th>N_PSAL</th>\n",
       "      <th>N_CHLA</th>\n",
       "      <th>MASK</th>\n",
       "    </tr>\n",
       "  </thead>\n",
       "  <tbody>\n",
       "    <tr>\n",
       "      <th>0</th>\n",
       "      <td>ft11</td>\n",
       "      <td>ft11-Cy07b-12</td>\n",
       "      <td>1</td>\n",
       "      <td>2012-02-12 22:19:59.999996</td>\n",
       "      <td>-49.778640</td>\n",
       "      <td>71.466896</td>\n",
       "      <td>27.0</td>\n",
       "      <td>27.0</td>\n",
       "      <td>18.0</td>\n",
       "      <td>Southern Ocean</td>\n",
       "    </tr>\n",
       "    <tr>\n",
       "      <th>1</th>\n",
       "      <td>ft11</td>\n",
       "      <td>ft11-Cy07b-12</td>\n",
       "      <td>2</td>\n",
       "      <td>2012-02-13 08:40:00.000001</td>\n",
       "      <td>-49.904131</td>\n",
       "      <td>71.869976</td>\n",
       "      <td>27.0</td>\n",
       "      <td>27.0</td>\n",
       "      <td>18.0</td>\n",
       "      <td>Southern Ocean</td>\n",
       "    </tr>\n",
       "    <tr>\n",
       "      <th>2</th>\n",
       "      <td>ft11</td>\n",
       "      <td>ft11-Cy07b-12</td>\n",
       "      <td>3</td>\n",
       "      <td>2012-02-13 21:39:59.999998</td>\n",
       "      <td>-50.050063</td>\n",
       "      <td>72.401875</td>\n",
       "      <td>27.0</td>\n",
       "      <td>27.0</td>\n",
       "      <td>18.0</td>\n",
       "      <td>Southern Ocean</td>\n",
       "    </tr>\n",
       "    <tr>\n",
       "      <th>3</th>\n",
       "      <td>ft11</td>\n",
       "      <td>ft11-Cy07b-12</td>\n",
       "      <td>4</td>\n",
       "      <td>2012-02-14 06:39:59.999998</td>\n",
       "      <td>-50.084059</td>\n",
       "      <td>72.901377</td>\n",
       "      <td>27.0</td>\n",
       "      <td>27.0</td>\n",
       "      <td>18.0</td>\n",
       "      <td>Southern Ocean</td>\n",
       "    </tr>\n",
       "    <tr>\n",
       "      <th>4</th>\n",
       "      <td>ft11</td>\n",
       "      <td>ft11-Cy07b-12</td>\n",
       "      <td>5</td>\n",
       "      <td>2012-02-14 18:39:59.999998</td>\n",
       "      <td>-50.093781</td>\n",
       "      <td>73.414020</td>\n",
       "      <td>27.0</td>\n",
       "      <td>27.0</td>\n",
       "      <td>18.0</td>\n",
       "      <td>Southern Ocean</td>\n",
       "    </tr>\n",
       "    <tr>\n",
       "      <th>...</th>\n",
       "      <td>...</td>\n",
       "      <td>...</td>\n",
       "      <td>...</td>\n",
       "      <td>...</td>\n",
       "      <td>...</td>\n",
       "      <td>...</td>\n",
       "      <td>...</td>\n",
       "      <td>...</td>\n",
       "      <td>...</td>\n",
       "      <td>...</td>\n",
       "    </tr>\n",
       "    <tr>\n",
       "      <th>644375</th>\n",
       "      <td>ct104</td>\n",
       "      <td>ct104-WF963-13</td>\n",
       "      <td>899</td>\n",
       "      <td>2014-10-25 04:07:00.000002</td>\n",
       "      <td>-73.397500</td>\n",
       "      <td>-111.908800</td>\n",
       "      <td>NaN</td>\n",
       "      <td>17.0</td>\n",
       "      <td>NaN</td>\n",
       "      <td>Southern Ocean</td>\n",
       "    </tr>\n",
       "    <tr>\n",
       "      <th>644376</th>\n",
       "      <td>ct104</td>\n",
       "      <td>ct104-WF963-13</td>\n",
       "      <td>900</td>\n",
       "      <td>2014-10-26 04:21:00.000002</td>\n",
       "      <td>-73.366200</td>\n",
       "      <td>-112.215100</td>\n",
       "      <td>NaN</td>\n",
       "      <td>17.0</td>\n",
       "      <td>NaN</td>\n",
       "      <td>Southern Ocean</td>\n",
       "    </tr>\n",
       "    <tr>\n",
       "      <th>644377</th>\n",
       "      <td>ct104</td>\n",
       "      <td>ct104-WF963-13</td>\n",
       "      <td>901</td>\n",
       "      <td>2014-10-26 11:29:00</td>\n",
       "      <td>-73.356800</td>\n",
       "      <td>-112.333800</td>\n",
       "      <td>NaN</td>\n",
       "      <td>16.0</td>\n",
       "      <td>NaN</td>\n",
       "      <td>Southern Ocean</td>\n",
       "    </tr>\n",
       "    <tr>\n",
       "      <th>644378</th>\n",
       "      <td>ct104</td>\n",
       "      <td>ct104-WF963-13</td>\n",
       "      <td>902</td>\n",
       "      <td>2014-10-26 12:22:00.000002</td>\n",
       "      <td>-73.355700</td>\n",
       "      <td>-112.348300</td>\n",
       "      <td>NaN</td>\n",
       "      <td>16.0</td>\n",
       "      <td>NaN</td>\n",
       "      <td>Southern Ocean</td>\n",
       "    </tr>\n",
       "    <tr>\n",
       "      <th>644379</th>\n",
       "      <td>ct104</td>\n",
       "      <td>ct104-WF963-13</td>\n",
       "      <td>903</td>\n",
       "      <td>2014-10-27 16:04:59.999999</td>\n",
       "      <td>-73.289900</td>\n",
       "      <td>-113.000200</td>\n",
       "      <td>16.0</td>\n",
       "      <td>NaN</td>\n",
       "      <td>NaN</td>\n",
       "      <td>Southern Ocean</td>\n",
       "    </tr>\n",
       "  </tbody>\n",
       "</table>\n",
       "<p>644380 rows × 10 columns</p>\n",
       "</div>"
      ],
      "text/plain": [
       "       DEPLOYMENT_CODE SMRU_PLATFORM_CODE  CYCLE_NUMBER  \\\n",
       "0                 ft11      ft11-Cy07b-12             1   \n",
       "1                 ft11      ft11-Cy07b-12             2   \n",
       "2                 ft11      ft11-Cy07b-12             3   \n",
       "3                 ft11      ft11-Cy07b-12             4   \n",
       "4                 ft11      ft11-Cy07b-12             5   \n",
       "...                ...                ...           ...   \n",
       "644375           ct104     ct104-WF963-13           899   \n",
       "644376           ct104     ct104-WF963-13           900   \n",
       "644377           ct104     ct104-WF963-13           901   \n",
       "644378           ct104     ct104-WF963-13           902   \n",
       "644379           ct104     ct104-WF963-13           903   \n",
       "\n",
       "                              JULD   LATITUDE   LONGITUDE  N_TEMP  N_PSAL  \\\n",
       "0       2012-02-12 22:19:59.999996 -49.778640   71.466896    27.0    27.0   \n",
       "1       2012-02-13 08:40:00.000001 -49.904131   71.869976    27.0    27.0   \n",
       "2       2012-02-13 21:39:59.999998 -50.050063   72.401875    27.0    27.0   \n",
       "3       2012-02-14 06:39:59.999998 -50.084059   72.901377    27.0    27.0   \n",
       "4       2012-02-14 18:39:59.999998 -50.093781   73.414020    27.0    27.0   \n",
       "...                            ...        ...         ...     ...     ...   \n",
       "644375  2014-10-25 04:07:00.000002 -73.397500 -111.908800     NaN    17.0   \n",
       "644376  2014-10-26 04:21:00.000002 -73.366200 -112.215100     NaN    17.0   \n",
       "644377         2014-10-26 11:29:00 -73.356800 -112.333800     NaN    16.0   \n",
       "644378  2014-10-26 12:22:00.000002 -73.355700 -112.348300     NaN    16.0   \n",
       "644379  2014-10-27 16:04:59.999999 -73.289900 -113.000200    16.0     NaN   \n",
       "\n",
       "        N_CHLA            MASK  \n",
       "0         18.0  Southern Ocean  \n",
       "1         18.0  Southern Ocean  \n",
       "2         18.0  Southern Ocean  \n",
       "3         18.0  Southern Ocean  \n",
       "4         18.0  Southern Ocean  \n",
       "...        ...             ...  \n",
       "644375     NaN  Southern Ocean  \n",
       "644376     NaN  Southern Ocean  \n",
       "644377     NaN  Southern Ocean  \n",
       "644378     NaN  Southern Ocean  \n",
       "644379     NaN  Southern Ocean  \n",
       "\n",
       "[644380 rows x 10 columns]"
      ]
     },
     "execution_count": 7,
     "metadata": {},
     "output_type": "execute_result"
    }
   ],
   "source": [
    "lprofiles_public"
   ]
  },
  {
   "cell_type": "code",
   "execution_count": 8,
   "metadata": {},
   "outputs": [
    {
     "data": {
      "text/plain": [
       "Index(['SMRU_PLATFORM_CODE', 'DEPLOYMENT_CODE', 'JULD', 'LATITUDE',\n",
       "       'LONGITUDE', 'N_PROF_TEMP', 'N_PROF_PSAL', 'N_PROF_CHLA', 'PUBLIC',\n",
       "       'T1', 'T2', 'S1', 'S2', 'remove', 'Sremove', 'comment',\n",
       "       'variable_offset', 'instr_id', 'year', 'period', 'continuous', 'prefix',\n",
       "       'MASK'],\n",
       "      dtype='object')"
      ]
     },
     "execution_count": 8,
     "metadata": {},
     "output_type": "execute_result"
    }
   ],
   "source": [
    "ltags.columns"
   ]
  },
  {
   "cell_type": "code",
   "execution_count": 3,
   "metadata": {},
   "outputs": [
    {
     "name": "stdout",
     "output_type": "stream",
     "text": [
      "Number of valid T profiles, total : 657625\n",
      "Number of valid T profiles, public: 590537\n",
      "Number of valid T profiles, public, south of 55S:  272609\n"
     ]
    }
   ],
   "source": [
    "print('Number of valid T profiles, total :',lprofiles.N_TEMP.count())\n",
    "print('Number of valid T profiles, public:',lprofiles_public.N_TEMP.count())\n",
    "print('Number of valid T profiles, public, south of 55S: ',lprofiles_public[lprofiles_public.LATITUDE<-55].N_TEMP.count())"
   ]
  },
  {
   "cell_type": "code",
   "execution_count": 11,
   "metadata": {},
   "outputs": [
    {
     "name": "stdout",
     "output_type": "stream",
     "text": [
      "Number of valid S profiles, total : 521754\n",
      "Number of valid S profiles, public: 457743\n",
      "Number of valid S profiles, public, south of 55S:  234952\n"
     ]
    }
   ],
   "source": [
    "print('Number of valid S profiles, total :',lprofiles.N_PSAL.count())\n",
    "print('Number of valid S profiles, public:',lprofiles_public.N_PSAL.count())\n",
    "print('Number of valid S profiles, public, south of 55S: ',lprofiles_public[lprofiles_public.LATITUDE<-55].N_PSAL.count())"
   ]
  },
  {
   "cell_type": "code",
   "execution_count": 17,
   "metadata": {},
   "outputs": [
    {
     "name": "stdout",
     "output_type": "stream",
     "text": [
      "Number of valid tags, public, south of 55S:  781\n"
     ]
    }
   ],
   "source": [
    "# select tags with at least one profile south of 55S\n",
    "index_tags = lprofiles_public[lprofiles_public.LATITUDE<-55].SMRU_PLATFORM_CODE.unique()\n",
    "print('Number of valid tags, public, south of 55S: ',len(index_tags))"
   ]
  },
  {
   "cell_type": "code",
   "execution_count": 9,
   "metadata": {},
   "outputs": [
    {
     "name": "stdout",
     "output_type": "stream",
     "text": [
      "Number of valid tags, public, with chla:  108\n",
      "Number of valid tags, public, with chla:  26\n",
      "\n",
      "Number of valid F profiles, total :  26801\n",
      "Number of valid F profiles, public:  26328\n",
      "Number of valid F profiles, public, south of 55S:  3528\n"
     ]
    }
   ],
   "source": [
    "# select tags with at least one Chla profile\n",
    "index_tags = lprofiles_public[lprofiles_public.N_CHLA>0].SMRU_PLATFORM_CODE.unique()\n",
    "print('Number of valid tags, public, with chla: ',len(index_tags))\n",
    "\n",
    "# select tags with at least one Chla profile south of 50S\n",
    "index_tags = lprofiles_public[(lprofiles_public.N_CHLA>0)&(lprofiles_public.LATITUDE<-55)].SMRU_PLATFORM_CODE.unique()\n",
    "print('Number of valid tags, public, with chla: ',len(index_tags))\n",
    "\n",
    "# Number of profiles of Chla\n",
    "print('')\n",
    "print('Number of valid F profiles, total : ',lprofiles[lprofiles.N_CHLA>0].N_CHLA.count())\n",
    "print('Number of valid F profiles, public: ',lprofiles_public[lprofiles_public.N_CHLA>0].N_CHLA.count())\n",
    "print('Number of valid F profiles, public, south of 55S: ',lprofiles_public[(lprofiles_public.N_CHLA>0)&(lprofiles_public.LATITUDE<-55)].N_CHLA.count())"
   ]
  }
 ],
 "metadata": {
  "kernelspec": {
   "display_name": "Python 3",
   "language": "python",
   "name": "python3"
  },
  "language_info": {
   "codemirror_mode": {
    "name": "ipython",
    "version": 3
   },
   "file_extension": ".py",
   "mimetype": "text/x-python",
   "name": "python",
   "nbconvert_exporter": "python",
   "pygments_lexer": "ipython3",
   "version": "3.7.8"
  }
 },
 "nbformat": 4,
 "nbformat_minor": 4
}
