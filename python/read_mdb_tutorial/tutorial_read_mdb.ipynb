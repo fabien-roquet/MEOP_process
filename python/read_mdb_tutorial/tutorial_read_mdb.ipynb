{
 "cells": [
  {
   "cell_type": "markdown",
   "metadata": {},
   "source": [
    "# Read data from an access mdb file\n",
    "Need to have mdbtools installed"
   ]
  },
  {
   "cell_type": "code",
   "execution_count": 27,
   "metadata": {},
   "outputs": [],
   "source": [
    "file_name = 'sk3_tables.mdb'"
   ]
  },
  {
   "cell_type": "code",
   "execution_count": 28,
   "metadata": {},
   "outputs": [],
   "source": [
    "import pandas as pd\n",
    "import subprocess\n",
    " \n",
    "def show_tables(path='<file_name>.mdb'):\n",
    "    tables = subprocess.check_output([\"mdb-tables\", path])\n",
    "    return tables.decode().split()\n",
    "\n",
    "def show_data(path='<file_name>.mdb', table='<table_name>'):\n",
    "    tables = subprocess.check_output([\"mdb-export\", path, table])\n",
    "    return tables.decode().split('\\n')\n",
    " \n",
    "def convert_df(path, table):\n",
    "    d = show_data(path, table)\n",
    "    columns = d[0].split(',')\n",
    "    data = [i.split(',') for i in d[1:]]\n",
    "    df = pd.DataFrame(columns=columns, data=data)\n",
    "    return df"
   ]
  },
  {
   "cell_type": "code",
   "execution_count": 29,
   "metadata": {},
   "outputs": [
    {
     "data": {
      "text/plain": [
       "['cruise',\n",
       " 'ctd',\n",
       " 'deployments',\n",
       " 'depth_usage_histogram',\n",
       " 'diag',\n",
       " 'hist_bindefs',\n",
       " 'tag_info',\n",
       " 'timeline',\n",
       " 'uplink']"
      ]
     },
     "execution_count": 29,
     "metadata": {},
     "output_type": "execute_result"
    }
   ],
   "source": [
    "show_tables(path=file_name)"
   ]
  },
  {
   "cell_type": "code",
   "execution_count": 30,
   "metadata": {},
   "outputs": [
    {
     "data": {
      "text/plain": [
       "['ref,PTT,ON_DATE,OFF_DATE,SPECIES,LOCATION,HOME_LAT,HOME_LON,VMASK_THRESHOLD,PROG,PARMS,BODY,COMMENTS,N_PTTS,TEST_DATE,T_OFFSET,T_SCALE,GREF,NAME,YEAR,RECOVERED,WMO',\n",
       " '\"sk3-13219-15\",145018,\"08/05/15 00:00:00\",,\"Salmon shark\",\"Alaska\",60.700,-146.192,20,\"SEALOG.145\",\"SHAR_15A\",13219,\"Barbara Block; CTD twin tag;\",,\"07/10/15 00:00:00\",0.0,0.000,\"sk3\",\"13219\",2015,\"N\",785',\n",
       " '\"sk3-14021-15\",145017,\"08/05/15 00:00:00\",,\"Salmon shark\",\"Alaska\",60.700,-146.192,20,\"SEALOG.145\",\"SHAR_15A\",14021,\"Barbara Block; CTD single tag;\",,\"07/10/15 00:00:00\",0.0,0.000,\"sk3\",\"14021\",2015,\"N\",',\n",
       " '']"
      ]
     },
     "execution_count": 30,
     "metadata": {},
     "output_type": "execute_result"
    }
   ],
   "source": [
    "show_data(path=file_name,table='deployments')"
   ]
  },
  {
   "cell_type": "code",
   "execution_count": 31,
   "metadata": {},
   "outputs": [],
   "source": [
    "df = convert_df(path=file_name,table='deployments')"
   ]
  },
  {
   "cell_type": "code",
   "execution_count": 32,
   "metadata": {},
   "outputs": [],
   "source": [
    "df.to_csv('sk3_deployments.csv')"
   ]
  },
  {
   "cell_type": "code",
   "execution_count": null,
   "metadata": {},
   "outputs": [],
   "source": []
  }
 ],
 "metadata": {
  "kernelspec": {
   "display_name": "Python 3 (ipykernel)",
   "language": "python",
   "name": "python3"
  },
  "language_info": {
   "codemirror_mode": {
    "name": "ipython",
    "version": 3
   },
   "file_extension": ".py",
   "mimetype": "text/x-python",
   "name": "python",
   "nbconvert_exporter": "python",
   "pygments_lexer": "ipython3",
   "version": "3.9.16"
  }
 },
 "nbformat": 4,
 "nbformat_minor": 4
}
