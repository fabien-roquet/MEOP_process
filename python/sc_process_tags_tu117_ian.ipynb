{
 "cells": [
  {
   "cell_type": "markdown",
   "metadata": {},
   "source": [
    "# Set of tools and function to use Matlab MEOP scripts within python"
   ]
  },
  {
   "cell_type": "code",
   "execution_count": 1,
   "metadata": {
    "tags": []
   },
   "outputs": [
    {
     "name": "stdout",
     "output_type": "stream",
     "text": [
      "Load config jupyter_froqu_pc207_linux in configs.json\n"
     ]
    }
   ],
   "source": [
    "import meop_process\n",
    "from pathlib import Path\n",
    "import sys\n",
    "import os\n",
    "import shutil\n",
    "import numpy as np\n",
    "import pandas as pd\n",
    "import xarray as xr\n",
    "from shutil import copyfile\n",
    "import zipfile\n",
    "import meop_filenames\n",
    "from importlib import reload\n",
    "import os\n",
    "_ = os.umask(int('002', 8))"
   ]
  },
  {
   "cell_type": "markdown",
   "metadata": {},
   "source": [
    "# Code to execute in a terminal"
   ]
  },
  {
   "cell_type": "markdown",
   "metadata": {},
   "source": [
    "1. process a deployment:\n",
    ">python meop_process.py --deployment ct107 --do_all\n",
    "2. process a tag\n",
    ">python meop_process.py --smru_name ct107-933-13 --do_all\n",
    "3. help menu\n",
    ">python meop_process.py -h"
   ]
  },
  {
   "cell_type": "markdown",
   "metadata": {},
   "source": [
    "# Code to process data"
   ]
  },
  {
   "cell_type": "markdown",
   "metadata": {},
   "source": [
    "## Initialize matlab"
   ]
  },
  {
   "cell_type": "code",
   "execution_count": 2,
   "metadata": {
    "tags": []
   },
   "outputs": [
    {
     "name": "stdout",
     "output_type": "stream",
     "text": [
      "matlab started\n",
      "cd /home/jupyter-froqu/MEOP_process;\n",
      "\n",
      "PWD: /media/disk2/roquet/MEOP_process\n"
     ]
    }
   ],
   "source": [
    "meop_process.start_matlab()"
   ]
  },
  {
   "cell_type": "code",
   "execution_count": 3,
   "metadata": {
    "tags": []
   },
   "outputs": [
    {
     "name": "stdout",
     "output_type": "stream",
     "text": [
      "cd /media/disk2/roquet/MEOP_process\n",
      "\n",
      "disp(config_id);\n",
      "jupyter_froqu_pc207_linux\n",
      "\n"
     ]
    }
   ],
   "source": [
    "meop_process.run_command('cd /media/disk2/roquet/MEOP_process')\n",
    "meop_process.run_command('disp(config_id);');"
   ]
  },
  {
   "cell_type": "code",
   "execution_count": 4,
   "metadata": {
    "tags": []
   },
   "outputs": [
    {
     "name": "stdout",
     "output_type": "stream",
     "text": [
      "conf = init_mirounga;\n"
     ]
    }
   ],
   "source": [
    "conf = meop_process.init_mirounga()"
   ]
  },
  {
   "cell_type": "code",
   "execution_count": 6,
   "metadata": {
    "tags": []
   },
   "outputs": [
    {
     "name": "stdout",
     "output_type": "stream",
     "text": [
      "conf = init_mirounga;\n"
     ]
    }
   ],
   "source": [
    "conf = meop_process.update_config_files(conf)"
   ]
  },
  {
   "cell_type": "markdown",
   "metadata": {},
   "source": [
    "## Import list of deployments"
   ]
  },
  {
   "cell_type": "code",
   "execution_count": 7,
   "metadata": {
    "tags": []
   },
   "outputs": [
    {
     "data": {
      "text/html": [
       "<div>\n",
       "<style scoped>\n",
       "    .dataframe tbody tr th:only-of-type {\n",
       "        vertical-align: middle;\n",
       "    }\n",
       "\n",
       "    .dataframe tbody tr th {\n",
       "        vertical-align: top;\n",
       "    }\n",
       "\n",
       "    .dataframe thead th {\n",
       "        text-align: right;\n",
       "    }\n",
       "</style>\n",
       "<table border=\"1\" class=\"dataframe\">\n",
       "  <thead>\n",
       "    <tr style=\"text-align: right;\">\n",
       "      <th></th>\n",
       "      <th>PI_CODE</th>\n",
       "      <th>PROCESS</th>\n",
       "      <th>PUBLIC</th>\n",
       "      <th>COUNTRY</th>\n",
       "      <th>FIRST_VERSION</th>\n",
       "      <th>LAST_VERSION</th>\n",
       "      <th>START_DATE</th>\n",
       "      <th>END_DATE</th>\n",
       "      <th>START_DATE_JUL</th>\n",
       "    </tr>\n",
       "    <tr>\n",
       "      <th>DEPLOYMENT_CODE</th>\n",
       "      <th></th>\n",
       "      <th></th>\n",
       "      <th></th>\n",
       "      <th></th>\n",
       "      <th></th>\n",
       "      <th></th>\n",
       "      <th></th>\n",
       "      <th></th>\n",
       "      <th></th>\n",
       "    </tr>\n",
       "  </thead>\n",
       "  <tbody>\n",
       "    <tr>\n",
       "      <th>wd04</th>\n",
       "      <td>HINDELL</td>\n",
       "      <td>1</td>\n",
       "      <td>1</td>\n",
       "      <td>AUSTRALIA</td>\n",
       "      <td>MEOP-CTD_2016-07-12</td>\n",
       "      <td>MEOP-CTD_2020-01-02</td>\n",
       "      <td>03/26/0011</td>\n",
       "      <td>10/08/0011</td>\n",
       "      <td>4103.0</td>\n",
       "    </tr>\n",
       "    <tr>\n",
       "      <th>awru1</th>\n",
       "      <td>HINDELL</td>\n",
       "      <td>1</td>\n",
       "      <td>1</td>\n",
       "      <td>AUSTRALIA</td>\n",
       "      <td>MEOP-CTD_2015-05-31</td>\n",
       "      <td>MEOP-CTD_2020-01-02</td>\n",
       "      <td>02/12/0007</td>\n",
       "      <td>10/03/0007</td>\n",
       "      <td>2600.0</td>\n",
       "    </tr>\n",
       "    <tr>\n",
       "      <th>ct149</th>\n",
       "      <td>HINDELL</td>\n",
       "      <td>1</td>\n",
       "      <td>1</td>\n",
       "      <td>AUSTRALIA</td>\n",
       "      <td>MEOP-CTD_2020-01-02</td>\n",
       "      <td>MEOP-CTD_2020-01-02</td>\n",
       "      <td>12/20/0018</td>\n",
       "      <td>NaT</td>\n",
       "      <td>6929.0</td>\n",
       "    </tr>\n",
       "    <tr>\n",
       "      <th>ct2</th>\n",
       "      <td>HINDELL</td>\n",
       "      <td>1</td>\n",
       "      <td>1</td>\n",
       "      <td>AUSTRALIA</td>\n",
       "      <td>MEOP-CTD_2015-05-31</td>\n",
       "      <td>MEOP-CTD_2020-01-02</td>\n",
       "      <td>01/20/0004</td>\n",
       "      <td>08/01/0004</td>\n",
       "      <td>1481.0</td>\n",
       "    </tr>\n",
       "    <tr>\n",
       "      <th>ct36</th>\n",
       "      <td>HINDELL</td>\n",
       "      <td>1</td>\n",
       "      <td>1</td>\n",
       "      <td>AUSTRALIA</td>\n",
       "      <td>MEOP-CTD_2015-05-31</td>\n",
       "      <td>MEOP-CTD_2020-01-02</td>\n",
       "      <td>12/26/0008</td>\n",
       "      <td>03/01/0009</td>\n",
       "      <td>3283.0</td>\n",
       "    </tr>\n",
       "    <tr>\n",
       "      <th>...</th>\n",
       "      <td>...</td>\n",
       "      <td>...</td>\n",
       "      <td>...</td>\n",
       "      <td>...</td>\n",
       "      <td>...</td>\n",
       "      <td>...</td>\n",
       "      <td>...</td>\n",
       "      <td>...</td>\n",
       "      <td>...</td>\n",
       "    </tr>\n",
       "    <tr>\n",
       "      <th>ft33</th>\n",
       "      <td>HINDELL</td>\n",
       "      <td>1</td>\n",
       "      <td>0</td>\n",
       "      <td>AUSTRALIA</td>\n",
       "      <td>NaN</td>\n",
       "      <td>NaN</td>\n",
       "      <td>NaT</td>\n",
       "      <td>NaT</td>\n",
       "      <td>NaN</td>\n",
       "    </tr>\n",
       "    <tr>\n",
       "      <th>ft34</th>\n",
       "      <td>HINDELL</td>\n",
       "      <td>1</td>\n",
       "      <td>0</td>\n",
       "      <td>AUSTRALIA</td>\n",
       "      <td>NaN</td>\n",
       "      <td>NaN</td>\n",
       "      <td>NaT</td>\n",
       "      <td>NaT</td>\n",
       "      <td>NaN</td>\n",
       "    </tr>\n",
       "    <tr>\n",
       "      <th>wd27</th>\n",
       "      <td>IMOS</td>\n",
       "      <td>1</td>\n",
       "      <td>0</td>\n",
       "      <td>AUSTRALIA</td>\n",
       "      <td>NaN</td>\n",
       "      <td>NaN</td>\n",
       "      <td>NaT</td>\n",
       "      <td>NaT</td>\n",
       "      <td>NaN</td>\n",
       "    </tr>\n",
       "    <tr>\n",
       "      <th>wd28</th>\n",
       "      <td>KOPRI</td>\n",
       "      <td>1</td>\n",
       "      <td>0</td>\n",
       "      <td>KOREA</td>\n",
       "      <td>NaN</td>\n",
       "      <td>NaN</td>\n",
       "      <td>NaT</td>\n",
       "      <td>NaT</td>\n",
       "      <td>NaN</td>\n",
       "    </tr>\n",
       "    <tr>\n",
       "      <th>ct175</th>\n",
       "      <td>XTOPHE</td>\n",
       "      <td>1</td>\n",
       "      <td>0</td>\n",
       "      <td>FRANCE</td>\n",
       "      <td>NaN</td>\n",
       "      <td>NaN</td>\n",
       "      <td>NaT</td>\n",
       "      <td>NaT</td>\n",
       "      <td>NaN</td>\n",
       "    </tr>\n",
       "  </tbody>\n",
       "</table>\n",
       "<p>332 rows × 9 columns</p>\n",
       "</div>"
      ],
      "text/plain": [
       "                 PI_CODE  PROCESS  PUBLIC    COUNTRY        FIRST_VERSION  \\\n",
       "DEPLOYMENT_CODE                                                             \n",
       "wd04             HINDELL        1       1  AUSTRALIA  MEOP-CTD_2016-07-12   \n",
       "awru1            HINDELL        1       1  AUSTRALIA  MEOP-CTD_2015-05-31   \n",
       "ct149            HINDELL        1       1  AUSTRALIA  MEOP-CTD_2020-01-02   \n",
       "ct2              HINDELL        1       1  AUSTRALIA  MEOP-CTD_2015-05-31   \n",
       "ct36             HINDELL        1       1  AUSTRALIA  MEOP-CTD_2015-05-31   \n",
       "...                  ...      ...     ...        ...                  ...   \n",
       "ft33             HINDELL        1       0  AUSTRALIA                  NaN   \n",
       "ft34             HINDELL        1       0  AUSTRALIA                  NaN   \n",
       "wd27                IMOS        1       0  AUSTRALIA                  NaN   \n",
       "wd28               KOPRI        1       0      KOREA                  NaN   \n",
       "ct175             XTOPHE        1       0     FRANCE                  NaN   \n",
       "\n",
       "                        LAST_VERSION  START_DATE    END_DATE  START_DATE_JUL  \n",
       "DEPLOYMENT_CODE                                                               \n",
       "wd04             MEOP-CTD_2020-01-02  03/26/0011  10/08/0011          4103.0  \n",
       "awru1            MEOP-CTD_2020-01-02  02/12/0007  10/03/0007          2600.0  \n",
       "ct149            MEOP-CTD_2020-01-02  12/20/0018         NaT          6929.0  \n",
       "ct2              MEOP-CTD_2020-01-02  01/20/0004  08/01/0004          1481.0  \n",
       "ct36             MEOP-CTD_2020-01-02  12/26/0008  03/01/0009          3283.0  \n",
       "...                              ...         ...         ...             ...  \n",
       "ft33                             NaN         NaT         NaT             NaN  \n",
       "ft34                             NaN         NaT         NaT             NaN  \n",
       "wd27                             NaN         NaT         NaT             NaN  \n",
       "wd28                             NaN         NaT         NaT             NaN  \n",
       "ct175                            NaN         NaT         NaT             NaN  \n",
       "\n",
       "[332 rows x 9 columns]"
      ]
     },
     "execution_count": 7,
     "metadata": {},
     "output_type": "execute_result"
    }
   ],
   "source": [
    "import meop_metadata\n",
    "meop_metadata.read_list_deployment()"
   ]
  },
  {
   "cell_type": "code",
   "execution_count": 8,
   "metadata": {
    "tags": []
   },
   "outputs": [
    {
     "data": {
      "text/html": [
       "<div>\n",
       "<style scoped>\n",
       "    .dataframe tbody tr th:only-of-type {\n",
       "        vertical-align: middle;\n",
       "    }\n",
       "\n",
       "    .dataframe tbody tr th {\n",
       "        vertical-align: top;\n",
       "    }\n",
       "\n",
       "    .dataframe thead th {\n",
       "        text-align: right;\n",
       "    }\n",
       "</style>\n",
       "<table border=\"1\" class=\"dataframe\">\n",
       "  <thead>\n",
       "    <tr style=\"text-align: right;\">\n",
       "      <th></th>\n",
       "      <th>smru_platform_code</th>\n",
       "      <th>instr_id</th>\n",
       "      <th>year</th>\n",
       "      <th>period</th>\n",
       "      <th>continuous</th>\n",
       "      <th>prefix</th>\n",
       "    </tr>\n",
       "  </thead>\n",
       "  <tbody>\n",
       "    <tr>\n",
       "      <th>0</th>\n",
       "      <td>ct96-02-13</td>\n",
       "      <td>12554</td>\n",
       "      <td>2013</td>\n",
       "      <td>moult</td>\n",
       "      <td>0</td>\n",
       "      <td>NaN</td>\n",
       "    </tr>\n",
       "    <tr>\n",
       "      <th>1</th>\n",
       "      <td>ct96-03-13</td>\n",
       "      <td>12555</td>\n",
       "      <td>2013</td>\n",
       "      <td>moult</td>\n",
       "      <td>0</td>\n",
       "      <td>NaN</td>\n",
       "    </tr>\n",
       "    <tr>\n",
       "      <th>2</th>\n",
       "      <td>ct96-09-13</td>\n",
       "      <td>12564</td>\n",
       "      <td>2013</td>\n",
       "      <td>moult</td>\n",
       "      <td>0</td>\n",
       "      <td>NaN</td>\n",
       "    </tr>\n",
       "    <tr>\n",
       "      <th>3</th>\n",
       "      <td>ct96-10-13</td>\n",
       "      <td>12565</td>\n",
       "      <td>2013</td>\n",
       "      <td>moult</td>\n",
       "      <td>0</td>\n",
       "      <td>NaN</td>\n",
       "    </tr>\n",
       "    <tr>\n",
       "      <th>4</th>\n",
       "      <td>ct96-16-13</td>\n",
       "      <td>12569</td>\n",
       "      <td>2013</td>\n",
       "      <td>moult</td>\n",
       "      <td>0</td>\n",
       "      <td>NaN</td>\n",
       "    </tr>\n",
       "    <tr>\n",
       "      <th>...</th>\n",
       "      <td>...</td>\n",
       "      <td>...</td>\n",
       "      <td>...</td>\n",
       "      <td>...</td>\n",
       "      <td>...</td>\n",
       "      <td>...</td>\n",
       "    </tr>\n",
       "    <tr>\n",
       "      <th>195</th>\n",
       "      <td>ct159-052-BAT-19</td>\n",
       "      <td>15052</td>\n",
       "      <td>2020</td>\n",
       "      <td>reproduction</td>\n",
       "      <td>1</td>\n",
       "      <td>NaN</td>\n",
       "    </tr>\n",
       "    <tr>\n",
       "      <th>196</th>\n",
       "      <td>ct158-309-BAT-15</td>\n",
       "      <td>13309</td>\n",
       "      <td>2020</td>\n",
       "      <td>moult</td>\n",
       "      <td>1</td>\n",
       "      <td>NaN</td>\n",
       "    </tr>\n",
       "    <tr>\n",
       "      <th>197</th>\n",
       "      <td>ct158-310-BAT-15</td>\n",
       "      <td>13310</td>\n",
       "      <td>2020</td>\n",
       "      <td>moult</td>\n",
       "      <td>1</td>\n",
       "      <td>NaN</td>\n",
       "    </tr>\n",
       "    <tr>\n",
       "      <th>198</th>\n",
       "      <td>ct158-198-19</td>\n",
       "      <td>15198</td>\n",
       "      <td>2020</td>\n",
       "      <td>moult</td>\n",
       "      <td>1</td>\n",
       "      <td>NaN</td>\n",
       "    </tr>\n",
       "    <tr>\n",
       "      <th>199</th>\n",
       "      <td>ct158-199-19</td>\n",
       "      <td>15199</td>\n",
       "      <td>2020</td>\n",
       "      <td>moult</td>\n",
       "      <td>1</td>\n",
       "      <td>NaN</td>\n",
       "    </tr>\n",
       "  </tbody>\n",
       "</table>\n",
       "<p>200 rows × 6 columns</p>\n",
       "</div>"
      ],
      "text/plain": [
       "    smru_platform_code instr_id  year        period  continuous prefix\n",
       "0           ct96-02-13    12554  2013         moult           0    NaN\n",
       "1           ct96-03-13    12555  2013         moult           0    NaN\n",
       "2           ct96-09-13    12564  2013         moult           0    NaN\n",
       "3           ct96-10-13    12565  2013         moult           0    NaN\n",
       "4           ct96-16-13    12569  2013         moult           0    NaN\n",
       "..                 ...      ...   ...           ...         ...    ...\n",
       "195   ct159-052-BAT-19    15052  2020  reproduction           1    NaN\n",
       "196   ct158-309-BAT-15    13309  2020         moult           1    NaN\n",
       "197   ct158-310-BAT-15    13310  2020         moult           1    NaN\n",
       "198       ct158-198-19    15198  2020         moult           1    NaN\n",
       "199       ct158-199-19    15199  2020         moult           1    NaN\n",
       "\n",
       "[200 rows x 6 columns]"
      ]
     },
     "execution_count": 8,
     "metadata": {},
     "output_type": "execute_result"
    }
   ],
   "source": [
    "meop_metadata.read_list_deployment_hr()"
   ]
  },
  {
   "cell_type": "markdown",
   "metadata": {},
   "source": [
    "## Process one tag"
   ]
  },
  {
   "cell_type": "code",
   "execution_count": 11,
   "metadata": {
    "tags": []
   },
   "outputs": [
    {
     "name": "stdout",
     "output_type": "stream",
     "text": [
      "tu117_FL_ODV.txt\n",
      "tu117_ODV.txt\n",
      "deployment_code = 'tu117';\n",
      "\n",
      "fusion_profilTS_profilFL(deployment_code,conf.rawdir);\n",
      "\n"
     ]
    }
   ],
   "source": [
    "deployment = 'tu117'\n",
    "meop_process.import_raw_data(deployment=deployment)"
   ]
  },
  {
   "cell_type": "code",
   "execution_count": 17,
   "metadata": {
    "tags": []
   },
   "outputs": [
    {
     "name": "stdout",
     "output_type": "stream",
     "text": [
      "Process deployment :tu117\n",
      "\n",
      "conf = init_mirounga;\n",
      "remove_deployment(conf,EXP,one_smru_name);\n",
      "\n",
      "create_ncargo(conf,EXP,one_smru_name);\n",
      "Process EXP=tu117\n",
      "\t24 tags\n",
      "\t4558 profiles\n",
      "  tu117-611-22: 0 profiles and 11 Sprofiles removed\n",
      "  tu117-612-22: 0 profiles and 2 Sprofiles removed\n",
      "  tu117-614-22: 0 profiles and 6 Sprofiles removed\n",
      "  tu117-616-22: 0 profiles and 8 Sprofiles removed\n",
      "Tag tu117-617-22 lr0 removed\n",
      "  tu117-664-22: 0 profiles and 14 Sprofiles removed\n",
      "  tu117-670-22: 0 profiles and 19 Sprofiles removed\n",
      "  tu117-671-22: 0 profiles and 7 Sprofiles removed\n",
      "  tu117-672-22: 0 profiles and 11 Sprofiles removed\n",
      "  tu117-673-22: 0 profiles and 11 Sprofiles removed\n",
      "  tu117-674-22: 0 profiles and 2 Sprofiles removed\n",
      "  tu117-675-22: 0 profiles and 0 Sprofiles removed\n",
      "  tu117-676-22: 0 profiles and 2 Sprofiles removed\n",
      "  tu117-677-22: 0 profiles and 5 Sprofiles removed\n",
      "  tu117-678-22: 0 profiles and 3 Sprofiles removed\n",
      "  tu117-679-22: 0 profiles and 24 Sprofiles removed\n",
      "  tu117-681-22: 0 profiles and 14 Sprofiles removed\n",
      "  tu117-684-22: 0 profiles and 2 Sprofiles removed\n",
      "  tu117-685-22: 0 profiles and 9 Sprofiles removed\n",
      "  tu117-686-22: 0 profiles and 6 Sprofiles removed\n",
      "  tu117-687-22: 0 profiles and 8 Sprofiles removed\n",
      "  tu117-688-22: 1 profiles and 6 Sprofiles removed\n",
      "  tu117-689-22: 0 profiles and 3 Sprofiles removed\n",
      "  tu117-751-22: 0 profiles and 4 Sprofiles removed\n",
      "\n",
      "create_fr0(conf,EXP,one_smru_name);\n",
      "\n",
      "create_fr0_without_lr0(conf,EXP,one_smru_name);\n",
      "\n",
      "update_metadata(conf,EXP,one_smru_name);\n",
      "\n",
      "apply_adjustments(conf,EXP,one_smru_name);\n",
      "\n",
      "apply_tlc(conf,EXP,one_smru_name);\n",
      "\n",
      "apply_tlc_fr(conf,EXP,one_smru_name);\n",
      "\n"
     ]
    },
    {
     "data": {
      "text/plain": [
       "True"
      ]
     },
     "execution_count": 17,
     "metadata": {},
     "output_type": "execute_result"
    }
   ],
   "source": [
    "meop_process.process_tags(deployment=deployment)"
   ]
  },
  {
   "cell_type": "code",
   "execution_count": 18,
   "metadata": {
    "tags": []
   },
   "outputs": [
    {
     "name": "stdout",
     "output_type": "stream",
     "text": [
      "conf = init_mirounga;\n",
      "generate_plot2(conf,EXP,one_smru_name);\n",
      "plot diag tu117: lr0, raw\n",
      "plot diag tu117: lr1, adj\n",
      "plot diag tu117: hr1, adj\n",
      "\n"
     ]
    },
    {
     "data": {
      "text/plain": [
       "True"
      ]
     },
     "execution_count": 18,
     "metadata": {},
     "output_type": "execute_result"
    }
   ],
   "source": [
    "meop_process.generate_doc_latex(deployment=deployment)"
   ]
  },
  {
   "cell_type": "code",
   "execution_count": null,
   "metadata": {
    "tags": []
   },
   "outputs": [
    {
     "name": "stdout",
     "output_type": "stream",
     "text": [
      "conf = init_mirounga;\n",
      "generate_plot1(conf,EXP,one_smru_name);\n"
     ]
    }
   ],
   "source": [
    "meop_process.generate_calibration_plots(deployment=deployment)"
   ]
  },
  {
   "cell_type": "code",
   "execution_count": null,
   "metadata": {
    "tags": []
   },
   "outputs": [],
   "source": [
    "meop_process.create_hr2(deployment=deployment)"
   ]
  },
  {
   "cell_type": "code",
   "execution_count": null,
   "metadata": {},
   "outputs": [],
   "source": []
  }
 ],
 "metadata": {
  "kernelspec": {
   "display_name": "Python [conda env:python_matlab]",
   "language": "python",
   "name": "conda-env-python_matlab-py"
  },
  "language_info": {
   "codemirror_mode": {
    "name": "ipython",
    "version": 3
   },
   "file_extension": ".py",
   "mimetype": "text/x-python",
   "name": "python",
   "nbconvert_exporter": "python",
   "pygments_lexer": "ipython3",
   "version": "3.8.16"
  }
 },
 "nbformat": 4,
 "nbformat_minor": 4
}
