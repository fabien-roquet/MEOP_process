{
 "cells": [
  {
   "cell_type": "markdown",
   "metadata": {},
   "source": [
    "# Add a deployment"
   ]
  },
  {
   "cell_type": "code",
   "execution_count": 4,
   "metadata": {},
   "outputs": [],
   "source": [
    "import meop_process\n",
    "import numpy as np\n",
    "import pandas as pd\n",
    "import xarray as xr\n",
    "import matplotlib.pyplot as plt\n",
    "from importlib import reload\n",
    "import meop\n",
    "import meop_metadata\n",
    "import meop_filenames\n",
    "import meop_plot_data"
   ]
  },
  {
   "cell_type": "markdown",
   "metadata": {},
   "source": [
    "## list of deployment_code"
   ]
  },
  {
   "cell_type": "code",
   "execution_count": 65,
   "metadata": {},
   "outputs": [],
   "source": [
    "# list of deployments to add\n",
    "list_deployment_code = ['ct63','ct74','ct88','ct85','ct119','ct150','ct156','wd16','wd17']"
   ]
  },
  {
   "cell_type": "code",
   "execution_count": 66,
   "metadata": {},
   "outputs": [],
   "source": [
    "# load list_deployment\n",
    "df = meop_metadata.read_list_deployment()"
   ]
  },
  {
   "cell_type": "code",
   "execution_count": 67,
   "metadata": {},
   "outputs": [
    {
     "name": "stdout",
     "output_type": "stream",
     "text": [
      "ct63  in MEOP-CTD\n",
      "ct74  in MEOP-CTD\n",
      "ct88  in MEOP-CTD\n",
      "ct85  in MEOP-CTD\n",
      "ct119  in MEOP-CTD\n",
      "ct150  in MEOP-CTD\n",
      "ct156  in MEOP-CTD\n",
      "wd16  in MEOP-CTD\n",
      "wd17  in MEOP-CTD\n"
     ]
    }
   ],
   "source": [
    "for deployment_code in list_deployment_code:\n",
    "    if deployment_code in df.index:\n",
    "        print(deployment_code,' in MEOP-CTD')\n",
    "    else:\n",
    "        print(deployment_code,' not in MEOP-CTD')"
   ]
  },
  {
   "cell_type": "code",
   "execution_count": 68,
   "metadata": {},
   "outputs": [
    {
     "data": {
      "text/html": [
       "<div>\n",
       "<style scoped>\n",
       "    .dataframe tbody tr th:only-of-type {\n",
       "        vertical-align: middle;\n",
       "    }\n",
       "\n",
       "    .dataframe tbody tr th {\n",
       "        vertical-align: top;\n",
       "    }\n",
       "\n",
       "    .dataframe thead th {\n",
       "        text-align: right;\n",
       "    }\n",
       "</style>\n",
       "<table border=\"1\" class=\"dataframe\">\n",
       "  <thead>\n",
       "    <tr style=\"text-align: right;\">\n",
       "      <th></th>\n",
       "      <th>PI_CODE</th>\n",
       "      <th>PROCESS</th>\n",
       "      <th>PUBLIC</th>\n",
       "      <th>COUNTRY</th>\n",
       "      <th>FIRST_VERSION</th>\n",
       "      <th>LAST_VERSION</th>\n",
       "      <th>START_DATE</th>\n",
       "      <th>END_DATE</th>\n",
       "      <th>START_DATE_JUL</th>\n",
       "    </tr>\n",
       "    <tr>\n",
       "      <th>DEPLOYMENT_CODE</th>\n",
       "      <th></th>\n",
       "      <th></th>\n",
       "      <th></th>\n",
       "      <th></th>\n",
       "      <th></th>\n",
       "      <th></th>\n",
       "      <th></th>\n",
       "      <th></th>\n",
       "      <th></th>\n",
       "    </tr>\n",
       "  </thead>\n",
       "  <tbody>\n",
       "    <tr>\n",
       "      <th>ct119</th>\n",
       "      <td>IMOS</td>\n",
       "      <td>1</td>\n",
       "      <td>1</td>\n",
       "      <td>AUSTRALIA</td>\n",
       "      <td>MEOP-CTD_2017-11-11</td>\n",
       "      <td>MEOP-CTD_2020-01-02</td>\n",
       "      <td>01/16/0016</td>\n",
       "      <td>NaT</td>\n",
       "      <td>5860.0</td>\n",
       "    </tr>\n",
       "    <tr>\n",
       "      <th>ct150</th>\n",
       "      <td>IMOS</td>\n",
       "      <td>1</td>\n",
       "      <td>1</td>\n",
       "      <td>AUSTRALIA</td>\n",
       "      <td>MEOP-CTD_2020-01-02</td>\n",
       "      <td>MEOP-CTD_2020-01-02</td>\n",
       "      <td>11/20/0018</td>\n",
       "      <td>NaT</td>\n",
       "      <td>6899.0</td>\n",
       "    </tr>\n",
       "    <tr>\n",
       "      <th>ct85</th>\n",
       "      <td>IMOS</td>\n",
       "      <td>1</td>\n",
       "      <td>1</td>\n",
       "      <td>AUSTRALIA</td>\n",
       "      <td>MEOP-CTD_2015-05-31</td>\n",
       "      <td>MEOP-CTD_2020-01-02</td>\n",
       "      <td>01/27/0014</td>\n",
       "      <td>12/04/0014</td>\n",
       "      <td>5141.0</td>\n",
       "    </tr>\n",
       "    <tr>\n",
       "      <th>ct156</th>\n",
       "      <td>IMOS</td>\n",
       "      <td>1</td>\n",
       "      <td>0</td>\n",
       "      <td>AUSTRALIA</td>\n",
       "      <td>NaN</td>\n",
       "      <td>NaN</td>\n",
       "      <td>NaT</td>\n",
       "      <td>NaT</td>\n",
       "      <td>NaN</td>\n",
       "    </tr>\n",
       "    <tr>\n",
       "      <th>wd16</th>\n",
       "      <td>AWI</td>\n",
       "      <td>1</td>\n",
       "      <td>0</td>\n",
       "      <td>GERMANY</td>\n",
       "      <td>NaN</td>\n",
       "      <td>NaN</td>\n",
       "      <td>NaT</td>\n",
       "      <td>NaT</td>\n",
       "      <td>NaN</td>\n",
       "    </tr>\n",
       "    <tr>\n",
       "      <th>wd17</th>\n",
       "      <td>AWI</td>\n",
       "      <td>1</td>\n",
       "      <td>0</td>\n",
       "      <td>GERMANY</td>\n",
       "      <td>NaN</td>\n",
       "      <td>NaN</td>\n",
       "      <td>NaT</td>\n",
       "      <td>NaT</td>\n",
       "      <td>NaN</td>\n",
       "    </tr>\n",
       "    <tr>\n",
       "      <th>ct63</th>\n",
       "      <td>COSTA</td>\n",
       "      <td>1</td>\n",
       "      <td>1</td>\n",
       "      <td>USA</td>\n",
       "      <td>MEOP-CTD_2015-05-31</td>\n",
       "      <td>MEOP-CTD_2020-01-02</td>\n",
       "      <td>01/25/0010</td>\n",
       "      <td>12/01/0010</td>\n",
       "      <td>3678.0</td>\n",
       "    </tr>\n",
       "    <tr>\n",
       "      <th>ct74</th>\n",
       "      <td>COSTA</td>\n",
       "      <td>1</td>\n",
       "      <td>1</td>\n",
       "      <td>USA</td>\n",
       "      <td>MEOP-CTD_2015-05-31</td>\n",
       "      <td>MEOP-CTD_2020-01-02</td>\n",
       "      <td>01/21/0011</td>\n",
       "      <td>12/16/0011</td>\n",
       "      <td>4039.0</td>\n",
       "    </tr>\n",
       "    <tr>\n",
       "      <th>ct88</th>\n",
       "      <td>COSTA</td>\n",
       "      <td>1</td>\n",
       "      <td>1</td>\n",
       "      <td>USA</td>\n",
       "      <td>MEOP-CTD_2015-05-31</td>\n",
       "      <td>MEOP-CTD_2020-01-02</td>\n",
       "      <td>01/26/0012</td>\n",
       "      <td>11/01/0012</td>\n",
       "      <td>4409.0</td>\n",
       "    </tr>\n",
       "  </tbody>\n",
       "</table>\n",
       "</div>"
      ],
      "text/plain": [
       "                PI_CODE  PROCESS  PUBLIC    COUNTRY        FIRST_VERSION  \\\n",
       "DEPLOYMENT_CODE                                                            \n",
       "ct119              IMOS        1       1  AUSTRALIA  MEOP-CTD_2017-11-11   \n",
       "ct150              IMOS        1       1  AUSTRALIA  MEOP-CTD_2020-01-02   \n",
       "ct85               IMOS        1       1  AUSTRALIA  MEOP-CTD_2015-05-31   \n",
       "ct156              IMOS        1       0  AUSTRALIA                  NaN   \n",
       "wd16                AWI        1       0    GERMANY                  NaN   \n",
       "wd17                AWI        1       0    GERMANY                  NaN   \n",
       "ct63              COSTA        1       1        USA  MEOP-CTD_2015-05-31   \n",
       "ct74              COSTA        1       1        USA  MEOP-CTD_2015-05-31   \n",
       "ct88              COSTA        1       1        USA  MEOP-CTD_2015-05-31   \n",
       "\n",
       "                        LAST_VERSION  START_DATE    END_DATE  START_DATE_JUL  \n",
       "DEPLOYMENT_CODE                                                               \n",
       "ct119            MEOP-CTD_2020-01-02  01/16/0016         NaT          5860.0  \n",
       "ct150            MEOP-CTD_2020-01-02  11/20/0018         NaT          6899.0  \n",
       "ct85             MEOP-CTD_2020-01-02  01/27/0014  12/04/0014          5141.0  \n",
       "ct156                            NaN         NaT         NaT             NaN  \n",
       "wd16                             NaN         NaT         NaT             NaN  \n",
       "wd17                             NaN         NaT         NaT             NaN  \n",
       "ct63             MEOP-CTD_2020-01-02  01/25/0010  12/01/0010          3678.0  \n",
       "ct74             MEOP-CTD_2020-01-02  01/21/0011  12/16/0011          4039.0  \n",
       "ct88             MEOP-CTD_2020-01-02  01/26/0012  11/01/0012          4409.0  "
      ]
     },
     "execution_count": 68,
     "metadata": {},
     "output_type": "execute_result"
    }
   ],
   "source": [
    "df[df.index.isin(list_deployment_code)]"
   ]
  },
  {
   "cell_type": "markdown",
   "metadata": {},
   "source": [
    "## Load list of profiles"
   ]
  },
  {
   "cell_type": "code",
   "execution_count": 70,
   "metadata": {},
   "outputs": [],
   "source": [
    "df_list = []\n",
    "for deployment_code in list_deployment_code:\n",
    "    list_fname_prof = meop_filenames.list_fname_prof(deployment=deployment_code,qf='hr1')\n",
    "    if not list_fname_prof:\n",
    "        print(deployment_code,' not processed')\n",
    "    for fname_prof in list_fname_prof:\n",
    "        with meop.open_dataset(fname_prof) as ds:\n",
    "            df_list.append( ds.list_metadata() )"
   ]
  },
  {
   "cell_type": "code",
   "execution_count": 71,
   "metadata": {},
   "outputs": [],
   "source": [
    "df = pd.concat(df_list, ignore_index=True)"
   ]
  },
  {
   "cell_type": "code",
   "execution_count": 72,
   "metadata": {},
   "outputs": [
    {
     "data": {
      "text/plain": [
       "(<Figure size 1080x1080 with 1 Axes>,\n",
       " <cartopy.mpl.geoaxes.GeoAxesSubplot at 0x7fab322ac990>)"
      ]
     },
     "execution_count": 72,
     "metadata": {},
     "output_type": "execute_result"
    },
    {
     "data": {
      "image/png": "[encoded data removed]",
      "text/plain": [
       "<Figure size 1080x1080 with 1 Axes>"
      ]
     },
     "metadata": {
      "needs_background": "light"
     },
     "output_type": "display_data"
    }
   ],
   "source": [
    "reload(meop_plot_data)\n",
    "meop_plot_data.plot_map_deployments(df,legend=False)"
   ]
  },
  {
   "cell_type": "code",
   "execution_count": 2,
   "metadata": {},
   "outputs": [],
   "source": [
    "list_deployment_code_process = ['ct150','ct156','wd16','wd17']"
   ]
  },
  {
   "cell_type": "markdown",
   "metadata": {},
   "source": [
    "## Process deployments"
   ]
  },
  {
   "cell_type": "code",
   "execution_count": 8,
   "metadata": {},
   "outputs": [],
   "source": [
    "list_deployment_code_process = ['ct150','ct156','wd16','wd17']"
   ]
  },
  {
   "cell_type": "code",
   "execution_count": 73,
   "metadata": {},
   "outputs": [
    {
     "name": "stdout",
     "output_type": "stream",
     "text": [
      "matlab started\n",
      "cd /media/disk2/roquet/MEOP_process;\n",
      "\n",
      "PWD: /media/disk2/roquet/MEOP_process\n",
      "conf = init_mirounga;\n",
      "\n"
     ]
    }
   ],
   "source": [
    "meop_process.start_matlab()\n",
    "conf = meop_process.init_mirounga()"
   ]
  },
  {
   "cell_type": "code",
   "execution_count": 84,
   "metadata": {},
   "outputs": [
    {
     "name": "stdout",
     "output_type": "stream",
     "text": [
      "ct150_ODV.txt\n",
      "ct150_FL_ODV.txt\n",
      "deployment_code = 'ct150';\n",
      "\n",
      "fusion_profilTS_profilFL(deployment_code,conf.rawdir);\n",
      "\n",
      "Process deployment :ct150\n",
      "\n",
      "conf = init_mirounga;\n",
      "\n",
      "remove_deployment(conf,EXP,one_smru_name);\n",
      "\n",
      "create_ncargo(conf,EXP,one_smru_name);\n",
      "Process EXP=ct150\n",
      "\t17 tags\n",
      "\t6681 profiles\n",
      "  ct150-354BAT-16: 1 profiles and 13 Sprofiles removed\n",
      "  ct150-360BAT-16: 11 profiles and 17 Sprofiles removed\n",
      "  ct150-416BAT-16: 3 profiles and 10 Sprofiles removed\n",
      "  ct150-422BAT-16: 1 profiles and 18 Sprofiles removed\n",
      "  ct150-441BAT-16: 14 profiles and 73 Sprofiles removed\n",
      "  ct150-971-BULL-18: 27 profiles and 28 Sprofiles removed\n",
      "  ct150-972-BULL-18: 4 profiles and 11 Sprofiles removed\n",
      "  ct150-973-BULL-18: 4 profiles and 2 Sprofiles removed\n",
      "  ct150-974-VERT-18: 3 profiles and 16 Sprofiles removed\n",
      "  ct150-975-VERT-18: 0 profiles and 11 Sprofiles removed\n",
      "  ct150-976-VERT-18: 2 profiles and 29 Sprofiles removed\n",
      "  ct150-977-VERT-18: 1 profiles and 14 Sprofiles removed\n",
      "  ct150-978-VERT-18: 2 profiles and 11 Sprofiles removed\n",
      "Tag ct150-979-VERT-18 lr0 removed\n",
      "  ct150-979-VERT-18: 0 profiles and 3 Sprofiles removed\n",
      "  ct150-980-BULL-18: 1 profiles and 11 Sprofiles removed\n",
      "  ct150-981-BULL-18: 1 profiles and 2 Sprofiles removed\n",
      "  ct150-982-BULL-18: 1 profiles and 18 Sprofiles removed\n",
      "\n",
      "create_fr0(conf,EXP,one_smru_name);\n",
      "\n",
      "create_fr0_without_lr0(conf,EXP,one_smru_name);\n",
      "\n",
      "update_metadata(conf,EXP,one_smru_name);\n",
      "\n",
      "apply_adjustments(conf,EXP,one_smru_name);\n",
      "\n",
      "apply_tlc(conf,EXP,one_smru_name);\n",
      "\n",
      "apply_tlc_fr(conf,EXP,one_smru_name);\n",
      "\n"
     ]
    },
    {
     "data": {
      "text/plain": [
       "True"
      ]
     },
     "execution_count": 84,
     "metadata": {},
     "output_type": "execute_result"
    }
   ],
   "source": [
    "deployment = 'ct150'\n",
    "#meop_process.import_raw_data(deployment=deployment)\n",
    "meop_process.process_tags(deployment=deployment)"
   ]
  },
  {
   "cell_type": "code",
   "execution_count": 85,
   "metadata": {},
   "outputs": [
    {
     "name": "stdout",
     "output_type": "stream",
     "text": [
      "ct156_ODV.txt\n",
      "ct156_FL_ODV.txt\n",
      "deployment_code = 'ct156';\n",
      "\n",
      "fusion_profilTS_profilFL(deployment_code,conf.rawdir);\n",
      "\n",
      "Process deployment :ct156\n",
      "\n",
      "conf = init_mirounga;\n",
      "\n",
      "remove_deployment(conf,EXP,one_smru_name);\n",
      "\n",
      "create_ncargo(conf,EXP,one_smru_name);\n",
      "Process EXP=ct156\n",
      "\t18 tags\n",
      "\t8439 profiles\n",
      "  ct156-185BAT-15: 0 profiles and 11 Sprofiles removed\n",
      "Tag ct156-190BAT-15 lr0 removed\n",
      "  ct156-190BAT-15: 2 profiles and 57 Sprofiles removed\n",
      "  ct156-226-VERT-20: 6 profiles and 45 Sprofiles removed\n",
      "  ct156-227-VERT-20: 1 profiles and 376 Sprofiles removed\n",
      "  ct156-228-VERT-20: 2 profiles and 39 Sprofiles removed\n",
      "  ct156-229-VERT-20: 8 profiles and 17 Sprofiles removed\n",
      "  ct156-230-VERT-20: 5 profiles and 13 Sprofiles removed\n",
      "  ct156-232-VERT-20: 0 profiles and 16 Sprofiles removed\n",
      "  ct156-234-VERT-20: 0 profiles and 4 Sprofiles removed\n",
      "  ct156-235-VERT-20: 0 profiles and 1 Sprofiles removed\n",
      "  ct156-237-VERT-20: 1 profiles and 28 Sprofiles removed\n",
      "  ct156-361BAT-16: 0 profiles and 11 Sprofiles removed\n",
      "  ct156-419BAT-16: 0 profiles and 28 Sprofiles removed\n",
      "  ct156-440BAT-16: 1 profiles and 5 Sprofiles removed\n",
      "Tag ct156-822BAT-08 lr0 removed\n",
      "  ct156-822BAT-08: 8 profiles and 350 Sprofiles removed\n",
      "  ct156-879BAT-12: 1 profiles and 5 Sprofiles removed\n",
      "  ct156-R763BAT-10: 0 profiles and 2 Sprofiles removed\n",
      "  ct156-R881BAT-09: 0 profiles and 4 Sprofiles removed\n",
      "\n",
      "create_fr0(conf,EXP,one_smru_name);\n",
      "\n",
      "create_fr0_without_lr0(conf,EXP,one_smru_name);\n",
      "\n",
      "update_metadata(conf,EXP,one_smru_name);\n",
      "\n",
      "apply_adjustments(conf,EXP,one_smru_name);\n",
      "\n",
      "apply_tlc(conf,EXP,one_smru_name);\n",
      "\n",
      "apply_tlc_fr(conf,EXP,one_smru_name);\n",
      "\n"
     ]
    },
    {
     "data": {
      "text/plain": [
       "True"
      ]
     },
     "execution_count": 85,
     "metadata": {},
     "output_type": "execute_result"
    }
   ],
   "source": [
    "deployment = 'ct156'\n",
    "#meop_process.import_raw_data(deployment=deployment)\n",
    "meop_process.process_tags(deployment=deployment)"
   ]
  },
  {
   "cell_type": "code",
   "execution_count": 30,
   "metadata": {},
   "outputs": [
    {
     "name": "stdout",
     "output_type": "stream",
     "text": [
      "wd16_FL_ODV.txt\n",
      "wd16_ODV.txt\n",
      "deployment_code = 'wd16';\n",
      "\n",
      "fusion_profilTS_profilFL(deployment_code,conf.rawdir);\n",
      "\n",
      "Process deployment :wd16\n",
      "\n",
      "conf = init_mirounga;\n",
      "\n",
      "remove_deployment(conf,EXP,one_smru_name);\n",
      "\n",
      "create_ncargo(conf,EXP,one_smru_name);\n",
      "Process EXP=wd16\n",
      "\t23 tags\n",
      "\t6972 profiles\n",
      "  wd16-329-20: 0 profiles and 27 Sprofiles removed\n",
      "  wd16-330-20: 0 profiles and 55 Sprofiles removed\n",
      "  wd16-333-20: 0 profiles and 28 Sprofiles removed\n",
      "  wd16-334-20: 0 profiles and 25 Sprofiles removed\n",
      "  wd16-335-20: 1 profiles and 62 Sprofiles removed\n",
      "  wd16-337-20: 1 profiles and 60 Sprofiles removed\n",
      "  wd16-343-20: 0 profiles and 45 Sprofiles removed\n",
      "  wd16-344-20: 0 profiles and 8 Sprofiles removed\n",
      "  wd16-345-20: 1 profiles and 42 Sprofiles removed\n",
      "Tag wd16-346-20 lr0 removed\n",
      "  wd16-347-20: 0 profiles and 29 Sprofiles removed\n",
      "Tag wd16-348-20 lr0 removed\n",
      "  wd16-349-20: 0 profiles and 70 Sprofiles removed\n",
      "  wd16-350-20: 0 profiles and 12 Sprofiles removed\n",
      "  wd16-351-20: 0 profiles and 19 Sprofiles removed\n",
      "  wd16-352-20: 0 profiles and 133 Sprofiles removed\n",
      "  wd16-353-20: 0 profiles and 3 Sprofiles removed\n",
      "Tag wd16-354-20 lr0 removed\n",
      "  wd16-369-20: 0 profiles and 39 Sprofiles removed\n",
      "Tag wd16-378-20 lr0 removed\n",
      "  wd16-G1-20: 0 profiles and 17 Sprofiles removed\n",
      "Tag wd16-G4-20 lr0 removed\n",
      "  wd16-G5-20: 0 profiles and 25 Sprofiles removed\n",
      "\n",
      "create_fr0(conf,EXP,one_smru_name);\n",
      "\n",
      "create_fr0_without_lr0(conf,EXP,one_smru_name);\n",
      "\n",
      "update_metadata(conf,EXP,one_smru_name);\n",
      "\n",
      "apply_adjustments(conf,EXP,one_smru_name);\n",
      "\n",
      "apply_tlc(conf,EXP,one_smru_name);\n",
      "\n",
      "apply_tlc_fr(conf,EXP,one_smru_name);\n",
      "\n"
     ]
    },
    {
     "data": {
      "text/plain": [
       "True"
      ]
     },
     "execution_count": 30,
     "metadata": {},
     "output_type": "execute_result"
    }
   ],
   "source": [
    "deployment = 'wd16'\n",
    "#meop_process.import_raw_data(deployment=deployment)\n",
    "meop_process.process_tags(deployment=deployment)"
   ]
  },
  {
   "cell_type": "code",
   "execution_count": 31,
   "metadata": {},
   "outputs": [
    {
     "name": "stdout",
     "output_type": "stream",
     "text": [
      "matlab already started\n",
      "cd /media/disk2/roquet/MEOP_process;\n",
      "\n",
      "PWD: /media/disk2/roquet/MEOP_process\n",
      "conf = init_mirounga;\n",
      "\n",
      "wd17_FL_ODV.txt\n",
      "wd17_ODV.txt\n",
      "deployment_code = 'wd17';\n",
      "\n",
      "fusion_profilTS_profilFL(deployment_code,conf.rawdir);\n",
      "\n",
      "Process deployment :wd17\n",
      "\n",
      "conf = init_mirounga;\n",
      "\n",
      "remove_deployment(conf,EXP,one_smru_name);\n",
      "\n",
      "create_ncargo(conf,EXP,one_smru_name);\n",
      "Process EXP=wd17\n",
      "\t8 tags\n",
      "\t2650 profiles\n",
      "Tag wd17-450-21 lr0 removed\n",
      "  wd17-452-21: 0 profiles and 18 Sprofiles removed\n",
      "  wd17-453-21: 0 profiles and 29 Sprofiles removed\n",
      "  wd17-454-21: 0 profiles and 63 Sprofiles removed\n",
      "  wd17-455-21: 0 profiles and 30 Sprofiles removed\n",
      "  wd17-456-21: 0 profiles and 45 Sprofiles removed\n",
      "  wd17-458-21: 0 profiles and 21 Sprofiles removed\n",
      "  wd17-459-21: 0 profiles and 96 Sprofiles removed\n",
      "\n",
      "create_fr0(conf,EXP,one_smru_name);\n",
      "\n",
      "create_fr0_without_lr0(conf,EXP,one_smru_name);\n",
      "\n",
      "update_metadata(conf,EXP,one_smru_name);\n",
      "\n",
      "apply_adjustments(conf,EXP,one_smru_name);\n",
      "\n",
      "apply_tlc(conf,EXP,one_smru_name);\n",
      "\n",
      "apply_tlc_fr(conf,EXP,one_smru_name);\n",
      "\n"
     ]
    },
    {
     "data": {
      "text/plain": [
       "True"
      ]
     },
     "execution_count": 31,
     "metadata": {},
     "output_type": "execute_result"
    }
   ],
   "source": [
    "deployment = 'wd17'\n",
    "#meop_process.import_raw_data(deployment=deployment)\n",
    "meop_process.process_tags(deployment=deployment)"
   ]
  },
  {
   "cell_type": "code",
   "execution_count": 32,
   "metadata": {},
   "outputs": [],
   "source": [
    "meop_process.stop_matlab()"
   ]
  },
  {
   "cell_type": "markdown",
   "metadata": {},
   "source": [
    "## Create diagnostic figures"
   ]
  },
  {
   "cell_type": "code",
   "execution_count": 75,
   "metadata": {},
   "outputs": [],
   "source": [
    "list_deployment_code_process = ['ct150','ct156','wd16','wd17']\n",
    "qf='hr1'\n",
    "\n",
    "for deployment in list_deployment_code_process:\n",
    "    list_fname_prof = meop_filenames.list_fname_prof(deployment=deployment,qf=qf)\n",
    "    plots_dir = meop_filenames.processdir / 'plots' / deployment\n",
    "    for fname_prof in list_fname_prof:\n",
    "        smru_name = meop_filenames.smru_name_from_fname_prof(fname_prof)\n",
    "        namefig = plots_dir / f'{smru_name}_{qf}_data_description.png'\n",
    "        with meop.open_dataset(fname_prof) as ds:    \n",
    "            ds.plot_data_tags(namefig = namefig)\n",
    "\n",
    "for deployment in list_deployment_code_process:\n",
    "    list_fname_prof = meop_filenames.list_fname_prof(deployment=deployment,qf=qf)\n",
    "    plots_dir = meop_filenames.processdir / 'plots' / deployment\n",
    "    for fname_prof in list_fname_prof:\n",
    "        smru_name = meop_filenames.smru_name_from_fname_prof(fname_prof)\n",
    "        namefig = plots_dir / f'{smru_name}_{qf}_data_sections.png'\n",
    "        with meop.open_dataset(fname_prof) as ds:    \n",
    "            ds.plot_sections(['TEMP','PSAL','SIG0'],SUFFIX_PARAM='_INTERP',rolling=4,density_threshold=0.03,namefig = namefig)"
   ]
  },
  {
   "cell_type": "code",
   "execution_count": null,
   "metadata": {},
   "outputs": [],
   "source": []
  },
  {
   "cell_type": "code",
   "execution_count": null,
   "metadata": {},
   "outputs": [],
   "source": []
  }
 ],
 "metadata": {
  "kernelspec": {
   "display_name": "Python 3",
   "language": "python",
   "name": "python3"
  },
  "language_info": {
   "codemirror_mode": {
    "name": "ipython",
    "version": 3
   },
   "file_extension": ".py",
   "mimetype": "text/x-python",
   "name": "python",
   "nbconvert_exporter": "python",
   "pygments_lexer": "ipython3",
   "version": "3.7.8"
  }
 },
 "nbformat": 4,
 "nbformat_minor": 4
}
