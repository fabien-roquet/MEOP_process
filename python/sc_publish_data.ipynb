{
 "cells": [
  {
   "cell_type": "markdown",
   "metadata": {},
   "source": [
    "# Publish data"
   ]
  },
  {
   "cell_type": "code",
   "execution_count": 8,
   "metadata": {},
   "outputs": [
    {
     "data": {
      "text/plain": [
       "<module 'meop_publish' from '/home/jupyter-froqu/GitHub/meop_qc/python_toolbox/meop_publish.py'>"
      ]
     },
     "execution_count": 8,
     "metadata": {},
     "output_type": "execute_result"
    }
   ],
   "source": [
    "import meop\n",
    "import meop_publish\n",
    "from importlib import reload\n",
    "reload(meop_publish)"
   ]
  },
  {
   "cell_type": "code",
   "execution_count": 6,
   "metadata": {},
   "outputs": [
    {
     "name": "stdout",
     "output_type": "stream",
     "text": [
      "Warning: the public directory where to store public data /media/dropbox/PUBLIC/public/MEOP-CTD_2020-10-20 is not empty. Risk of data corruption.\n",
      "AUSTRALIA\n",
      "UK\n",
      "NORWAY\n",
      "USA\n",
      "GERMANY\n",
      "CHINA\n",
      "FRANCE\n",
      "CANADA\n",
      "BRAZIL\n",
      "SOUTH-AFRICA\n",
      "SWEDEN\n"
     ]
    }
   ],
   "source": [
    "# first create public folder\n",
    "publish =False\n",
    "genplots=False\n",
    "folder_public = meop_publish.get_folder_public_name()\n",
    "meop_publish.publish_meop_ctd(folder_public, publish=publish, genplots=genplots)"
   ]
  },
  {
   "cell_type": "markdown",
   "metadata": {},
   "source": [
    "# !!!!! update name of MEOP-CTD database in netcdf file !!!"
   ]
  },
  {
   "cell_type": "code",
   "execution_count": null,
   "metadata": {},
   "outputs": [],
   "source": [
    "# run sc_maps_MEOP first\n",
    "import os\n",
    "\n",
    "os.command(f\"cp {meop.processdir / 'README_licenseODbl.txt'} {folder_public}\"\n",
    "os.command(f\"cp {meop.processdir / Global_distribution}_* {folder_public}\" \n",
    "os.command(f\"cp {meop.processdir / Regional_distribution}_* {folder_public}\" \n",
    "os.command(f\"cp {meop.processdir / 'list_profiles.csv'} {folder_public}\" \n",
    "os.command(f\"cp {meop.processdir / 'list_tags.csv'} {folder_public}\" \n",
    "os.command(f\"cp {meop.processdir / 'list_deployment.csv'} {folder_public}\"\n"
   ]
  },
  {
   "cell_type": "code",
   "execution_count": 20,
   "metadata": {},
   "outputs": [
    {
     "name": "stdout",
     "output_type": "stream",
     "text": [
      "tar -zcvf /media/dropbox/PUBLIC/public/MEOP-CTD_2020-10-20/UK.tgz /media/dropbox/PUBLIC/public/MEOP-CTD_2020-10-20/UK\n",
      "tar -zcvf /media/dropbox/PUBLIC/public/MEOP-CTD_2020-10-20/NORWAY.tgz /media/dropbox/PUBLIC/public/MEOP-CTD_2020-10-20/NORWAY\n",
      "tar -zcvf /media/dropbox/PUBLIC/public/MEOP-CTD_2020-10-20/USA.tgz /media/dropbox/PUBLIC/public/MEOP-CTD_2020-10-20/USA\n",
      "tar -zcvf /media/dropbox/PUBLIC/public/MEOP-CTD_2020-10-20/GERMANY.tgz /media/dropbox/PUBLIC/public/MEOP-CTD_2020-10-20/GERMANY\n",
      "tar -zcvf /media/dropbox/PUBLIC/public/MEOP-CTD_2020-10-20/CHINA.tgz /media/dropbox/PUBLIC/public/MEOP-CTD_2020-10-20/CHINA\n",
      "tar -zcvf /media/dropbox/PUBLIC/public/MEOP-CTD_2020-10-20/FRANCE.tgz /media/dropbox/PUBLIC/public/MEOP-CTD_2020-10-20/FRANCE\n",
      "tar -zcvf /media/dropbox/PUBLIC/public/MEOP-CTD_2020-10-20/CANADA.tgz /media/dropbox/PUBLIC/public/MEOP-CTD_2020-10-20/CANADA\n",
      "tar -zcvf /media/dropbox/PUBLIC/public/MEOP-CTD_2020-10-20/BRAZIL.tgz /media/dropbox/PUBLIC/public/MEOP-CTD_2020-10-20/BRAZIL\n",
      "tar -zcvf /media/dropbox/PUBLIC/public/MEOP-CTD_2020-10-20/SOUTH-AFRICA.tgz /media/dropbox/PUBLIC/public/MEOP-CTD_2020-10-20/SOUTH-AFRICA\n",
      "tar -zcvf /media/dropbox/PUBLIC/public/MEOP-CTD_2020-10-20/SWEDEN.tgz /media/dropbox/PUBLIC/public/MEOP-CTD_2020-10-20/SWEDEN\n"
     ]
    }
   ],
   "source": [
    "import os\n",
    "folder_public = meop_publish.get_folder_public_name()\n",
    "list_profiles, list_tags, list_deployments = meop.read_list_profiles(rebuild=False,verbose=False,public=True,Tdata=False)\n",
    "\n",
    "for COUNTRY in list_deployments.COUNTRY.unique():\n",
    "    if (folder_public / COUNTRY).exists() and (not (folder_public / f\"{COUNTRY}.tgz\").exists()):\n",
    "        bashCommand = f\"tar -zcvf {folder_public / (COUNTRY+'.tgz')} {folder_public / COUNTRY}\"\n",
    "        print(bashCommand)\n",
    "        os.system(bashCommand)\n"
   ]
  },
  {
   "cell_type": "code",
   "execution_count": null,
   "metadata": {},
   "outputs": [],
   "source": []
  }
 ],
 "metadata": {
  "kernelspec": {
   "display_name": "Python 3",
   "language": "python",
   "name": "python3"
  },
  "language_info": {
   "codemirror_mode": {
    "name": "ipython",
    "version": 3
   },
   "file_extension": ".py",
   "mimetype": "text/x-python",
   "name": "python",
   "nbconvert_exporter": "python",
   "pygments_lexer": "ipython3",
   "version": "3.7.8"
  }
 },
 "nbformat": 4,
 "nbformat_minor": 4
}
