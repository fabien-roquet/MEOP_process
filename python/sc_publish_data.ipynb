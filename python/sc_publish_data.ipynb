{
 "cells": [
  {
   "cell_type": "markdown",
   "metadata": {},
   "source": [
    "# Publish data"
   ]
  },
  {
   "cell_type": "code",
   "execution_count": 64,
   "metadata": {},
   "outputs": [],
   "source": [
    "from pathlib import Path\n",
    "import numpy as np\n",
    "import pandas as pd\n",
    "import xarray as xr\n",
    "import matplotlib.pyplot as plt\n",
    "\n",
    "import meop\n",
    "import meop_publish\n",
    "import meop_filenames\n",
    "import meop_metadata\n",
    "import meop_plot_data\n",
    "from importlib import reload\n"
   ]
  },
  {
   "cell_type": "code",
   "execution_count": 65,
   "metadata": {},
   "outputs": [
    {
     "data": {
      "text/plain": [
       "<module 'meop_publish' from '/media/disk2/roquet/MEOP_process/python/meop_publish.py'>"
      ]
     },
     "execution_count": 65,
     "metadata": {},
     "output_type": "execute_result"
    }
   ],
   "source": [
    "reload(meop)\n",
    "reload(meop_metadata)\n",
    "reload(meop_filenames)\n",
    "reload(meop_publish)"
   ]
  },
  {
   "cell_type": "code",
   "execution_count": 66,
   "metadata": {},
   "outputs": [
    {
     "data": {
      "text/plain": [
       "PosixPath('/home/jupyter-froqu/MEOP_process/public/MEOP-CTD_2021-10-26')"
      ]
     },
     "execution_count": 66,
     "metadata": {},
     "output_type": "execute_result"
    }
   ],
   "source": [
    "publicdir_CTD = meop_filenames.publicdir /meop_filenames.version\n",
    "publicdir_CTD"
   ]
  },
  {
   "cell_type": "code",
   "execution_count": 71,
   "metadata": {},
   "outputs": [
    {
     "name": "stdout",
     "output_type": "stream",
     "text": [
      "Warning: the public directory where to store public data /home/jupyter-froqu/MEOP_process/public/MEOP-CTD_2021-10-26 is not empty. Risk of data corruption.\n"
     ]
    }
   ],
   "source": [
    "# first create public folder\n",
    "reload(meop_publish)\n",
    "reload(meop)\n",
    "meop_publish.publish_meop_ctd(publicdir_CTD, copydata=False, genplots=False, genmaps=False, compress=False, verbose=True)"
   ]
  },
  {
   "cell_type": "code",
   "execution_count": null,
   "metadata": {},
   "outputs": [],
   "source": []
  },
  {
   "cell_type": "code",
   "execution_count": 74,
   "metadata": {},
   "outputs": [],
   "source": [
    "ncfile = Path.home() / 'MEOP_process/public/MEOP-CTD_2021-10-26/AUSTRALIA/DATA/awru1-A-06_all_prof.nc'"
   ]
  },
  {
   "cell_type": "code",
   "execution_count": 75,
   "metadata": {},
   "outputs": [],
   "source": [
    "ds = meop.open_dataset(ncfile)"
   ]
  },
  {
   "cell_type": "code",
   "execution_count": null,
   "metadata": {},
   "outputs": [],
   "source": []
  }
 ],
 "metadata": {
  "kernelspec": {
   "display_name": "Python 3",
   "language": "python",
   "name": "python3"
  },
  "language_info": {
   "codemirror_mode": {
    "name": "ipython",
    "version": 3
   },
   "file_extension": ".py",
   "mimetype": "text/x-python",
   "name": "python",
   "nbconvert_exporter": "python",
   "pygments_lexer": "ipython3",
   "version": "3.7.8"
  }
 },
 "nbformat": 4,
 "nbformat_minor": 4
}
