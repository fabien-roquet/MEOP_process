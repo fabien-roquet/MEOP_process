{
 "cells": [
  {
   "cell_type": "markdown",
   "metadata": {},
   "source": [
    "# Set of tools and function to use Matlab MEOP scripts within python"
   ]
  },
  {
   "cell_type": "code",
   "execution_count": 1,
   "metadata": {},
   "outputs": [],
   "source": [
    "import meop_process\n",
    "from pathlib import Path\n",
    "import sys\n",
    "import os\n",
    "import shutil\n",
    "import numpy as np\n",
    "import pandas as pd\n",
    "import xarray as xr"
   ]
  },
  {
   "cell_type": "markdown",
   "metadata": {},
   "source": [
    "# Code to execute in a terminal"
   ]
  },
  {
   "cell_type": "markdown",
   "metadata": {},
   "source": [
    "1. process a deployment:\n",
    ">python meop_process.py --deployment ct107 --do_all\n",
    "2. process a tag\n",
    ">python meop_process.py --smru_name ct107-933-13 --do_all\n",
    "3. help menu\n",
    ">python meop_process.py -h"
   ]
  },
  {
   "cell_type": "markdown",
   "metadata": {},
   "source": [
    "# Code to process data"
   ]
  },
  {
   "cell_type": "code",
   "execution_count": 2,
   "metadata": {},
   "outputs": [
    {
     "name": "stdout",
     "output_type": "stream",
     "text": [
      "matlab started\n",
      "PWD: /media/disk2/roquet/MEOP_process/python\n"
     ]
    }
   ],
   "source": [
    "meop_process.start_matlab()"
   ]
  },
  {
   "cell_type": "code",
   "execution_count": 3,
   "metadata": {},
   "outputs": [
    {
     "name": "stdout",
     "output_type": "stream",
     "text": [
      "disp(config_id())\n",
      "Error using eval\n",
      "Unrecognized function or variable 'config_id'.\n",
      "\n",
      "\n",
      "conf = init_mirounga;\n",
      "Error using init_mirounga (line 59)\n",
      "The number of table variables in an assignment must match.\n",
      "\n",
      "\n"
     ]
    }
   ],
   "source": [
    "meop_process.run_command('disp(config_id())')\n",
    "conf = meop_process.init_mirounga()"
   ]
  },
  {
   "cell_type": "code",
   "execution_count": 47,
   "metadata": {},
   "outputs": [],
   "source": [
    "smru_name='ct107-933-13'\n",
    "meop_process.process_tags(smru_name=smru_name)"
   ]
  },
  {
   "cell_type": "code",
   "execution_count": 47,
   "metadata": {},
   "outputs": [
    {
     "name": "stdout",
     "output_type": "stream",
     "text": [
      "conf = init_mirounga;\n",
      "\n",
      "create_ncargo(conf,EXP,one_smru_name);\n",
      "Process smru_name=ct107-933-13\n",
      "\t24 tags\n",
      "\t4902 profiles\n",
      "  ct107-933-13: 0 profiles and 0 Sprofiles removed\n",
      "SMRU ct107-933-13, PTT   133774: use crawl locations\n",
      "\n",
      "create_fr0(conf,EXP,one_smru_name);\n",
      "Process hr smru_name=ct107-933-13\n",
      "  SMRU ct107-933-13, PTT   133774: use crawl locations for fr data\n",
      "  Date issue in ct107-933-13 hr data, 12933 instr_id: 1 profiles removed\n",
      "  ct107-933-13: hr tags with 475 profiles\n",
      "  ct107-933-13: 0 profiles and 0 Sprofiles removed\n",
      "\n",
      "update_metadata(conf,EXP,one_smru_name);\n",
      "\n",
      "apply_adjustments(conf,EXP,one_smru_name);\n",
      "\n",
      "apply_tlc(conf,EXP,one_smru_name);\n",
      "\n",
      "apply_tlc_fr(conf,EXP,one_smru_name);\n",
      "\n",
      "create_hr2(conf,EXP,one_smru_name);\n",
      "Create hr2 version [by default, hr1 --> hr2]\n",
      "  ct107-933-13: high resolution fr1 --> hr2\n",
      "\n",
      "generate_plot1(conf,EXP,one_smru_name);\n",
      "calibration plots: ct107-933-13\n",
      "\n",
      "generate_plot2(conf,EXP,one_smru_name);\n",
      "plot diag ct107: lr0, raw\n",
      "plot diag ct107: lr1, adj\n",
      "plot diag ct107: hr1, adj\n",
      "plot diag ct107: hr2, adj\n",
      "plot diag ct107: fr1, adj\n",
      "\n"
     ]
    },
    {
     "data": {
      "text/plain": [
       "True"
      ]
     },
     "execution_count": 47,
     "metadata": {},
     "output_type": "execute_result"
    }
   ],
   "source": [
    "meop_process.generate_calibration_plots(smru_name=smru_name)"
   ]
  },
  {
   "cell_type": "code",
   "execution_count": 18,
   "metadata": {},
   "outputs": [],
   "source": [
    "meop_process.stop_matlab()"
   ]
  },
  {
   "cell_type": "markdown",
   "metadata": {},
   "source": [
    "# Post-processing"
   ]
  },
  {
   "cell_type": "code",
   "execution_count": 4,
   "metadata": {},
   "outputs": [],
   "source": [
    "import meop_postprocess"
   ]
  },
  {
   "cell_type": "code",
   "execution_count": null,
   "metadata": {},
   "outputs": [],
   "source": [
    "meop_process.generate_descriptive_plots(smru_name=smru_name)"
   ]
  }
 ],
 "metadata": {
  "kernelspec": {
   "display_name": "Python 3",
   "language": "python",
   "name": "python3"
  },
  "language_info": {
   "codemirror_mode": {
    "name": "ipython",
    "version": 3
   },
   "file_extension": ".py",
   "mimetype": "text/x-python",
   "name": "python",
   "nbconvert_exporter": "python",
   "pygments_lexer": "ipython3",
   "version": "3.7.8"
  }
 },
 "nbformat": 4,
 "nbformat_minor": 4
}
