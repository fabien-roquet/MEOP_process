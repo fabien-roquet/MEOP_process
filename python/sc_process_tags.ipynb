{
 "cells": [
  {
   "cell_type": "markdown",
   "metadata": {},
   "source": [
    "# Set of tools and function to use Matlab MEOP scripts within python"
   ]
  },
  {
   "cell_type": "code",
   "execution_count": 1,
   "metadata": {
    "tags": []
   },
   "outputs": [
    {
     "data": {
      "text/plain": [
       "2"
      ]
     },
     "execution_count": 1,
     "metadata": {},
     "output_type": "execute_result"
    }
   ],
   "source": [
    "import meop_process\n",
    "from pathlib import Path\n",
    "import sys\n",
    "import os\n",
    "import shutil\n",
    "import numpy as np\n",
    "import pandas as pd\n",
    "import xarray as xr\n",
    "from shutil import copy\n",
    "import zipfile\n",
    "import meop_filenames\n",
    "from importlib import reload\n",
    "import os\n",
    "os.umask(int('002', 8))"
   ]
  },
  {
   "cell_type": "markdown",
   "metadata": {},
   "source": [
    "# Code to execute in a terminal"
   ]
  },
  {
   "cell_type": "markdown",
   "metadata": {},
   "source": [
    "1. process a deployment:\n",
    ">python meop_process.py --deployment ct107 --do_all\n",
    "2. process a tag\n",
    ">python meop_process.py --smru_name ct107-933-13 --do_all\n",
    "3. help menu\n",
    ">python meop_process.py -h"
   ]
  },
  {
   "cell_type": "markdown",
   "metadata": {},
   "source": [
    "# Code to process data"
   ]
  },
  {
   "cell_type": "markdown",
   "metadata": {},
   "source": [
    "## Initialize matlab"
   ]
  },
  {
   "cell_type": "code",
   "execution_count": 2,
   "metadata": {
    "tags": []
   },
   "outputs": [
    {
     "name": "stdout",
     "output_type": "stream",
     "text": [
      "matlab started\n",
      "cd /media/disk2/roquet/MEOP_process;\n",
      "\n",
      "PWD: /media/disk2/roquet/MEOP_process\n"
     ]
    }
   ],
   "source": [
    "meop_process.start_matlab()"
   ]
  },
  {
   "cell_type": "code",
   "execution_count": 3,
   "metadata": {
    "tags": []
   },
   "outputs": [
    {
     "name": "stdout",
     "output_type": "stream",
     "text": [
      "cd /media/disk2/roquet/MEOP_process\n",
      "\n",
      "disp(config_id);\n",
      "jupyter_froqu_pc207_linux\n",
      "\n"
     ]
    }
   ],
   "source": [
    "meop_process.run_command('cd /media/disk2/roquet/MEOP_process')\n",
    "meop_process.run_command('disp(config_id);');"
   ]
  },
  {
   "cell_type": "code",
   "execution_count": 4,
   "metadata": {
    "tags": []
   },
   "outputs": [
    {
     "name": "stdout",
     "output_type": "stream",
     "text": [
      "conf = init_mirounga;\n",
      "\n"
     ]
    }
   ],
   "source": [
    "conf = meop_process.init_mirounga()"
   ]
  },
  {
   "cell_type": "markdown",
   "metadata": {},
   "source": [
    "## Import list of deployments"
   ]
  },
  {
   "cell_type": "code",
   "execution_count": 7,
   "metadata": {
    "tags": []
   },
   "outputs": [
    {
     "data": {
      "text/html": [
       "<div>\n",
       "<style scoped>\n",
       "    .dataframe tbody tr th:only-of-type {\n",
       "        vertical-align: middle;\n",
       "    }\n",
       "\n",
       "    .dataframe tbody tr th {\n",
       "        vertical-align: top;\n",
       "    }\n",
       "\n",
       "    .dataframe thead th {\n",
       "        text-align: right;\n",
       "    }\n",
       "</style>\n",
       "<table border=\"1\" class=\"dataframe\">\n",
       "  <thead>\n",
       "    <tr style=\"text-align: right;\">\n",
       "      <th></th>\n",
       "      <th>PI_CODE</th>\n",
       "      <th>PROCESS</th>\n",
       "      <th>PUBLIC</th>\n",
       "      <th>COUNTRY</th>\n",
       "      <th>TASK_DONE</th>\n",
       "      <th>FIRST_VERSION</th>\n",
       "      <th>LAST_VERSION</th>\n",
       "      <th>START_DATE</th>\n",
       "      <th>END_DATE</th>\n",
       "      <th>START_DATE_JUL</th>\n",
       "    </tr>\n",
       "    <tr>\n",
       "      <th>DEPLOYMENT_CODE</th>\n",
       "      <th></th>\n",
       "      <th></th>\n",
       "      <th></th>\n",
       "      <th></th>\n",
       "      <th></th>\n",
       "      <th></th>\n",
       "      <th></th>\n",
       "      <th></th>\n",
       "      <th></th>\n",
       "      <th></th>\n",
       "    </tr>\n",
       "  </thead>\n",
       "  <tbody>\n",
       "    <tr>\n",
       "      <th>wd04</th>\n",
       "      <td>HINDELL</td>\n",
       "      <td>1</td>\n",
       "      <td>1</td>\n",
       "      <td>AUSTRALIA</td>\n",
       "      <td>8</td>\n",
       "      <td>MEOP-CTD_2016-07-12</td>\n",
       "      <td>MEOP-CTD_2020-01-02</td>\n",
       "      <td>03/26/0011</td>\n",
       "      <td>10/08/0011</td>\n",
       "      <td>4103.0</td>\n",
       "    </tr>\n",
       "    <tr>\n",
       "      <th>awru1</th>\n",
       "      <td>HINDELL</td>\n",
       "      <td>1</td>\n",
       "      <td>1</td>\n",
       "      <td>AUSTRALIA</td>\n",
       "      <td>8</td>\n",
       "      <td>MEOP-CTD_2015-05-31</td>\n",
       "      <td>MEOP-CTD_2020-01-02</td>\n",
       "      <td>02/12/0007</td>\n",
       "      <td>10/03/0007</td>\n",
       "      <td>2600.0</td>\n",
       "    </tr>\n",
       "    <tr>\n",
       "      <th>ct149</th>\n",
       "      <td>HINDELL</td>\n",
       "      <td>1</td>\n",
       "      <td>1</td>\n",
       "      <td>AUSTRALIA</td>\n",
       "      <td>8</td>\n",
       "      <td>MEOP-CTD_2020-01-02</td>\n",
       "      <td>MEOP-CTD_2020-01-02</td>\n",
       "      <td>12/20/0018</td>\n",
       "      <td>NaT</td>\n",
       "      <td>6929.0</td>\n",
       "    </tr>\n",
       "    <tr>\n",
       "      <th>ct2</th>\n",
       "      <td>HINDELL</td>\n",
       "      <td>1</td>\n",
       "      <td>1</td>\n",
       "      <td>AUSTRALIA</td>\n",
       "      <td>8</td>\n",
       "      <td>MEOP-CTD_2015-05-31</td>\n",
       "      <td>MEOP-CTD_2020-01-02</td>\n",
       "      <td>01/20/0004</td>\n",
       "      <td>08/01/0004</td>\n",
       "      <td>1481.0</td>\n",
       "    </tr>\n",
       "    <tr>\n",
       "      <th>ct36</th>\n",
       "      <td>HINDELL</td>\n",
       "      <td>1</td>\n",
       "      <td>1</td>\n",
       "      <td>AUSTRALIA</td>\n",
       "      <td>8</td>\n",
       "      <td>MEOP-CTD_2015-05-31</td>\n",
       "      <td>MEOP-CTD_2020-01-02</td>\n",
       "      <td>12/26/0008</td>\n",
       "      <td>03/01/0009</td>\n",
       "      <td>3283.0</td>\n",
       "    </tr>\n",
       "    <tr>\n",
       "      <th>...</th>\n",
       "      <td>...</td>\n",
       "      <td>...</td>\n",
       "      <td>...</td>\n",
       "      <td>...</td>\n",
       "      <td>...</td>\n",
       "      <td>...</td>\n",
       "      <td>...</td>\n",
       "      <td>...</td>\n",
       "      <td>...</td>\n",
       "      <td>...</td>\n",
       "    </tr>\n",
       "    <tr>\n",
       "      <th>tu114</th>\n",
       "      <td>BOUSQUET</td>\n",
       "      <td>1</td>\n",
       "      <td>0</td>\n",
       "      <td>UNKNOWN</td>\n",
       "      <td>0</td>\n",
       "      <td>NaN</td>\n",
       "      <td>NaN</td>\n",
       "      <td>NaT</td>\n",
       "      <td>NaT</td>\n",
       "      <td>NaN</td>\n",
       "    </tr>\n",
       "    <tr>\n",
       "      <th>sk3</th>\n",
       "      <td>BLOCK</td>\n",
       "      <td>1</td>\n",
       "      <td>0</td>\n",
       "      <td>UNKNOWN</td>\n",
       "      <td>0</td>\n",
       "      <td>NaN</td>\n",
       "      <td>NaN</td>\n",
       "      <td>NaT</td>\n",
       "      <td>NaT</td>\n",
       "      <td>NaN</td>\n",
       "    </tr>\n",
       "    <tr>\n",
       "      <th>wd2</th>\n",
       "      <td>UNKNOWN</td>\n",
       "      <td>1</td>\n",
       "      <td>0</td>\n",
       "      <td>UNKNOWN</td>\n",
       "      <td>0</td>\n",
       "      <td>NaN</td>\n",
       "      <td>NaN</td>\n",
       "      <td>NaT</td>\n",
       "      <td>NaT</td>\n",
       "      <td>NaN</td>\n",
       "    </tr>\n",
       "    <tr>\n",
       "      <th>wd21</th>\n",
       "      <td>PINONES</td>\n",
       "      <td>1</td>\n",
       "      <td>0</td>\n",
       "      <td>UNKNOWN</td>\n",
       "      <td>0</td>\n",
       "      <td>NaN</td>\n",
       "      <td>NaN</td>\n",
       "      <td>NaT</td>\n",
       "      <td>NaT</td>\n",
       "      <td>NaN</td>\n",
       "    </tr>\n",
       "    <tr>\n",
       "      <th>wd25</th>\n",
       "      <td>PINONES</td>\n",
       "      <td>1</td>\n",
       "      <td>0</td>\n",
       "      <td>UNKNOWN</td>\n",
       "      <td>0</td>\n",
       "      <td>NaN</td>\n",
       "      <td>NaN</td>\n",
       "      <td>NaT</td>\n",
       "      <td>NaT</td>\n",
       "      <td>NaN</td>\n",
       "    </tr>\n",
       "  </tbody>\n",
       "</table>\n",
       "<p>315 rows × 10 columns</p>\n",
       "</div>"
      ],
      "text/plain": [
       "                  PI_CODE  PROCESS  PUBLIC    COUNTRY  TASK_DONE  \\\n",
       "DEPLOYMENT_CODE                                                    \n",
       "wd04              HINDELL        1       1  AUSTRALIA          8   \n",
       "awru1             HINDELL        1       1  AUSTRALIA          8   \n",
       "ct149             HINDELL        1       1  AUSTRALIA          8   \n",
       "ct2               HINDELL        1       1  AUSTRALIA          8   \n",
       "ct36              HINDELL        1       1  AUSTRALIA          8   \n",
       "...                   ...      ...     ...        ...        ...   \n",
       "tu114            BOUSQUET        1       0    UNKNOWN          0   \n",
       "sk3                 BLOCK        1       0    UNKNOWN          0   \n",
       "wd2               UNKNOWN        1       0    UNKNOWN          0   \n",
       "wd21              PINONES        1       0    UNKNOWN          0   \n",
       "wd25              PINONES        1       0    UNKNOWN          0   \n",
       "\n",
       "                       FIRST_VERSION         LAST_VERSION  START_DATE  \\\n",
       "DEPLOYMENT_CODE                                                         \n",
       "wd04             MEOP-CTD_2016-07-12  MEOP-CTD_2020-01-02  03/26/0011   \n",
       "awru1            MEOP-CTD_2015-05-31  MEOP-CTD_2020-01-02  02/12/0007   \n",
       "ct149            MEOP-CTD_2020-01-02  MEOP-CTD_2020-01-02  12/20/0018   \n",
       "ct2              MEOP-CTD_2015-05-31  MEOP-CTD_2020-01-02  01/20/0004   \n",
       "ct36             MEOP-CTD_2015-05-31  MEOP-CTD_2020-01-02  12/26/0008   \n",
       "...                              ...                  ...         ...   \n",
       "tu114                            NaN                  NaN         NaT   \n",
       "sk3                              NaN                  NaN         NaT   \n",
       "wd2                              NaN                  NaN         NaT   \n",
       "wd21                             NaN                  NaN         NaT   \n",
       "wd25                             NaN                  NaN         NaT   \n",
       "\n",
       "                   END_DATE  START_DATE_JUL  \n",
       "DEPLOYMENT_CODE                              \n",
       "wd04             10/08/0011          4103.0  \n",
       "awru1            10/03/0007          2600.0  \n",
       "ct149                   NaT          6929.0  \n",
       "ct2              08/01/0004          1481.0  \n",
       "ct36             03/01/0009          3283.0  \n",
       "...                     ...             ...  \n",
       "tu114                   NaT             NaN  \n",
       "sk3                     NaT             NaN  \n",
       "wd2                     NaT             NaN  \n",
       "wd21                    NaT             NaN  \n",
       "wd25                    NaT             NaN  \n",
       "\n",
       "[315 rows x 10 columns]"
      ]
     },
     "execution_count": 7,
     "metadata": {},
     "output_type": "execute_result"
    }
   ],
   "source": [
    "import meop_metadata\n",
    "meop_metadata.read_list_deployment()"
   ]
  },
  {
   "cell_type": "code",
   "execution_count": null,
   "metadata": {
    "tags": []
   },
   "outputs": [
    {
     "data": {
      "text/html": [
       "<div>\n",
       "<style scoped>\n",
       "    .dataframe tbody tr th:only-of-type {\n",
       "        vertical-align: middle;\n",
       "    }\n",
       "\n",
       "    .dataframe tbody tr th {\n",
       "        vertical-align: top;\n",
       "    }\n",
       "\n",
       "    .dataframe thead th {\n",
       "        text-align: right;\n",
       "    }\n",
       "</style>\n",
       "<table border=\"1\" class=\"dataframe\">\n",
       "  <thead>\n",
       "    <tr style=\"text-align: right;\">\n",
       "      <th></th>\n",
       "      <th>smru_platform_code</th>\n",
       "      <th>instr_id</th>\n",
       "      <th>year</th>\n",
       "      <th>period</th>\n",
       "      <th>continuous</th>\n",
       "      <th>prefix</th>\n",
       "    </tr>\n",
       "  </thead>\n",
       "  <tbody>\n",
       "    <tr>\n",
       "      <th>0</th>\n",
       "      <td>ct96-02-13</td>\n",
       "      <td>12554</td>\n",
       "      <td>2013</td>\n",
       "      <td>moult</td>\n",
       "      <td>0</td>\n",
       "      <td>NaN</td>\n",
       "    </tr>\n",
       "    <tr>\n",
       "      <th>1</th>\n",
       "      <td>ct96-03-13</td>\n",
       "      <td>12555</td>\n",
       "      <td>2013</td>\n",
       "      <td>moult</td>\n",
       "      <td>0</td>\n",
       "      <td>NaN</td>\n",
       "    </tr>\n",
       "    <tr>\n",
       "      <th>2</th>\n",
       "      <td>ct96-09-13</td>\n",
       "      <td>12564</td>\n",
       "      <td>2013</td>\n",
       "      <td>moult</td>\n",
       "      <td>0</td>\n",
       "      <td>NaN</td>\n",
       "    </tr>\n",
       "    <tr>\n",
       "      <th>3</th>\n",
       "      <td>ct96-10-13</td>\n",
       "      <td>12565</td>\n",
       "      <td>2013</td>\n",
       "      <td>moult</td>\n",
       "      <td>0</td>\n",
       "      <td>NaN</td>\n",
       "    </tr>\n",
       "    <tr>\n",
       "      <th>4</th>\n",
       "      <td>ct96-16-13</td>\n",
       "      <td>12569</td>\n",
       "      <td>2013</td>\n",
       "      <td>moult</td>\n",
       "      <td>0</td>\n",
       "      <td>NaN</td>\n",
       "    </tr>\n",
       "    <tr>\n",
       "      <th>...</th>\n",
       "      <td>...</td>\n",
       "      <td>...</td>\n",
       "      <td>...</td>\n",
       "      <td>...</td>\n",
       "      <td>...</td>\n",
       "      <td>...</td>\n",
       "    </tr>\n",
       "    <tr>\n",
       "      <th>195</th>\n",
       "      <td>ct159-052-BAT-19</td>\n",
       "      <td>15052</td>\n",
       "      <td>2020</td>\n",
       "      <td>reproduction</td>\n",
       "      <td>1</td>\n",
       "      <td>NaN</td>\n",
       "    </tr>\n",
       "    <tr>\n",
       "      <th>196</th>\n",
       "      <td>ct158-309-BAT-15</td>\n",
       "      <td>13309</td>\n",
       "      <td>2020</td>\n",
       "      <td>moult</td>\n",
       "      <td>1</td>\n",
       "      <td>NaN</td>\n",
       "    </tr>\n",
       "    <tr>\n",
       "      <th>197</th>\n",
       "      <td>ct158-310-BAT-15</td>\n",
       "      <td>13310</td>\n",
       "      <td>2020</td>\n",
       "      <td>moult</td>\n",
       "      <td>1</td>\n",
       "      <td>NaN</td>\n",
       "    </tr>\n",
       "    <tr>\n",
       "      <th>198</th>\n",
       "      <td>ct158-198-19</td>\n",
       "      <td>15198</td>\n",
       "      <td>2020</td>\n",
       "      <td>moult</td>\n",
       "      <td>1</td>\n",
       "      <td>NaN</td>\n",
       "    </tr>\n",
       "    <tr>\n",
       "      <th>199</th>\n",
       "      <td>ct158-199-19</td>\n",
       "      <td>15199</td>\n",
       "      <td>2020</td>\n",
       "      <td>moult</td>\n",
       "      <td>1</td>\n",
       "      <td>NaN</td>\n",
       "    </tr>\n",
       "  </tbody>\n",
       "</table>\n",
       "<p>200 rows × 6 columns</p>\n",
       "</div>"
      ],
      "text/plain": [
       "    smru_platform_code instr_id  year        period  continuous prefix\n",
       "0           ct96-02-13    12554  2013         moult           0    NaN\n",
       "1           ct96-03-13    12555  2013         moult           0    NaN\n",
       "2           ct96-09-13    12564  2013         moult           0    NaN\n",
       "3           ct96-10-13    12565  2013         moult           0    NaN\n",
       "4           ct96-16-13    12569  2013         moult           0    NaN\n",
       "..                 ...      ...   ...           ...         ...    ...\n",
       "195   ct159-052-BAT-19    15052  2020  reproduction           1    NaN\n",
       "196   ct158-309-BAT-15    13309  2020         moult           1    NaN\n",
       "197   ct158-310-BAT-15    13310  2020         moult           1    NaN\n",
       "198       ct158-198-19    15198  2020         moult           1    NaN\n",
       "199       ct158-199-19    15199  2020         moult           1    NaN\n",
       "\n",
       "[200 rows x 6 columns]"
      ]
     },
     "execution_count": 6,
     "metadata": {},
     "output_type": "execute_result"
    }
   ],
   "source": [
    "meop_metadata.read_list_deployment_hr()"
   ]
  },
  {
   "cell_type": "markdown",
   "metadata": {},
   "source": [
    "# ct160"
   ]
  },
  {
   "cell_type": "code",
   "execution_count": 20,
   "metadata": {
    "tags": []
   },
   "outputs": [
    {
     "name": "stdout",
     "output_type": "stream",
     "text": [
      "conf = init_mirounga;\n",
      "\n",
      "\n",
      "info_deployment = \n",
      "\n",
      "  struct with fields:\n",
      "\n",
      "               EXP: 'ct160'\n",
      "                PI: 'IMOS'\n",
      "            NATION: 'AUSTRALIA'\n",
      "            nomfic: 'ct160_ODV.txt'\n",
      "               dir: '/media/disk2/roquet/MEOP_process/final_dataset_prof/ct160/'\n",
      "           process: 1\n",
      "            public: 0\n",
      "          list_tag: [1x1 struct]\n",
      "      list_tag_lr0: [1x1 struct]\n",
      "      list_tag_lr1: [1x1 struct]\n",
      "      list_tag_hr0: [1x1 struct]\n",
      "      list_tag_hr1: [1x1 struct]\n",
      "      list_tag_hr2: [1x1 struct]\n",
      "      list_tag_fr0: [0x1 struct]\n",
      "      list_tag_fr1: [0x1 struct]\n",
      "    list_smru_name: {'ct160-265-20'}\n",
      "\n",
      "\n"
     ]
    }
   ],
   "source": [
    "deployment = 'ct160'\n",
    "meop_process.load_info_deployment(deployment=deployment,smru_name=smru_name)\n",
    "meop_process.print_matlab('info_deployment')"
   ]
  },
  {
   "cell_type": "code",
   "execution_count": null,
   "metadata": {},
   "outputs": [],
   "source": [
    "meop_process.import_raw_data(deployment=deployment)"
   ]
  },
  {
   "cell_type": "code",
   "execution_count": 21,
   "metadata": {
    "tags": []
   },
   "outputs": [
    {
     "name": "stdout",
     "output_type": "stream",
     "text": [
      "Process deployment :ct160\n",
      "\n",
      "conf = init_mirounga;\n",
      "\n",
      "remove_deployment(conf,EXP,one_smru_name);\n",
      "\n",
      "create_ncargo(conf,EXP,one_smru_name);\n",
      "Process EXP=ct160\n",
      "\t34 tags\n",
      "\t28182 profiles\n",
      "  ct160-264-20: 0 profiles and 2 Sprofiles removed\n",
      "  ct160-265-20: 1 profiles and 1145 Sprofiles removed\n",
      "  ct160-266-20: 0 profiles and 0 Sprofiles removed\n",
      "  ct160-267-20: 0 profiles and 66 Sprofiles removed\n",
      "  ct160-268-20: 0 profiles and 19 Sprofiles removed\n",
      "  ct160-278BAT2-14: 0 profiles and 0 Sprofiles removed\n",
      "  ct160-300-20: 0 profiles and 16 Sprofiles removed\n",
      "  ct160-301-20: 0 profiles and 0 Sprofiles removed\n",
      "  ct160-302-20: 0 profiles and 0 Sprofiles removed\n",
      "  ct160-303-20: 0 profiles and 0 Sprofiles removed\n",
      "  ct160-304-20: 15 profiles and 0 Sprofiles removed\n",
      "  ct160-305-20: 0 profiles and 6 Sprofiles removed\n",
      "  ct160-306-20: 0 profiles and 1 Sprofiles removed\n",
      "  ct160-307-20: 0 profiles and 0 Sprofiles removed\n",
      "  ct160-308-20: 1 profiles and 1 Sprofiles removed\n",
      "  ct160-309-20: 0 profiles and 0 Sprofiles removed\n",
      "  ct160-310-20: 0 profiles and 0 Sprofiles removed\n",
      "Tag ct160-311-20 lr0 removed\n",
      "  ct160-311-20: 0 profiles and 0 Sprofiles removed\n",
      "  ct160-312-20: 0 profiles and 1 Sprofiles removed\n",
      "  ct160-313-20: 0 profiles and 1 Sprofiles removed\n",
      "  ct160-314-20: 0 profiles and 0 Sprofiles removed\n",
      "  ct160-315-20: 0 profiles and 0 Sprofiles removed\n",
      "  ct160-316-20: 0 profiles and 0 Sprofiles removed\n",
      "  ct160-318-20: 1 profiles and 116 Sprofiles removed\n",
      "  ct160-319-20: 0 profiles and 0 Sprofiles removed\n",
      "  ct160-331-20: 0 profiles and 0 Sprofiles removed\n",
      "  ct160-332-20: 0 profiles and 0 Sprofiles removed\n",
      "  ct160-336-20: 0 profiles and 53 Sprofiles removed\n",
      "  ct160-338-20: 0 profiles and 0 Sprofiles removed\n",
      "  ct160-339-20: 0 profiles and 0 Sprofiles removed\n",
      "  ct160-341-20: 0 profiles and 0 Sprofiles removed\n",
      "  ct160-342-20: 0 profiles and 0 Sprofiles removed\n",
      "  ct160-918BAT-18: 0 profiles and 1 Sprofiles removed\n",
      "  ct160-Oxy726-20: 0 profiles and 4 Sprofiles removed\n",
      "\n",
      "create_fr0(conf,EXP,one_smru_name);\n",
      "\n",
      "create_fr0_without_lr0(conf,EXP,one_smru_name);\n",
      "\n",
      "update_metadata(conf,EXP,one_smru_name);\n",
      "\n",
      "apply_adjustments(conf,EXP,one_smru_name);\n",
      "\n",
      "apply_tlc(conf,EXP,one_smru_name);\n",
      "\n",
      "apply_tlc_fr(conf,EXP,one_smru_name);\n",
      "\n"
     ]
    },
    {
     "data": {
      "text/plain": [
       "True"
      ]
     },
     "execution_count": 21,
     "metadata": {},
     "output_type": "execute_result"
    }
   ],
   "source": [
    "meop_process.process_tags(deployment=deployment)"
   ]
  },
  {
   "cell_type": "code",
   "execution_count": 22,
   "metadata": {
    "tags": []
   },
   "outputs": [
    {
     "name": "stdout",
     "output_type": "stream",
     "text": [
      "Process deployment :ct160\n",
      "\n",
      "conf = init_mirounga;\n",
      "\n",
      "create_hr2(conf,EXP,one_smru_name);\n",
      "Create hr2 version [by default, hr1 --> hr2]\n",
      "  ct160-264-20: hr1 --> hr2\n",
      "  ct160-265-20: hr1 --> hr2\n",
      "  ct160-266-20: hr1 --> hr2\n",
      "  ct160-267-20: hr1 --> hr2\n",
      "  ct160-268-20: hr1 --> hr2\n",
      "  ct160-278BAT2-14: hr1 --> hr2\n",
      "  ct160-300-20: hr1 --> hr2\n",
      "  ct160-301-20: hr1 --> hr2\n",
      "  ct160-302-20: hr1 --> hr2\n",
      "  ct160-303-20: hr1 --> hr2\n",
      "  ct160-304-20: hr1 --> hr2\n",
      "  ct160-305-20: hr1 --> hr2\n",
      "  ct160-306-20: hr1 --> hr2\n",
      "  ct160-307-20: hr1 --> hr2\n",
      "  ct160-308-20: hr1 --> hr2\n",
      "  ct160-309-20: hr1 --> hr2\n",
      "  ct160-310-20: hr1 --> hr2\n",
      "  ct160-311-20: hr1 --> hr2\n",
      "  ct160-312-20: hr1 --> hr2\n",
      "  ct160-313-20: hr1 --> hr2\n",
      "  ct160-314-20: hr1 --> hr2\n",
      "  ct160-315-20: hr1 --> hr2\n",
      "  ct160-316-20: hr1 --> hr2\n",
      "  ct160-318-20: hr1 --> hr2\n",
      "  ct160-319-20: hr1 --> hr2\n",
      "  ct160-331-20: hr1 --> hr2\n",
      "  ct160-332-20: hr1 --> hr2\n",
      "  ct160-336-20: hr1 --> hr2\n",
      "  ct160-338-20: hr1 --> hr2\n",
      "  ct160-339-20: hr1 --> hr2\n",
      "  ct160-341-20: hr1 --> hr2\n",
      "  ct160-342-20: hr1 --> hr2\n",
      "  ct160-918BAT-18: hr1 --> hr2\n",
      "  ct160-Oxy726-20: hr1 --> hr2\n",
      "\n"
     ]
    },
    {
     "data": {
      "text/plain": [
       "True"
      ]
     },
     "execution_count": 22,
     "metadata": {},
     "output_type": "execute_result"
    }
   ],
   "source": [
    "meop_process.create_hr2(deployment=deployment)"
   ]
  },
  {
   "cell_type": "code",
   "execution_count": 23,
   "metadata": {
    "tags": []
   },
   "outputs": [
    {
     "name": "stdout",
     "output_type": "stream",
     "text": [
      "conf = init_mirounga;\n",
      "\n",
      "generate_plot2(conf,EXP,one_smru_name);\n",
      "plot diag ct160: lr0, raw\n",
      "plot diag ct160: lr1, adj\n",
      "plot diag ct160: hr1, adj\n",
      "plot diag ct160: hr2, adj\n",
      "\n"
     ]
    },
    {
     "data": {
      "text/plain": [
       "True"
      ]
     },
     "execution_count": 23,
     "metadata": {},
     "output_type": "execute_result"
    }
   ],
   "source": [
    "meop_process.generate_doc_latex(deployment=deployment)"
   ]
  },
  {
   "cell_type": "code",
   "execution_count": null,
   "metadata": {
    "tags": []
   },
   "outputs": [],
   "source": [
    "meop_process.generate_calibration_plots(deployment=deployment_code)"
   ]
  },
  {
   "cell_type": "markdown",
   "metadata": {},
   "source": [
    "## Process one tag"
   ]
  },
  {
   "cell_type": "code",
   "execution_count": 12,
   "metadata": {},
   "outputs": [
    {
     "name": "stdout",
     "output_type": "stream",
     "text": [
      "Process tag :ct160-264-20\n",
      "\n",
      "conf = init_mirounga;\n",
      "\n",
      "remove_deployment(conf,EXP,one_smru_name);\n",
      "\n",
      "create_ncargo(conf,EXP,one_smru_name);\n",
      "Process smru_name=ct160-264-20\n",
      "\t34 tags\n",
      "\t28172 profiles\n",
      "  ct160-264-20: 0 profiles and 2 Sprofiles removed\n",
      "\n",
      "create_fr0(conf,EXP,one_smru_name);\n",
      "\n",
      "update_metadata(conf,EXP,one_smru_name);\n",
      "\n",
      "apply_adjustments(conf,EXP,one_smru_name);\n",
      "\n",
      "apply_tlc(conf,EXP,one_smru_name);\n",
      "\n",
      "apply_tlc_fr(conf,EXP,one_smru_name);\n",
      "\n"
     ]
    },
    {
     "data": {
      "text/plain": [
       "True"
      ]
     },
     "execution_count": 12,
     "metadata": {},
     "output_type": "execute_result"
    }
   ],
   "source": [
    "smru_name='ct160-264-20'\n",
    "meop_process.process_tags(smru_name=smru_name)"
   ]
  },
  {
   "cell_type": "code",
   "execution_count": 30,
   "metadata": {
    "tags": []
   },
   "outputs": [
    {
     "name": "stdout",
     "output_type": "stream",
     "text": [
      "conf = init_mirounga;\n",
      "config name: jupyter_froqu_pc207_linux\n",
      "\n",
      "generate_plot1(conf,EXP,one_smru_name);\n",
      "calibration plots: ct107-933-13\n",
      "\n"
     ]
    },
    {
     "data": {
      "text/plain": [
       "True"
      ]
     },
     "execution_count": 30,
     "metadata": {},
     "output_type": "execute_result"
    }
   ],
   "source": [
    "meop_process.generate_calibration_plots(smru_name=smru_name)"
   ]
  },
  {
   "cell_type": "code",
   "execution_count": null,
   "metadata": {},
   "outputs": [],
   "source": []
  }
 ],
 "metadata": {
  "kernelspec": {
   "display_name": "Python [conda env:python_matlab]",
   "language": "python",
   "name": "conda-env-python_matlab-py"
  },
  "language_info": {
   "codemirror_mode": {
    "name": "ipython",
    "version": 3
   },
   "file_extension": ".py",
   "mimetype": "text/x-python",
   "name": "python",
   "nbconvert_exporter": "python",
   "pygments_lexer": "ipython3",
   "version": "3.8.16"
  }
 },
 "nbformat": 4,
 "nbformat_minor": 4
}
