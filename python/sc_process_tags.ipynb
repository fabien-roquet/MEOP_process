{
 "cells": [
  {
   "cell_type": "markdown",
   "metadata": {},
   "source": [
    "# Set of tools and function to use Matlab MEOP scripts within python"
   ]
  },
  {
   "cell_type": "code",
   "execution_count": 1,
   "metadata": {},
   "outputs": [],
   "source": [
    "import meop_process\n",
    "from pathlib import Path\n",
    "import sys\n",
    "import os\n",
    "import shutil\n",
    "import numpy as np\n",
    "import pandas as pd\n",
    "import xarray as xr"
   ]
  },
  {
   "cell_type": "markdown",
   "metadata": {},
   "source": [
    "# Code to execute in a terminal"
   ]
  },
  {
   "cell_type": "markdown",
   "metadata": {},
   "source": [
    "1. process a deployment:\n",
    ">python meop_process.py --deployment ct107 --do_all\n",
    "2. process a tag\n",
    ">python meop_process.py --smru_name ct107-933-13 --do_all\n",
    "3. help menu\n",
    ">python meop_process.py -h"
   ]
  },
  {
   "cell_type": "markdown",
   "metadata": {},
   "source": [
    "# Code to process data"
   ]
  },
  {
   "cell_type": "markdown",
   "metadata": {},
   "source": [
    "## Initialize matlab"
   ]
  },
  {
   "cell_type": "code",
   "execution_count": 2,
   "metadata": {},
   "outputs": [
    {
     "name": "stdout",
     "output_type": "stream",
     "text": [
      "matlab started\n",
      "PWD: /media/disk2/roquet/MEOP_process/python\n"
     ]
    }
   ],
   "source": [
    "meop_process.start_matlab()"
   ]
  },
  {
   "cell_type": "code",
   "execution_count": 19,
   "metadata": {},
   "outputs": [
    {
     "name": "stdout",
     "output_type": "stream",
     "text": [
      "cd ..;pwd;\n",
      "\n",
      "disp(config_id);\n",
      "jupyter-froqu_pc207_linux\n",
      "\n"
     ]
    }
   ],
   "source": [
    "meop_process.run_command('cd ..;pwd;')\n",
    "meop_process.run_command('disp(config_id);');"
   ]
  },
  {
   "cell_type": "code",
   "execution_count": 28,
   "metadata": {},
   "outputs": [
    {
     "name": "stdout",
     "output_type": "stream",
     "text": [
      "conf = init_mirounga;\n",
      "config name: jupyter_froqu_pc207_linux\n",
      "\n"
     ]
    }
   ],
   "source": [
    "conf = meop_process.init_mirounga()"
   ]
  },
  {
   "cell_type": "markdown",
   "metadata": {},
   "source": []
  },
  {
   "cell_type": "markdown",
   "metadata": {},
   "source": [
    "## Import list of deployments"
   ]
  },
  {
   "cell_type": "code",
   "execution_count": 32,
   "metadata": {},
   "outputs": [
    {
     "data": {
      "text/html": [
       "<div>\n",
       "<style scoped>\n",
       "    .dataframe tbody tr th:only-of-type {\n",
       "        vertical-align: middle;\n",
       "    }\n",
       "\n",
       "    .dataframe tbody tr th {\n",
       "        vertical-align: top;\n",
       "    }\n",
       "\n",
       "    .dataframe thead th {\n",
       "        text-align: right;\n",
       "    }\n",
       "</style>\n",
       "<table border=\"1\" class=\"dataframe\">\n",
       "  <thead>\n",
       "    <tr style=\"text-align: right;\">\n",
       "      <th></th>\n",
       "      <th>PI_CODE</th>\n",
       "      <th>PROCESS</th>\n",
       "      <th>PUBLIC</th>\n",
       "      <th>COUNTRY</th>\n",
       "      <th>FIRST_VERSION</th>\n",
       "      <th>LAST_VERSION</th>\n",
       "      <th>START_DATE</th>\n",
       "      <th>END_DATE</th>\n",
       "      <th>START_DATE_JUL</th>\n",
       "    </tr>\n",
       "    <tr>\n",
       "      <th>DEPLOYMENT_CODE</th>\n",
       "      <th></th>\n",
       "      <th></th>\n",
       "      <th></th>\n",
       "      <th></th>\n",
       "      <th></th>\n",
       "      <th></th>\n",
       "      <th></th>\n",
       "      <th></th>\n",
       "      <th></th>\n",
       "    </tr>\n",
       "  </thead>\n",
       "  <tbody>\n",
       "    <tr>\n",
       "      <th>wd04</th>\n",
       "      <td>HINDELL</td>\n",
       "      <td>1</td>\n",
       "      <td>1</td>\n",
       "      <td>AUSTRALIA</td>\n",
       "      <td>MEOP-CTD_2016-07-12</td>\n",
       "      <td>MEOP-CTD_2020-01-02</td>\n",
       "      <td>03/26/2011</td>\n",
       "      <td>10/08/2011</td>\n",
       "      <td>734588.0</td>\n",
       "    </tr>\n",
       "    <tr>\n",
       "      <th>awru1</th>\n",
       "      <td>HINDELL</td>\n",
       "      <td>1</td>\n",
       "      <td>1</td>\n",
       "      <td>AUSTRALIA</td>\n",
       "      <td>MEOP-CTD_2015-05-31</td>\n",
       "      <td>MEOP-CTD_2020-01-02</td>\n",
       "      <td>02/12/2007</td>\n",
       "      <td>10/03/2007</td>\n",
       "      <td>733085.0</td>\n",
       "    </tr>\n",
       "    <tr>\n",
       "      <th>ct149</th>\n",
       "      <td>HINDELL</td>\n",
       "      <td>1</td>\n",
       "      <td>1</td>\n",
       "      <td>AUSTRALIA</td>\n",
       "      <td>MEOP-CTD_2020-01-02</td>\n",
       "      <td>MEOP-CTD_2020-01-02</td>\n",
       "      <td>12/20/2018</td>\n",
       "      <td>NaT</td>\n",
       "      <td>737414.0</td>\n",
       "    </tr>\n",
       "    <tr>\n",
       "      <th>ct2</th>\n",
       "      <td>HINDELL</td>\n",
       "      <td>1</td>\n",
       "      <td>1</td>\n",
       "      <td>AUSTRALIA</td>\n",
       "      <td>MEOP-CTD_2015-05-31</td>\n",
       "      <td>MEOP-CTD_2020-01-02</td>\n",
       "      <td>01/20/2004</td>\n",
       "      <td>08/01/2004</td>\n",
       "      <td>731966.0</td>\n",
       "    </tr>\n",
       "    <tr>\n",
       "      <th>ct36</th>\n",
       "      <td>HINDELL</td>\n",
       "      <td>1</td>\n",
       "      <td>1</td>\n",
       "      <td>AUSTRALIA</td>\n",
       "      <td>MEOP-CTD_2015-05-31</td>\n",
       "      <td>MEOP-CTD_2020-01-02</td>\n",
       "      <td>12/26/2008</td>\n",
       "      <td>03/01/2009</td>\n",
       "      <td>733768.0</td>\n",
       "    </tr>\n",
       "    <tr>\n",
       "      <th>...</th>\n",
       "      <td>...</td>\n",
       "      <td>...</td>\n",
       "      <td>...</td>\n",
       "      <td>...</td>\n",
       "      <td>...</td>\n",
       "      <td>...</td>\n",
       "      <td>...</td>\n",
       "      <td>...</td>\n",
       "      <td>...</td>\n",
       "    </tr>\n",
       "    <tr>\n",
       "      <th>ct156</th>\n",
       "      <td>IMOS</td>\n",
       "      <td>1</td>\n",
       "      <td>0</td>\n",
       "      <td>AUSTRALIA</td>\n",
       "      <td>NaN</td>\n",
       "      <td>NaN</td>\n",
       "      <td>NaT</td>\n",
       "      <td>NaT</td>\n",
       "      <td>NaN</td>\n",
       "    </tr>\n",
       "    <tr>\n",
       "      <th>ct154</th>\n",
       "      <td>GUINET</td>\n",
       "      <td>1</td>\n",
       "      <td>0</td>\n",
       "      <td>FRANCE</td>\n",
       "      <td>NaN</td>\n",
       "      <td>NaN</td>\n",
       "      <td>NaT</td>\n",
       "      <td>NaT</td>\n",
       "      <td>NaN</td>\n",
       "    </tr>\n",
       "    <tr>\n",
       "      <th>ct155</th>\n",
       "      <td>GUINET</td>\n",
       "      <td>1</td>\n",
       "      <td>0</td>\n",
       "      <td>FRANCE</td>\n",
       "      <td>NaN</td>\n",
       "      <td>NaN</td>\n",
       "      <td>NaT</td>\n",
       "      <td>NaT</td>\n",
       "      <td>NaN</td>\n",
       "    </tr>\n",
       "    <tr>\n",
       "      <th>ct157</th>\n",
       "      <td>IMOS</td>\n",
       "      <td>1</td>\n",
       "      <td>0</td>\n",
       "      <td>AUSTRALIA</td>\n",
       "      <td>NaN</td>\n",
       "      <td>NaN</td>\n",
       "      <td>NaT</td>\n",
       "      <td>NaT</td>\n",
       "      <td>NaN</td>\n",
       "    </tr>\n",
       "    <tr>\n",
       "      <th>ct159</th>\n",
       "      <td>XTOPHE</td>\n",
       "      <td>1</td>\n",
       "      <td>0</td>\n",
       "      <td>UNKNOWN</td>\n",
       "      <td>NaN</td>\n",
       "      <td>NaN</td>\n",
       "      <td>NaT</td>\n",
       "      <td>NaT</td>\n",
       "      <td>NaN</td>\n",
       "    </tr>\n",
       "  </tbody>\n",
       "</table>\n",
       "<p>282 rows × 9 columns</p>\n",
       "</div>"
      ],
      "text/plain": [
       "                 PI_CODE  PROCESS  PUBLIC    COUNTRY        FIRST_VERSION  \\\n",
       "DEPLOYMENT_CODE                                                             \n",
       "wd04             HINDELL        1       1  AUSTRALIA  MEOP-CTD_2016-07-12   \n",
       "awru1            HINDELL        1       1  AUSTRALIA  MEOP-CTD_2015-05-31   \n",
       "ct149            HINDELL        1       1  AUSTRALIA  MEOP-CTD_2020-01-02   \n",
       "ct2              HINDELL        1       1  AUSTRALIA  MEOP-CTD_2015-05-31   \n",
       "ct36             HINDELL        1       1  AUSTRALIA  MEOP-CTD_2015-05-31   \n",
       "...                  ...      ...     ...        ...                  ...   \n",
       "ct156               IMOS        1       0  AUSTRALIA                  NaN   \n",
       "ct154             GUINET        1       0     FRANCE                  NaN   \n",
       "ct155             GUINET        1       0     FRANCE                  NaN   \n",
       "ct157               IMOS        1       0  AUSTRALIA                  NaN   \n",
       "ct159             XTOPHE        1       0    UNKNOWN                  NaN   \n",
       "\n",
       "                        LAST_VERSION  START_DATE    END_DATE  START_DATE_JUL  \n",
       "DEPLOYMENT_CODE                                                               \n",
       "wd04             MEOP-CTD_2020-01-02  03/26/2011  10/08/2011        734588.0  \n",
       "awru1            MEOP-CTD_2020-01-02  02/12/2007  10/03/2007        733085.0  \n",
       "ct149            MEOP-CTD_2020-01-02  12/20/2018         NaT        737414.0  \n",
       "ct2              MEOP-CTD_2020-01-02  01/20/2004  08/01/2004        731966.0  \n",
       "ct36             MEOP-CTD_2020-01-02  12/26/2008  03/01/2009        733768.0  \n",
       "...                              ...         ...         ...             ...  \n",
       "ct156                            NaN         NaT         NaT             NaN  \n",
       "ct154                            NaN         NaT         NaT             NaN  \n",
       "ct155                            NaN         NaT         NaT             NaN  \n",
       "ct157                            NaN         NaT         NaT             NaN  \n",
       "ct159                            NaN         NaT         NaT             NaN  \n",
       "\n",
       "[282 rows x 9 columns]"
      ]
     },
     "execution_count": 32,
     "metadata": {},
     "output_type": "execute_result"
    }
   ],
   "source": [
    "import meop_metadata\n",
    "meop_metadata.read_list_deployment()"
   ]
  },
  {
   "cell_type": "code",
   "execution_count": 34,
   "metadata": {},
   "outputs": [
    {
     "data": {
      "text/html": [
       "<div>\n",
       "<style scoped>\n",
       "    .dataframe tbody tr th:only-of-type {\n",
       "        vertical-align: middle;\n",
       "    }\n",
       "\n",
       "    .dataframe tbody tr th {\n",
       "        vertical-align: top;\n",
       "    }\n",
       "\n",
       "    .dataframe thead th {\n",
       "        text-align: right;\n",
       "    }\n",
       "</style>\n",
       "<table border=\"1\" class=\"dataframe\">\n",
       "  <thead>\n",
       "    <tr style=\"text-align: right;\">\n",
       "      <th></th>\n",
       "      <th>smru_platform_code</th>\n",
       "      <th>instr_id</th>\n",
       "      <th>year</th>\n",
       "      <th>period</th>\n",
       "      <th>continuous</th>\n",
       "      <th>prefix</th>\n",
       "    </tr>\n",
       "  </thead>\n",
       "  <tbody>\n",
       "    <tr>\n",
       "      <th>0</th>\n",
       "      <td>ct96-02-13</td>\n",
       "      <td>12554</td>\n",
       "      <td>2013</td>\n",
       "      <td>moult</td>\n",
       "      <td>0</td>\n",
       "      <td>NaN</td>\n",
       "    </tr>\n",
       "    <tr>\n",
       "      <th>1</th>\n",
       "      <td>ct96-03-13</td>\n",
       "      <td>12555</td>\n",
       "      <td>2013</td>\n",
       "      <td>moult</td>\n",
       "      <td>0</td>\n",
       "      <td>NaN</td>\n",
       "    </tr>\n",
       "    <tr>\n",
       "      <th>2</th>\n",
       "      <td>ct96-09-13</td>\n",
       "      <td>12564</td>\n",
       "      <td>2013</td>\n",
       "      <td>moult</td>\n",
       "      <td>0</td>\n",
       "      <td>NaN</td>\n",
       "    </tr>\n",
       "    <tr>\n",
       "      <th>3</th>\n",
       "      <td>ct96-10-13</td>\n",
       "      <td>12565</td>\n",
       "      <td>2013</td>\n",
       "      <td>moult</td>\n",
       "      <td>0</td>\n",
       "      <td>NaN</td>\n",
       "    </tr>\n",
       "    <tr>\n",
       "      <th>4</th>\n",
       "      <td>ct96-16-13</td>\n",
       "      <td>12569</td>\n",
       "      <td>2013</td>\n",
       "      <td>moult</td>\n",
       "      <td>0</td>\n",
       "      <td>NaN</td>\n",
       "    </tr>\n",
       "    <tr>\n",
       "      <th>...</th>\n",
       "      <td>...</td>\n",
       "      <td>...</td>\n",
       "      <td>...</td>\n",
       "      <td>...</td>\n",
       "      <td>...</td>\n",
       "      <td>...</td>\n",
       "    </tr>\n",
       "    <tr>\n",
       "      <th>171</th>\n",
       "      <td>ct149-925-18</td>\n",
       "      <td>14925</td>\n",
       "      <td>2019</td>\n",
       "      <td>moult</td>\n",
       "      <td>0</td>\n",
       "      <td>NaN</td>\n",
       "    </tr>\n",
       "    <tr>\n",
       "      <th>172</th>\n",
       "      <td>ct148-940-18</td>\n",
       "      <td>14940</td>\n",
       "      <td>2019</td>\n",
       "      <td>moult</td>\n",
       "      <td>0</td>\n",
       "      <td>NaN</td>\n",
       "    </tr>\n",
       "    <tr>\n",
       "      <th>173</th>\n",
       "      <td>ct148-966-18</td>\n",
       "      <td>14966</td>\n",
       "      <td>2019</td>\n",
       "      <td>moult</td>\n",
       "      <td>0</td>\n",
       "      <td>NaN</td>\n",
       "    </tr>\n",
       "    <tr>\n",
       "      <th>174</th>\n",
       "      <td>ct148-969-18</td>\n",
       "      <td>14969</td>\n",
       "      <td>2019</td>\n",
       "      <td>moult</td>\n",
       "      <td>0</td>\n",
       "      <td>NaN</td>\n",
       "    </tr>\n",
       "    <tr>\n",
       "      <th>175</th>\n",
       "      <td>ct148-970-18</td>\n",
       "      <td>14970</td>\n",
       "      <td>2019</td>\n",
       "      <td>moult</td>\n",
       "      <td>0</td>\n",
       "      <td>NaN</td>\n",
       "    </tr>\n",
       "  </tbody>\n",
       "</table>\n",
       "<p>176 rows × 6 columns</p>\n",
       "</div>"
      ],
      "text/plain": [
       "    smru_platform_code instr_id  year period  continuous prefix\n",
       "0           ct96-02-13    12554  2013  moult           0    NaN\n",
       "1           ct96-03-13    12555  2013  moult           0    NaN\n",
       "2           ct96-09-13    12564  2013  moult           0    NaN\n",
       "3           ct96-10-13    12565  2013  moult           0    NaN\n",
       "4           ct96-16-13    12569  2013  moult           0    NaN\n",
       "..                 ...      ...   ...    ...         ...    ...\n",
       "171       ct149-925-18    14925  2019  moult           0    NaN\n",
       "172       ct148-940-18    14940  2019  moult           0    NaN\n",
       "173       ct148-966-18    14966  2019  moult           0    NaN\n",
       "174       ct148-969-18    14969  2019  moult           0    NaN\n",
       "175       ct148-970-18    14970  2019  moult           0    NaN\n",
       "\n",
       "[176 rows x 6 columns]"
      ]
     },
     "execution_count": 34,
     "metadata": {},
     "output_type": "execute_result"
    }
   ],
   "source": [
    "meop_metadata.read_list_deployment_hr()"
   ]
  },
  {
   "cell_type": "markdown",
   "metadata": {},
   "source": [
    "## Process one deployment"
   ]
  },
  {
   "cell_type": "code",
   "execution_count": 33,
   "metadata": {},
   "outputs": [
    {
     "name": "stdout",
     "output_type": "stream",
     "text": [
      "conf = init_mirounga;\n",
      "config name: jupyter_froqu_pc207_linux\n",
      "\n",
      "remove_deployment(conf,EXP,one_smru_name);\n",
      "\n",
      "create_ncargo(conf,EXP,one_smru_name);\n",
      "Process EXP=ft23\n",
      "\t8 tags\n",
      "\t1160 profiles\n",
      "  ft23-C899-18: 8 profiles and 0 Sprofiles removed\n",
      "Tag ft23-C900-18 lr0 removed\n",
      "  ft23-C900-18: 0 profiles and 0 Sprofiles removed\n",
      "  ft23-C901-18: 0 profiles and 0 Sprofiles removed\n",
      "  ft23-C902-18: 0 profiles and 0 Sprofiles removed\n",
      "  ft23-C903-18: 0 profiles and 0 Sprofiles removed\n",
      "  ft23-F676-18: 0 profiles and 0 Sprofiles removed\n",
      "  ft23-F781-18: 0 profiles and 0 Sprofiles removed\n",
      "Tag ft23-F905-18 lr0 removed\n",
      "  ft23-F905-18: 0 profiles and 0 Sprofiles removed\n",
      "\n",
      "create_fr0(conf,EXP,one_smru_name);\n",
      "Process hr smru_name=ft23-C899-18\n",
      "  SMRU ft23-C899-18, PTT    63895: use smru locations for fr data\n",
      "  ft23-C899-18: hr tags with 4705 profiles\n",
      "  ft23-C899-18: 110 profiles and 0 Sprofiles removed\n",
      "Process hr smru_name=ft23-C900-18\n",
      "  SMRU ft23-C900-18, PTT    63893: use smru locations for fr data\n",
      "  ft23-C900-18: hr tags with 6454 profiles\n",
      "Tag ft23-C900-18 fr0 removed\n",
      "  ft23-C900-18: 0 profiles and 1 Sprofiles removed\n",
      "Process hr smru_name=ft23-C901-18\n",
      "  SMRU ft23-C901-18, PTT    65503: use smru locations for fr data\n",
      "  ft23-C901-18: hr tags with 4373 profiles\n",
      "  ft23-C901-18: 0 profiles and 0 Sprofiles removed\n",
      "Process hr smru_name=ft23-C902-18\n",
      "  SMRU ft23-C902-18, PTT    63889: use smru locations for fr data\n",
      "  ft23-C902-18: hr tags with 4759 profiles\n",
      "  ft23-C902-18: 0 profiles and 0 Sprofiles removed\n",
      "Process hr smru_name=ft23-C903-18\n",
      "  SMRU ft23-C903-18, PTT    63892: use smru locations for fr data\n",
      "  ft23-C903-18: hr tags with 4951 profiles\n",
      "  ft23-C903-18: 0 profiles and 0 Sprofiles removed\n",
      "Process hr smru_name=ft23-F676-18\n",
      "  SMRU ft23-F676-18, PTT    65499: use smru locations for fr data\n",
      "  ft23-F676-18: hr tags with 4936 profiles\n",
      "  ft23-F676-18: 0 profiles and 0 Sprofiles removed\n",
      "Process hr smru_name=ft23-F781-18\n",
      "  SMRU ft23-F781-18, PTT    65501: use smru locations for fr data\n",
      "  ft23-F781-18: hr tags with 4368 profiles\n",
      "  ft23-F781-18: 0 profiles and 0 Sprofiles removed\n",
      "Process hr smru_name=ft23-F905-18\n",
      "  SMRU ft23-F905-18, PTT    65502: use smru locations for fr data\n",
      "  ft23-F905-18: hr tags with 3740 profiles\n",
      "Tag ft23-F905-18 fr0 removed\n",
      "  ft23-F905-18: 0 profiles and 0 Sprofiles removed\n",
      "\n",
      "update_metadata(conf,EXP,one_smru_name);\n",
      "\n",
      "apply_adjustments(conf,EXP,one_smru_name);\n",
      "\n",
      "apply_tlc(conf,EXP,one_smru_name);\n",
      "\n",
      "apply_tlc_fr(conf,EXP,one_smru_name);\n",
      "\n"
     ]
    },
    {
     "data": {
      "text/plain": [
       "True"
      ]
     },
     "execution_count": 33,
     "metadata": {},
     "output_type": "execute_result"
    }
   ],
   "source": [
    "deployment='ft23'\n",
    "meop_process.process_tags(deployment=deployment)"
   ]
  },
  {
   "cell_type": "code",
   "execution_count": null,
   "metadata": {},
   "outputs": [],
   "source": [
    "meop_process.generate_calibration_plots(smru_name=smru_name)"
   ]
  },
  {
   "cell_type": "code",
   "execution_count": null,
   "metadata": {},
   "outputs": [],
   "source": []
  },
  {
   "cell_type": "markdown",
   "metadata": {},
   "source": [
    "## Process one tag"
   ]
  },
  {
   "cell_type": "code",
   "execution_count": 29,
   "metadata": {},
   "outputs": [
    {
     "name": "stdout",
     "output_type": "stream",
     "text": [
      "conf = init_mirounga;\n",
      "config name: jupyter_froqu_pc207_linux\n",
      "\n",
      "remove_deployment(conf,EXP,one_smru_name);\n",
      "\n",
      "create_ncargo(conf,EXP,one_smru_name);\n",
      "Process smru_name=ct107-933-13\n",
      "\t24 tags\n",
      "\t4902 profiles\n",
      "  ct107-933-13: 0 profiles and 0 Sprofiles removed\n",
      "SMRU ct107-933-13, PTT   133774: use crawl locations\n",
      "\n",
      "create_fr0(conf,EXP,one_smru_name);\n",
      "Process hr smru_name=ct107-933-13\n",
      "  SMRU ct107-933-13, PTT   133774: use crawl locations for fr data\n",
      "  Date issue in ct107-933-13 hr data, 12933 instr_id: 1 profiles removed\n",
      "  ct107-933-13: hr tags with 475 profiles\n",
      "  ct107-933-13: 0 profiles and 0 Sprofiles removed\n",
      "\n",
      "update_metadata(conf,EXP,one_smru_name);\n",
      "\n",
      "apply_adjustments(conf,EXP,one_smru_name);\n",
      "\n",
      "apply_tlc(conf,EXP,one_smru_name);\n",
      "\n",
      "apply_tlc_fr(conf,EXP,one_smru_name);\n",
      "\n"
     ]
    },
    {
     "data": {
      "text/plain": [
       "True"
      ]
     },
     "execution_count": 29,
     "metadata": {},
     "output_type": "execute_result"
    }
   ],
   "source": [
    "smru_name='ct107-933-13'\n",
    "meop_process.process_tags(smru_name=smru_name)"
   ]
  },
  {
   "cell_type": "code",
   "execution_count": 30,
   "metadata": {},
   "outputs": [
    {
     "name": "stdout",
     "output_type": "stream",
     "text": [
      "conf = init_mirounga;\n",
      "config name: jupyter_froqu_pc207_linux\n",
      "\n",
      "generate_plot1(conf,EXP,one_smru_name);\n",
      "calibration plots: ct107-933-13\n",
      "\n"
     ]
    },
    {
     "data": {
      "text/plain": [
       "True"
      ]
     },
     "execution_count": 30,
     "metadata": {},
     "output_type": "execute_result"
    }
   ],
   "source": [
    "meop_process.generate_calibration_plots(smru_name=smru_name)"
   ]
  },
  {
   "cell_type": "code",
   "execution_count": 18,
   "metadata": {},
   "outputs": [],
   "source": [
    "meop_process.stop_matlab()"
   ]
  }
 ],
 "metadata": {
  "kernelspec": {
   "display_name": "Python 3",
   "language": "python",
   "name": "python3"
  },
  "language_info": {
   "codemirror_mode": {
    "name": "ipython",
    "version": 3
   },
   "file_extension": ".py",
   "mimetype": "text/x-python",
   "name": "python",
   "nbconvert_exporter": "python",
   "pygments_lexer": "ipython3",
   "version": "3.7.8"
  }
 },
 "nbformat": 4,
 "nbformat_minor": 4
}
