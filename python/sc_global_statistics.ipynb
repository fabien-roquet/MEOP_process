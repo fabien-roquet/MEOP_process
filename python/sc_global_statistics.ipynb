{
 "cells": [
  {
   "cell_type": "markdown",
   "metadata": {},
   "source": [
    "# Compute statistics about the global database\n",
    "\n",
    "* use lprofiles, ltags, ldeployments\n",
    "* list files are created in sc_list_profiles.ipynb"
   ]
  },
  {
   "cell_type": "code",
   "execution_count": 2,
   "metadata": {},
   "outputs": [
    {
     "data": {
      "text/plain": [
       "<module 'meop_metadata' from '/media/disk2/roquet/MEOP_process/python/meop_metadata.py'>"
      ]
     },
     "execution_count": 2,
     "metadata": {},
     "output_type": "execute_result"
    }
   ],
   "source": [
    "from pathlib import Path\n",
    "import sys\n",
    "import os\n",
    "import shutil\n",
    "import numpy as np\n",
    "import pandas as pd\n",
    "import xarray as xr\n",
    "import matplotlib.pyplot as plt\n",
    "import gsw\n",
    "from IPython.display import display,Image\n",
    "\n",
    "from importlib import reload\n",
    "import meop_metadata\n",
    "import meop_plot_data\n",
    "reload(meop_metadata)"
   ]
  },
  {
   "cell_type": "markdown",
   "metadata": {},
   "source": [
    "## Write statistics"
   ]
  },
  {
   "cell_type": "code",
   "execution_count": 3,
   "metadata": {},
   "outputs": [],
   "source": [
    "lprofiles, ltags, ldeployments = meop_metadata.read_lists_metadata(rebuild=False,verbose=False,public=False,Tdata=True)\n",
    "lprofiles_public, ltags_public, ldeployments_public = meop_metadata.read_lists_metadata(rebuild=False,verbose=False,public=True,Tdata=True)"
   ]
  },
  {
   "cell_type": "code",
   "execution_count": 5,
   "metadata": {},
   "outputs": [
    {
     "data": {
      "text/plain": [
       "<matplotlib.axes._subplots.AxesSubplot at 0x7ff2afec2350>"
      ]
     },
     "execution_count": 5,
     "metadata": {},
     "output_type": "execute_result"
    },
    {
     "data": {
      "image/png": "[encoded data removed]",
      "text/plain": [
       "<Figure size 432x288 with 1 Axes>"
      ]
     },
     "metadata": {
      "needs_background": "light"
     },
     "output_type": "display_data"
    }
   ],
   "source": [
    "lprofiles_public.year.plot()"
   ]
  },
  {
   "cell_type": "code",
   "execution_count": 5,
   "metadata": {},
   "outputs": [
    {
     "data": {
      "text/plain": [
       "Index(['SMRU_PLATFORM_CODE', 'DEPLOYMENT_CODE', 'JULD', 'LATITUDE',\n",
       "       'LONGITUDE', 'year_x', 'month', 'day', 'MASK', 'N_PROF_TEMP',\n",
       "       'N_PROF_PSAL', 'N_PROF_CHLA', 'PUBLIC', 'T1', 'T2', 'S1', 'S2',\n",
       "       'remove', 'Sremove', 'comments', 'variable_offset', 'instr_id',\n",
       "       'year_y', 'period', 'continuous', 'prefix'],\n",
       "      dtype='object')"
      ]
     },
     "execution_count": 5,
     "metadata": {},
     "output_type": "execute_result"
    }
   ],
   "source": [
    "ltags.columns"
   ]
  },
  {
   "cell_type": "code",
   "execution_count": 6,
   "metadata": {},
   "outputs": [
    {
     "name": "stdout",
     "output_type": "stream",
     "text": [
      "Number of valid T profiles, total : 656134\n",
      "Number of valid T profiles, public: 590379\n",
      "Number of valid T profiles, public, south of 55S:  272602\n"
     ]
    }
   ],
   "source": [
    "print('Number of valid T profiles, total :',lprofiles.N_TEMP.count())\n",
    "print('Number of valid T profiles, public:',lprofiles_public.N_TEMP.count())\n",
    "print('Number of valid T profiles, public, south of 55S: ',lprofiles_public[lprofiles_public.LATITUDE<-55].N_TEMP.count())"
   ]
  },
  {
   "cell_type": "code",
   "execution_count": 11,
   "metadata": {},
   "outputs": [
    {
     "name": "stdout",
     "output_type": "stream",
     "text": [
      "Number of valid S profiles, total : 521754\n",
      "Number of valid S profiles, public: 457743\n",
      "Number of valid S profiles, public, south of 55S:  234952\n"
     ]
    }
   ],
   "source": [
    "print('Number of valid S profiles, total :',lprofiles.N_PSAL.count())\n",
    "print('Number of valid S profiles, public:',lprofiles_public.N_PSAL.count())\n",
    "print('Number of valid S profiles, public, south of 55S: ',lprofiles_public[lprofiles_public.LATITUDE<-55].N_PSAL.count())"
   ]
  },
  {
   "cell_type": "code",
   "execution_count": 17,
   "metadata": {},
   "outputs": [
    {
     "name": "stdout",
     "output_type": "stream",
     "text": [
      "Number of valid tags, public, south of 55S:  781\n"
     ]
    }
   ],
   "source": [
    "# select tags with at least one profile south of 55S\n",
    "index_tags = lprofiles_public[lprofiles_public.LATITUDE<-55].SMRU_PLATFORM_CODE.unique()\n",
    "print('Number of valid tags, public, south of 55S: ',len(index_tags))"
   ]
  },
  {
   "cell_type": "code",
   "execution_count": 9,
   "metadata": {},
   "outputs": [
    {
     "name": "stdout",
     "output_type": "stream",
     "text": [
      "Number of valid tags, public, with chla:  108\n",
      "Number of valid tags, public, with chla:  26\n",
      "\n",
      "Number of valid F profiles, total :  26801\n",
      "Number of valid F profiles, public:  26328\n",
      "Number of valid F profiles, public, south of 55S:  3528\n"
     ]
    }
   ],
   "source": [
    "# select tags with at least one Chla profile\n",
    "index_tags = lprofiles_public[lprofiles_public.N_CHLA>0].SMRU_PLATFORM_CODE.unique()\n",
    "print('Number of valid tags, public, with chla: ',len(index_tags))\n",
    "\n",
    "# select tags with at least one Chla profile south of 50S\n",
    "index_tags = lprofiles_public[(lprofiles_public.N_CHLA>0)&(lprofiles_public.LATITUDE<-55)].SMRU_PLATFORM_CODE.unique()\n",
    "print('Number of valid tags, public, with chla: ',len(index_tags))\n",
    "\n",
    "# Number of profiles of Chla\n",
    "print('')\n",
    "print('Number of valid F profiles, total : ',lprofiles[lprofiles.N_CHLA>0].N_CHLA.count())\n",
    "print('Number of valid F profiles, public: ',lprofiles_public[lprofiles_public.N_CHLA>0].N_CHLA.count())\n",
    "print('Number of valid F profiles, public, south of 55S: ',lprofiles_public[(lprofiles_public.N_CHLA>0)&(lprofiles_public.LATITUDE<-55)].N_CHLA.count())"
   ]
  }
 ],
 "metadata": {
  "kernelspec": {
   "display_name": "Python 3",
   "language": "python",
   "name": "python3"
  },
  "language_info": {
   "codemirror_mode": {
    "name": "ipython",
    "version": 3
   },
   "file_extension": ".py",
   "mimetype": "text/x-python",
   "name": "python",
   "nbconvert_exporter": "python",
   "pygments_lexer": "ipython3",
   "version": "3.7.8"
  }
 },
 "nbformat": 4,
 "nbformat_minor": 4
}
