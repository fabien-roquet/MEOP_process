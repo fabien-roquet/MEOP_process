{
 "cells": [
  {
   "cell_type": "markdown",
   "metadata": {},
   "source": [
    "# Compute statistics about the global database\n",
    "\n",
    "* use lprofiles, ltags, ldeployments\n",
    "* list files are created in sc_list_profiles.ipynb"
   ]
  },
  {
   "cell_type": "code",
   "execution_count": 1,
   "metadata": {},
   "outputs": [
    {
     "data": {
      "text/plain": [
       "<module 'meop_metadata' from '/media/disk2/roquet/MEOP_process/python/meop_metadata.py'>"
      ]
     },
     "execution_count": 1,
     "metadata": {},
     "output_type": "execute_result"
    }
   ],
   "source": [
    "from pathlib import Path\n",
    "import sys\n",
    "import os\n",
    "import shutil\n",
    "import numpy as np\n",
    "import pandas as pd\n",
    "import xarray as xr\n",
    "import matplotlib.pyplot as plt\n",
    "import gsw\n",
    "from IPython.display import display,Image\n",
    "\n",
    "from importlib import reload\n",
    "import meop_metadata\n",
    "import meop_plot_data\n",
    "reload(meop_metadata)"
   ]
  },
  {
   "cell_type": "markdown",
   "metadata": {},
   "source": [
    "## Write statistics"
   ]
  },
  {
   "cell_type": "code",
   "execution_count": 3,
   "metadata": {},
   "outputs": [],
   "source": [
    "lprofiles, ltags, ldeployments = meop_metadata.read_lists_metadata(rebuild=False,verbose=False,public=False,Tdata=True)\n",
    "lprofiles_public, ltags_public, ldeployments_public = meop_metadata.read_lists_metadata(rebuild=False,verbose=False,public=True,Tdata=True)"
   ]
  },
  {
   "cell_type": "code",
   "execution_count": 4,
   "metadata": {},
   "outputs": [
    {
     "data": {
      "text/html": [
       "<div>\n",
       "<style scoped>\n",
       "    .dataframe tbody tr th:only-of-type {\n",
       "        vertical-align: middle;\n",
       "    }\n",
       "\n",
       "    .dataframe tbody tr th {\n",
       "        vertical-align: top;\n",
       "    }\n",
       "\n",
       "    .dataframe thead th {\n",
       "        text-align: right;\n",
       "    }\n",
       "</style>\n",
       "<table border=\"1\" class=\"dataframe\">\n",
       "  <thead>\n",
       "    <tr style=\"text-align: right;\">\n",
       "      <th></th>\n",
       "      <th>DEPLOYMENT_CODE</th>\n",
       "      <th>SMRU_PLATFORM_CODE</th>\n",
       "      <th>CYCLE_NUMBER</th>\n",
       "      <th>JULD</th>\n",
       "      <th>LATITUDE</th>\n",
       "      <th>LONGITUDE</th>\n",
       "      <th>N_TEMP</th>\n",
       "      <th>N_PSAL</th>\n",
       "      <th>N_CHLA</th>\n",
       "      <th>year</th>\n",
       "      <th>month</th>\n",
       "      <th>day</th>\n",
       "      <th>MASK</th>\n",
       "    </tr>\n",
       "  </thead>\n",
       "  <tbody>\n",
       "    <tr>\n",
       "      <th>0</th>\n",
       "      <td>wd04</td>\n",
       "      <td>wd04-907-11</td>\n",
       "      <td>1</td>\n",
       "      <td>2011-03-25 09:30:00</td>\n",
       "      <td>-68.430260</td>\n",
       "      <td>78.334786</td>\n",
       "      <td>27.0</td>\n",
       "      <td>NaN</td>\n",
       "      <td>NaN</td>\n",
       "      <td>2011</td>\n",
       "      <td>3</td>\n",
       "      <td>25</td>\n",
       "      <td>Southern Ocean</td>\n",
       "    </tr>\n",
       "    <tr>\n",
       "      <th>1</th>\n",
       "      <td>wd04</td>\n",
       "      <td>wd04-907-11</td>\n",
       "      <td>2</td>\n",
       "      <td>2011-03-25 14:00:00</td>\n",
       "      <td>-68.408180</td>\n",
       "      <td>78.434688</td>\n",
       "      <td>6.0</td>\n",
       "      <td>NaN</td>\n",
       "      <td>NaN</td>\n",
       "      <td>2011</td>\n",
       "      <td>3</td>\n",
       "      <td>25</td>\n",
       "      <td>Southern Ocean</td>\n",
       "    </tr>\n",
       "    <tr>\n",
       "      <th>2</th>\n",
       "      <td>wd04</td>\n",
       "      <td>wd04-907-11</td>\n",
       "      <td>3</td>\n",
       "      <td>2011-03-25 20:49:59</td>\n",
       "      <td>-68.360050</td>\n",
       "      <td>78.560489</td>\n",
       "      <td>28.0</td>\n",
       "      <td>NaN</td>\n",
       "      <td>NaN</td>\n",
       "      <td>2011</td>\n",
       "      <td>3</td>\n",
       "      <td>25</td>\n",
       "      <td>Southern Ocean</td>\n",
       "    </tr>\n",
       "    <tr>\n",
       "      <th>3</th>\n",
       "      <td>wd04</td>\n",
       "      <td>wd04-907-11</td>\n",
       "      <td>4</td>\n",
       "      <td>2011-03-26 02:09:59</td>\n",
       "      <td>-68.372521</td>\n",
       "      <td>78.528017</td>\n",
       "      <td>28.0</td>\n",
       "      <td>NaN</td>\n",
       "      <td>NaN</td>\n",
       "      <td>2011</td>\n",
       "      <td>3</td>\n",
       "      <td>26</td>\n",
       "      <td>Southern Ocean</td>\n",
       "    </tr>\n",
       "    <tr>\n",
       "      <th>4</th>\n",
       "      <td>wd04</td>\n",
       "      <td>wd04-907-11</td>\n",
       "      <td>5</td>\n",
       "      <td>2011-03-26 05:20:00</td>\n",
       "      <td>-68.395222</td>\n",
       "      <td>78.509480</td>\n",
       "      <td>28.0</td>\n",
       "      <td>NaN</td>\n",
       "      <td>NaN</td>\n",
       "      <td>2011</td>\n",
       "      <td>3</td>\n",
       "      <td>26</td>\n",
       "      <td>Southern Ocean</td>\n",
       "    </tr>\n",
       "    <tr>\n",
       "      <th>...</th>\n",
       "      <td>...</td>\n",
       "      <td>...</td>\n",
       "      <td>...</td>\n",
       "      <td>...</td>\n",
       "      <td>...</td>\n",
       "      <td>...</td>\n",
       "      <td>...</td>\n",
       "      <td>...</td>\n",
       "      <td>...</td>\n",
       "      <td>...</td>\n",
       "      <td>...</td>\n",
       "      <td>...</td>\n",
       "      <td>...</td>\n",
       "    </tr>\n",
       "    <tr>\n",
       "      <th>644375</th>\n",
       "      <td>ct83</td>\n",
       "      <td>ct83-859-13</td>\n",
       "      <td>337</td>\n",
       "      <td>2014-06-19 20:29:59</td>\n",
       "      <td>-62.324400</td>\n",
       "      <td>-60.801100</td>\n",
       "      <td>16.0</td>\n",
       "      <td>16.0</td>\n",
       "      <td>NaN</td>\n",
       "      <td>2014</td>\n",
       "      <td>6</td>\n",
       "      <td>19</td>\n",
       "      <td>Southern Ocean</td>\n",
       "    </tr>\n",
       "    <tr>\n",
       "      <th>644376</th>\n",
       "      <td>ct83</td>\n",
       "      <td>ct83-859-13</td>\n",
       "      <td>338</td>\n",
       "      <td>2014-06-20 03:10:00</td>\n",
       "      <td>-62.323200</td>\n",
       "      <td>-60.946100</td>\n",
       "      <td>16.0</td>\n",
       "      <td>16.0</td>\n",
       "      <td>NaN</td>\n",
       "      <td>2014</td>\n",
       "      <td>6</td>\n",
       "      <td>20</td>\n",
       "      <td>Southern Ocean</td>\n",
       "    </tr>\n",
       "    <tr>\n",
       "      <th>644377</th>\n",
       "      <td>ct83</td>\n",
       "      <td>ct83-859-13</td>\n",
       "      <td>339</td>\n",
       "      <td>2014-06-20 12:10:00</td>\n",
       "      <td>-62.289400</td>\n",
       "      <td>-60.876400</td>\n",
       "      <td>16.0</td>\n",
       "      <td>16.0</td>\n",
       "      <td>NaN</td>\n",
       "      <td>2014</td>\n",
       "      <td>6</td>\n",
       "      <td>20</td>\n",
       "      <td>Southern Ocean</td>\n",
       "    </tr>\n",
       "    <tr>\n",
       "      <th>644378</th>\n",
       "      <td>ct83</td>\n",
       "      <td>ct83-859-13</td>\n",
       "      <td>340</td>\n",
       "      <td>2014-06-21 03:59:59</td>\n",
       "      <td>-62.353100</td>\n",
       "      <td>-60.765100</td>\n",
       "      <td>8.0</td>\n",
       "      <td>8.0</td>\n",
       "      <td>NaN</td>\n",
       "      <td>2014</td>\n",
       "      <td>6</td>\n",
       "      <td>21</td>\n",
       "      <td>Southern Ocean</td>\n",
       "    </tr>\n",
       "    <tr>\n",
       "      <th>644379</th>\n",
       "      <td>ct83</td>\n",
       "      <td>ct83-859-13</td>\n",
       "      <td>341</td>\n",
       "      <td>2014-06-21 21:00:00</td>\n",
       "      <td>-62.335000</td>\n",
       "      <td>-60.799300</td>\n",
       "      <td>8.0</td>\n",
       "      <td>8.0</td>\n",
       "      <td>NaN</td>\n",
       "      <td>2014</td>\n",
       "      <td>6</td>\n",
       "      <td>21</td>\n",
       "      <td>Southern Ocean</td>\n",
       "    </tr>\n",
       "  </tbody>\n",
       "</table>\n",
       "<p>590379 rows × 13 columns</p>\n",
       "</div>"
      ],
      "text/plain": [
       "       DEPLOYMENT_CODE SMRU_PLATFORM_CODE  CYCLE_NUMBER                 JULD  \\\n",
       "0                 wd04        wd04-907-11             1  2011-03-25 09:30:00   \n",
       "1                 wd04        wd04-907-11             2  2011-03-25 14:00:00   \n",
       "2                 wd04        wd04-907-11             3  2011-03-25 20:49:59   \n",
       "3                 wd04        wd04-907-11             4  2011-03-26 02:09:59   \n",
       "4                 wd04        wd04-907-11             5  2011-03-26 05:20:00   \n",
       "...                ...                ...           ...                  ...   \n",
       "644375            ct83        ct83-859-13           337  2014-06-19 20:29:59   \n",
       "644376            ct83        ct83-859-13           338  2014-06-20 03:10:00   \n",
       "644377            ct83        ct83-859-13           339  2014-06-20 12:10:00   \n",
       "644378            ct83        ct83-859-13           340  2014-06-21 03:59:59   \n",
       "644379            ct83        ct83-859-13           341  2014-06-21 21:00:00   \n",
       "\n",
       "         LATITUDE  LONGITUDE  N_TEMP  N_PSAL  N_CHLA  year  month  day  \\\n",
       "0      -68.430260  78.334786    27.0     NaN     NaN  2011      3   25   \n",
       "1      -68.408180  78.434688     6.0     NaN     NaN  2011      3   25   \n",
       "2      -68.360050  78.560489    28.0     NaN     NaN  2011      3   25   \n",
       "3      -68.372521  78.528017    28.0     NaN     NaN  2011      3   26   \n",
       "4      -68.395222  78.509480    28.0     NaN     NaN  2011      3   26   \n",
       "...           ...        ...     ...     ...     ...   ...    ...  ...   \n",
       "644375 -62.324400 -60.801100    16.0    16.0     NaN  2014      6   19   \n",
       "644376 -62.323200 -60.946100    16.0    16.0     NaN  2014      6   20   \n",
       "644377 -62.289400 -60.876400    16.0    16.0     NaN  2014      6   20   \n",
       "644378 -62.353100 -60.765100     8.0     8.0     NaN  2014      6   21   \n",
       "644379 -62.335000 -60.799300     8.0     8.0     NaN  2014      6   21   \n",
       "\n",
       "                  MASK  \n",
       "0       Southern Ocean  \n",
       "1       Southern Ocean  \n",
       "2       Southern Ocean  \n",
       "3       Southern Ocean  \n",
       "4       Southern Ocean  \n",
       "...                ...  \n",
       "644375  Southern Ocean  \n",
       "644376  Southern Ocean  \n",
       "644377  Southern Ocean  \n",
       "644378  Southern Ocean  \n",
       "644379  Southern Ocean  \n",
       "\n",
       "[590379 rows x 13 columns]"
      ]
     },
     "execution_count": 4,
     "metadata": {},
     "output_type": "execute_result"
    }
   ],
   "source": [
    "lprofiles_public"
   ]
  },
  {
   "cell_type": "code",
   "execution_count": 5,
   "metadata": {},
   "outputs": [
    {
     "data": {
      "text/plain": [
       "Index(['SMRU_PLATFORM_CODE', 'DEPLOYMENT_CODE', 'JULD', 'LATITUDE',\n",
       "       'LONGITUDE', 'year_x', 'month', 'day', 'MASK', 'N_PROF_TEMP',\n",
       "       'N_PROF_PSAL', 'N_PROF_CHLA', 'PUBLIC', 'T1', 'T2', 'S1', 'S2',\n",
       "       'remove', 'Sremove', 'comments', 'variable_offset', 'instr_id',\n",
       "       'year_y', 'period', 'continuous', 'prefix'],\n",
       "      dtype='object')"
      ]
     },
     "execution_count": 5,
     "metadata": {},
     "output_type": "execute_result"
    }
   ],
   "source": [
    "ltags.columns"
   ]
  },
  {
   "cell_type": "code",
   "execution_count": 6,
   "metadata": {},
   "outputs": [
    {
     "name": "stdout",
     "output_type": "stream",
     "text": [
      "Number of valid T profiles, total : 656134\n",
      "Number of valid T profiles, public: 590379\n",
      "Number of valid T profiles, public, south of 55S:  272602\n"
     ]
    }
   ],
   "source": [
    "print('Number of valid T profiles, total :',lprofiles.N_TEMP.count())\n",
    "print('Number of valid T profiles, public:',lprofiles_public.N_TEMP.count())\n",
    "print('Number of valid T profiles, public, south of 55S: ',lprofiles_public[lprofiles_public.LATITUDE<-55].N_TEMP.count())"
   ]
  },
  {
   "cell_type": "code",
   "execution_count": 11,
   "metadata": {},
   "outputs": [
    {
     "name": "stdout",
     "output_type": "stream",
     "text": [
      "Number of valid S profiles, total : 521754\n",
      "Number of valid S profiles, public: 457743\n",
      "Number of valid S profiles, public, south of 55S:  234952\n"
     ]
    }
   ],
   "source": [
    "print('Number of valid S profiles, total :',lprofiles.N_PSAL.count())\n",
    "print('Number of valid S profiles, public:',lprofiles_public.N_PSAL.count())\n",
    "print('Number of valid S profiles, public, south of 55S: ',lprofiles_public[lprofiles_public.LATITUDE<-55].N_PSAL.count())"
   ]
  },
  {
   "cell_type": "code",
   "execution_count": 17,
   "metadata": {},
   "outputs": [
    {
     "name": "stdout",
     "output_type": "stream",
     "text": [
      "Number of valid tags, public, south of 55S:  781\n"
     ]
    }
   ],
   "source": [
    "# select tags with at least one profile south of 55S\n",
    "index_tags = lprofiles_public[lprofiles_public.LATITUDE<-55].SMRU_PLATFORM_CODE.unique()\n",
    "print('Number of valid tags, public, south of 55S: ',len(index_tags))"
   ]
  },
  {
   "cell_type": "code",
   "execution_count": 9,
   "metadata": {},
   "outputs": [
    {
     "name": "stdout",
     "output_type": "stream",
     "text": [
      "Number of valid tags, public, with chla:  108\n",
      "Number of valid tags, public, with chla:  26\n",
      "\n",
      "Number of valid F profiles, total :  26801\n",
      "Number of valid F profiles, public:  26328\n",
      "Number of valid F profiles, public, south of 55S:  3528\n"
     ]
    }
   ],
   "source": [
    "# select tags with at least one Chla profile\n",
    "index_tags = lprofiles_public[lprofiles_public.N_CHLA>0].SMRU_PLATFORM_CODE.unique()\n",
    "print('Number of valid tags, public, with chla: ',len(index_tags))\n",
    "\n",
    "# select tags with at least one Chla profile south of 50S\n",
    "index_tags = lprofiles_public[(lprofiles_public.N_CHLA>0)&(lprofiles_public.LATITUDE<-55)].SMRU_PLATFORM_CODE.unique()\n",
    "print('Number of valid tags, public, with chla: ',len(index_tags))\n",
    "\n",
    "# Number of profiles of Chla\n",
    "print('')\n",
    "print('Number of valid F profiles, total : ',lprofiles[lprofiles.N_CHLA>0].N_CHLA.count())\n",
    "print('Number of valid F profiles, public: ',lprofiles_public[lprofiles_public.N_CHLA>0].N_CHLA.count())\n",
    "print('Number of valid F profiles, public, south of 55S: ',lprofiles_public[(lprofiles_public.N_CHLA>0)&(lprofiles_public.LATITUDE<-55)].N_CHLA.count())"
   ]
  }
 ],
 "metadata": {
  "kernelspec": {
   "display_name": "Python 3",
   "language": "python",
   "name": "python3"
  },
  "language_info": {
   "codemirror_mode": {
    "name": "ipython",
    "version": 3
   },
   "file_extension": ".py",
   "mimetype": "text/x-python",
   "name": "python",
   "nbconvert_exporter": "python",
   "pygments_lexer": "ipython3",
   "version": "3.7.8"
  }
 },
 "nbformat": 4,
 "nbformat_minor": 4
}
