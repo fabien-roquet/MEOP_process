{
 "cells": [
  {
   "cell_type": "markdown",
   "metadata": {},
   "source": [
    "# Set of tools and function to use Matlab MEOP scripts within python"
   ]
  },
  {
   "cell_type": "code",
   "execution_count": 1,
   "metadata": {
    "tags": []
   },
   "outputs": [
    {
     "data": {
      "text/plain": [
       "2"
      ]
     },
     "execution_count": 1,
     "metadata": {},
     "output_type": "execute_result"
    }
   ],
   "source": [
    "import meop_process\n",
    "import meop_process_copy\n",
    "from pathlib import Path\n",
    "import sys\n",
    "import os\n",
    "import shutil\n",
    "import numpy as np\n",
    "import pandas as pd\n",
    "import xarray as xr\n",
    "from shutil import copy\n",
    "import zipfile\n",
    "import meop_filenames\n",
    "from importlib import reload\n",
    "import os\n",
    "os.umask(int('002', 8))"
   ]
  },
  {
   "cell_type": "markdown",
   "metadata": {},
   "source": [
    "# Code to execute in a terminal"
   ]
  },
  {
   "cell_type": "markdown",
   "metadata": {},
   "source": [
    "1. process a deployment:\n",
    ">python meop_process.py --deployment ct107 --do_all\n",
    "2. process a tag\n",
    ">python meop_process.py --smru_name ct107-933-13 --do_all\n",
    "3. help menu\n",
    ">python meop_process.py -h"
   ]
  },
  {
   "cell_type": "markdown",
   "metadata": {},
   "source": [
    "# Code to process data"
   ]
  },
  {
   "cell_type": "markdown",
   "metadata": {},
   "source": [
    "## Initialize matlab"
   ]
  },
  {
   "cell_type": "code",
   "execution_count": 2,
   "metadata": {
    "tags": []
   },
   "outputs": [
    {
     "name": "stdout",
     "output_type": "stream",
     "text": [
      "matlab started\n",
      "cd /media/disk2/roquet/MEOP_process;\n",
      "\n",
      "PWD: /media/disk2/roquet/MEOP_process\n"
     ]
    }
   ],
   "source": [
    "meop_process.start_matlab()"
   ]
  },
  {
   "cell_type": "code",
   "execution_count": 3,
   "metadata": {
    "tags": []
   },
   "outputs": [
    {
     "name": "stdout",
     "output_type": "stream",
     "text": [
      "cd /media/disk2/roquet/MEOP_process\n",
      "\n",
      "disp(config_id);\n",
      "jupyter_vincent2_pc207_linux\n",
      "\n"
     ]
    }
   ],
   "source": [
    "meop_process.run_command('cd /media/disk2/roquet/MEOP_process')\n",
    "meop_process.run_command('disp(config_id);');"
   ]
  },
  {
   "cell_type": "code",
   "execution_count": 4,
   "metadata": {
    "tags": []
   },
   "outputs": [
    {
     "name": "stdout",
     "output_type": "stream",
     "text": [
      "conf = init_mirounga;\n",
      "\n"
     ]
    }
   ],
   "source": [
    "conf = meop_process.init_mirounga()"
   ]
  },
  {
   "cell_type": "markdown",
   "metadata": {},
   "source": [
    "## Import list of deployments"
   ]
  },
  {
   "cell_type": "code",
   "execution_count": 5,
   "metadata": {
    "tags": []
   },
   "outputs": [
    {
     "data": {
      "text/html": [
       "<div>\n",
       "<style scoped>\n",
       "    .dataframe tbody tr th:only-of-type {\n",
       "        vertical-align: middle;\n",
       "    }\n",
       "\n",
       "    .dataframe tbody tr th {\n",
       "        vertical-align: top;\n",
       "    }\n",
       "\n",
       "    .dataframe thead th {\n",
       "        text-align: right;\n",
       "    }\n",
       "</style>\n",
       "<table border=\"1\" class=\"dataframe\">\n",
       "  <thead>\n",
       "    <tr style=\"text-align: right;\">\n",
       "      <th></th>\n",
       "      <th>PI_CODE</th>\n",
       "      <th>PROCESS</th>\n",
       "      <th>PUBLIC</th>\n",
       "      <th>COUNTRY</th>\n",
       "      <th>FIRST_VERSION</th>\n",
       "      <th>LAST_VERSION</th>\n",
       "      <th>START_DATE</th>\n",
       "      <th>END_DATE</th>\n",
       "      <th>START_DATE_JUL</th>\n",
       "    </tr>\n",
       "    <tr>\n",
       "      <th>DEPLOYMENT_CODE</th>\n",
       "      <th></th>\n",
       "      <th></th>\n",
       "      <th></th>\n",
       "      <th></th>\n",
       "      <th></th>\n",
       "      <th></th>\n",
       "      <th></th>\n",
       "      <th></th>\n",
       "      <th></th>\n",
       "    </tr>\n",
       "  </thead>\n",
       "  <tbody>\n",
       "    <tr>\n",
       "      <th>wd04</th>\n",
       "      <td>HINDELL</td>\n",
       "      <td>1</td>\n",
       "      <td>1</td>\n",
       "      <td>AUSTRALIA</td>\n",
       "      <td>MEOP-CTD_2016-07-12</td>\n",
       "      <td>MEOP-CTD_2020-01-02</td>\n",
       "      <td>03/26/0011</td>\n",
       "      <td>10/08/0011</td>\n",
       "      <td>4103.0</td>\n",
       "    </tr>\n",
       "    <tr>\n",
       "      <th>awru1</th>\n",
       "      <td>HINDELL</td>\n",
       "      <td>1</td>\n",
       "      <td>1</td>\n",
       "      <td>AUSTRALIA</td>\n",
       "      <td>MEOP-CTD_2015-05-31</td>\n",
       "      <td>MEOP-CTD_2020-01-02</td>\n",
       "      <td>02/12/0007</td>\n",
       "      <td>10/03/0007</td>\n",
       "      <td>2600.0</td>\n",
       "    </tr>\n",
       "    <tr>\n",
       "      <th>ct149</th>\n",
       "      <td>HINDELL</td>\n",
       "      <td>1</td>\n",
       "      <td>1</td>\n",
       "      <td>AUSTRALIA</td>\n",
       "      <td>MEOP-CTD_2020-01-02</td>\n",
       "      <td>MEOP-CTD_2020-01-02</td>\n",
       "      <td>12/20/0018</td>\n",
       "      <td>NaT</td>\n",
       "      <td>6929.0</td>\n",
       "    </tr>\n",
       "    <tr>\n",
       "      <th>ct2</th>\n",
       "      <td>HINDELL</td>\n",
       "      <td>1</td>\n",
       "      <td>1</td>\n",
       "      <td>AUSTRALIA</td>\n",
       "      <td>MEOP-CTD_2015-05-31</td>\n",
       "      <td>MEOP-CTD_2020-01-02</td>\n",
       "      <td>01/20/0004</td>\n",
       "      <td>08/01/0004</td>\n",
       "      <td>1481.0</td>\n",
       "    </tr>\n",
       "    <tr>\n",
       "      <th>ct36</th>\n",
       "      <td>HINDELL</td>\n",
       "      <td>1</td>\n",
       "      <td>1</td>\n",
       "      <td>AUSTRALIA</td>\n",
       "      <td>MEOP-CTD_2015-05-31</td>\n",
       "      <td>MEOP-CTD_2020-01-02</td>\n",
       "      <td>12/26/0008</td>\n",
       "      <td>03/01/0009</td>\n",
       "      <td>3283.0</td>\n",
       "    </tr>\n",
       "    <tr>\n",
       "      <th>...</th>\n",
       "      <td>...</td>\n",
       "      <td>...</td>\n",
       "      <td>...</td>\n",
       "      <td>...</td>\n",
       "      <td>...</td>\n",
       "      <td>...</td>\n",
       "      <td>...</td>\n",
       "      <td>...</td>\n",
       "      <td>...</td>\n",
       "    </tr>\n",
       "    <tr>\n",
       "      <th>sk3</th>\n",
       "      <td>BLOCK</td>\n",
       "      <td>1</td>\n",
       "      <td>0</td>\n",
       "      <td>USA</td>\n",
       "      <td>NaN</td>\n",
       "      <td>NaN</td>\n",
       "      <td>NaT</td>\n",
       "      <td>NaT</td>\n",
       "      <td>NaN</td>\n",
       "    </tr>\n",
       "    <tr>\n",
       "      <th>wd2</th>\n",
       "      <td>HINDELL</td>\n",
       "      <td>1</td>\n",
       "      <td>0</td>\n",
       "      <td>UNKNOWN</td>\n",
       "      <td>NaN</td>\n",
       "      <td>NaN</td>\n",
       "      <td>NaT</td>\n",
       "      <td>NaT</td>\n",
       "      <td>NaN</td>\n",
       "    </tr>\n",
       "    <tr>\n",
       "      <th>ct171</th>\n",
       "      <td>XTOPHE</td>\n",
       "      <td>1</td>\n",
       "      <td>0</td>\n",
       "      <td>UNKNOWN</td>\n",
       "      <td>NaN</td>\n",
       "      <td>NaN</td>\n",
       "      <td>NaT</td>\n",
       "      <td>NaT</td>\n",
       "      <td>NaN</td>\n",
       "    </tr>\n",
       "    <tr>\n",
       "      <th>wd21</th>\n",
       "      <td>PINONES</td>\n",
       "      <td>1</td>\n",
       "      <td>0</td>\n",
       "      <td>UNKNOWN</td>\n",
       "      <td>NaN</td>\n",
       "      <td>NaN</td>\n",
       "      <td>NaT</td>\n",
       "      <td>NaT</td>\n",
       "      <td>NaN</td>\n",
       "    </tr>\n",
       "    <tr>\n",
       "      <th>wd25</th>\n",
       "      <td>PINONES</td>\n",
       "      <td>1</td>\n",
       "      <td>0</td>\n",
       "      <td>UNKNOWN</td>\n",
       "      <td>NaN</td>\n",
       "      <td>NaN</td>\n",
       "      <td>NaT</td>\n",
       "      <td>NaT</td>\n",
       "      <td>NaN</td>\n",
       "    </tr>\n",
       "  </tbody>\n",
       "</table>\n",
       "<p>312 rows × 9 columns</p>\n",
       "</div>"
      ],
      "text/plain": [
       "                 PI_CODE  PROCESS  PUBLIC    COUNTRY        FIRST_VERSION  \\\n",
       "DEPLOYMENT_CODE                                                             \n",
       "wd04             HINDELL        1       1  AUSTRALIA  MEOP-CTD_2016-07-12   \n",
       "awru1            HINDELL        1       1  AUSTRALIA  MEOP-CTD_2015-05-31   \n",
       "ct149            HINDELL        1       1  AUSTRALIA  MEOP-CTD_2020-01-02   \n",
       "ct2              HINDELL        1       1  AUSTRALIA  MEOP-CTD_2015-05-31   \n",
       "ct36             HINDELL        1       1  AUSTRALIA  MEOP-CTD_2015-05-31   \n",
       "...                  ...      ...     ...        ...                  ...   \n",
       "sk3                BLOCK        1       0        USA                  NaN   \n",
       "wd2              HINDELL        1       0    UNKNOWN                  NaN   \n",
       "ct171             XTOPHE        1       0    UNKNOWN                  NaN   \n",
       "wd21             PINONES        1       0    UNKNOWN                  NaN   \n",
       "wd25             PINONES        1       0    UNKNOWN                  NaN   \n",
       "\n",
       "                        LAST_VERSION  START_DATE    END_DATE  START_DATE_JUL  \n",
       "DEPLOYMENT_CODE                                                               \n",
       "wd04             MEOP-CTD_2020-01-02  03/26/0011  10/08/0011          4103.0  \n",
       "awru1            MEOP-CTD_2020-01-02  02/12/0007  10/03/0007          2600.0  \n",
       "ct149            MEOP-CTD_2020-01-02  12/20/0018         NaT          6929.0  \n",
       "ct2              MEOP-CTD_2020-01-02  01/20/0004  08/01/0004          1481.0  \n",
       "ct36             MEOP-CTD_2020-01-02  12/26/0008  03/01/0009          3283.0  \n",
       "...                              ...         ...         ...             ...  \n",
       "sk3                              NaN         NaT         NaT             NaN  \n",
       "wd2                              NaN         NaT         NaT             NaN  \n",
       "ct171                            NaN         NaT         NaT             NaN  \n",
       "wd21                             NaN         NaT         NaT             NaN  \n",
       "wd25                             NaN         NaT         NaT             NaN  \n",
       "\n",
       "[312 rows x 9 columns]"
      ]
     },
     "execution_count": 5,
     "metadata": {},
     "output_type": "execute_result"
    }
   ],
   "source": [
    "import meop_metadata\n",
    "meop_metadata.read_list_deployment()"
   ]
  },
  {
   "cell_type": "code",
   "execution_count": 6,
   "metadata": {
    "tags": []
   },
   "outputs": [
    {
     "data": {
      "text/html": [
       "<div>\n",
       "<style scoped>\n",
       "    .dataframe tbody tr th:only-of-type {\n",
       "        vertical-align: middle;\n",
       "    }\n",
       "\n",
       "    .dataframe tbody tr th {\n",
       "        vertical-align: top;\n",
       "    }\n",
       "\n",
       "    .dataframe thead th {\n",
       "        text-align: right;\n",
       "    }\n",
       "</style>\n",
       "<table border=\"1\" class=\"dataframe\">\n",
       "  <thead>\n",
       "    <tr style=\"text-align: right;\">\n",
       "      <th></th>\n",
       "      <th>smru_platform_code</th>\n",
       "      <th>instr_id</th>\n",
       "      <th>year</th>\n",
       "      <th>period</th>\n",
       "      <th>continuous</th>\n",
       "      <th>prefix</th>\n",
       "    </tr>\n",
       "  </thead>\n",
       "  <tbody>\n",
       "    <tr>\n",
       "      <th>0</th>\n",
       "      <td>ct96-02-13</td>\n",
       "      <td>12554</td>\n",
       "      <td>2013</td>\n",
       "      <td>moult</td>\n",
       "      <td>0</td>\n",
       "      <td>NaN</td>\n",
       "    </tr>\n",
       "    <tr>\n",
       "      <th>1</th>\n",
       "      <td>ct96-03-13</td>\n",
       "      <td>12555</td>\n",
       "      <td>2013</td>\n",
       "      <td>moult</td>\n",
       "      <td>0</td>\n",
       "      <td>NaN</td>\n",
       "    </tr>\n",
       "    <tr>\n",
       "      <th>2</th>\n",
       "      <td>ct96-09-13</td>\n",
       "      <td>12564</td>\n",
       "      <td>2013</td>\n",
       "      <td>moult</td>\n",
       "      <td>0</td>\n",
       "      <td>NaN</td>\n",
       "    </tr>\n",
       "    <tr>\n",
       "      <th>3</th>\n",
       "      <td>ct96-10-13</td>\n",
       "      <td>12565</td>\n",
       "      <td>2013</td>\n",
       "      <td>moult</td>\n",
       "      <td>0</td>\n",
       "      <td>NaN</td>\n",
       "    </tr>\n",
       "    <tr>\n",
       "      <th>4</th>\n",
       "      <td>ct96-16-13</td>\n",
       "      <td>12569</td>\n",
       "      <td>2013</td>\n",
       "      <td>moult</td>\n",
       "      <td>0</td>\n",
       "      <td>NaN</td>\n",
       "    </tr>\n",
       "    <tr>\n",
       "      <th>...</th>\n",
       "      <td>...</td>\n",
       "      <td>...</td>\n",
       "      <td>...</td>\n",
       "      <td>...</td>\n",
       "      <td>...</td>\n",
       "      <td>...</td>\n",
       "    </tr>\n",
       "    <tr>\n",
       "      <th>195</th>\n",
       "      <td>ct159-052-BAT-19</td>\n",
       "      <td>15052</td>\n",
       "      <td>2020</td>\n",
       "      <td>reproduction</td>\n",
       "      <td>1</td>\n",
       "      <td>NaN</td>\n",
       "    </tr>\n",
       "    <tr>\n",
       "      <th>196</th>\n",
       "      <td>ct158-309-BAT-15</td>\n",
       "      <td>13309</td>\n",
       "      <td>2020</td>\n",
       "      <td>moult</td>\n",
       "      <td>1</td>\n",
       "      <td>NaN</td>\n",
       "    </tr>\n",
       "    <tr>\n",
       "      <th>197</th>\n",
       "      <td>ct158-310-BAT-15</td>\n",
       "      <td>13310</td>\n",
       "      <td>2020</td>\n",
       "      <td>moult</td>\n",
       "      <td>1</td>\n",
       "      <td>NaN</td>\n",
       "    </tr>\n",
       "    <tr>\n",
       "      <th>198</th>\n",
       "      <td>ct158-198-19</td>\n",
       "      <td>15198</td>\n",
       "      <td>2020</td>\n",
       "      <td>moult</td>\n",
       "      <td>1</td>\n",
       "      <td>NaN</td>\n",
       "    </tr>\n",
       "    <tr>\n",
       "      <th>199</th>\n",
       "      <td>ct158-199-19</td>\n",
       "      <td>15199</td>\n",
       "      <td>2020</td>\n",
       "      <td>moult</td>\n",
       "      <td>1</td>\n",
       "      <td>NaN</td>\n",
       "    </tr>\n",
       "  </tbody>\n",
       "</table>\n",
       "<p>200 rows × 6 columns</p>\n",
       "</div>"
      ],
      "text/plain": [
       "    smru_platform_code instr_id  year        period  continuous prefix\n",
       "0           ct96-02-13    12554  2013         moult           0    NaN\n",
       "1           ct96-03-13    12555  2013         moult           0    NaN\n",
       "2           ct96-09-13    12564  2013         moult           0    NaN\n",
       "3           ct96-10-13    12565  2013         moult           0    NaN\n",
       "4           ct96-16-13    12569  2013         moult           0    NaN\n",
       "..                 ...      ...   ...           ...         ...    ...\n",
       "195   ct159-052-BAT-19    15052  2020  reproduction           1    NaN\n",
       "196   ct158-309-BAT-15    13309  2020         moult           1    NaN\n",
       "197   ct158-310-BAT-15    13310  2020         moult           1    NaN\n",
       "198       ct158-198-19    15198  2020         moult           1    NaN\n",
       "199       ct158-199-19    15199  2020         moult           1    NaN\n",
       "\n",
       "[200 rows x 6 columns]"
      ]
     },
     "execution_count": 6,
     "metadata": {},
     "output_type": "execute_result"
    }
   ],
   "source": [
    "meop_metadata.read_list_deployment_hr()"
   ]
  },
  {
   "cell_type": "markdown",
   "metadata": {},
   "source": [
    "## Process one tag"
   ]
  },
  {
   "cell_type": "code",
   "execution_count": 11,
   "metadata": {
    "tags": []
   },
   "outputs": [
    {
     "name": "stdout",
     "output_type": "stream",
     "text": [
      "Process tag :ct160-Oxy726-20\n",
      "\n",
      "conf = init_mirounga;\n",
      "\n",
      "remove_deployment(conf,EXP,one_smru_name);\n",
      "\n",
      "process_single_tag(one_smru_name);\n",
      "\n"
     ]
    },
    {
     "data": {
      "text/plain": [
       "True"
      ]
     },
     "execution_count": 11,
     "metadata": {},
     "output_type": "execute_result"
    }
   ],
   "source": [
    "smru_name = 'ct160-Oxy726-20'\n",
    "meop_process.process_only_one_tag(deployment='',smru_name=smru_name,notlc=False)"
   ]
  },
  {
   "cell_type": "code",
   "execution_count": 23,
   "metadata": {
    "tags": []
   },
   "outputs": [
    {
     "name": "stdout",
     "output_type": "stream",
     "text": [
      "Process tag :ft23-C900-18\n",
      "\n",
      "conf = init_mirounga;\n",
      "\n",
      "remove_deployment(conf,EXP,one_smru_name);\n",
      "\n",
      "create_ncargo(conf,EXP,one_smru_name);\n",
      "Process smru_name=ft23-C900-18\n",
      "\t8 tags\n",
      "\t1160 profiles\n",
      "Tag ft23-C900-18 lr0 removed\n",
      "  ft23-C900-18: 39 profiles and 0 Sprofiles removed\n",
      "\n",
      "create_fr0(conf,EXP,one_smru_name);\n",
      "Process hr smru_name=ft23-C900-18\n",
      "  SMRU ft23-C900-18, PTT    63893: use smru locations for fr data\n",
      "  ft23-C900-18: hr tags with 6454 profiles\n",
      "Tag ft23-C900-18 fr0 removed\n",
      "  ft23-C900-18: 135 profiles and 2 Sprofiles removed\n",
      "\n",
      "create_fr0_without_lr0(conf,EXP,one_smru_name);\n",
      "Process hr smru_name=ft23-F676-18\n",
      "Location file for HR data missing: /home/jupyter-froqu/MEOP_dropbox/RAW_MEOP_DATA/raw_smru_hr_data/Locations/2018/14676\n",
      "Process hr smru_name=ft23-F781-18\n",
      "Location file for HR data missing: /home/jupyter-froqu/MEOP_dropbox/RAW_MEOP_DATA/raw_smru_hr_data/Locations/2018/14781\n",
      "Process hr smru_name=ft23-C899-18\n",
      "Location file for HR data missing: /home/jupyter-froqu/MEOP_dropbox/RAW_MEOP_DATA/raw_smru_hr_data/Locations/2018/14899\n",
      "Process hr smru_name=ft23-C900-18\n",
      "Location file for HR data missing: /home/jupyter-froqu/MEOP_dropbox/RAW_MEOP_DATA/raw_smru_hr_data/Locations/2018/14900\n",
      "Process hr smru_name=ft23-C901-18\n",
      "Location file for HR data missing: /home/jupyter-froqu/MEOP_dropbox/RAW_MEOP_DATA/raw_smru_hr_data/Locations/2018/14901\n",
      "Process hr smru_name=ft23-C902-18\n",
      "Location file for HR data missing: /home/jupyter-froqu/MEOP_dropbox/RAW_MEOP_DATA/raw_smru_hr_data/Locations/2018/14902\n",
      "Process hr smru_name=ft23-C903-18\n",
      "Location file for HR data missing: /home/jupyter-froqu/MEOP_dropbox/RAW_MEOP_DATA/raw_smru_hr_data/Locations/2018/14903\n",
      "Process hr smru_name=ft23-F904-18\n",
      "Location file for HR data missing: /home/jupyter-froqu/MEOP_dropbox/RAW_MEOP_DATA/raw_smru_hr_data/Locations/2018/14904\n",
      "Process hr smru_name=ft23-F905-18\n",
      "Location file for HR data missing: /home/jupyter-froqu/MEOP_dropbox/RAW_MEOP_DATA/raw_smru_hr_data/Locations/2018/14905\n",
      "\n",
      "update_metadata(conf,EXP,one_smru_name);\n",
      "\n",
      "apply_adjustments(conf,EXP,one_smru_name);\n",
      "\n",
      "apply_tlc(conf,EXP,one_smru_name);\n",
      "\n",
      "apply_tlc_fr(conf,EXP,one_smru_name);\n",
      "\n"
     ]
    },
    {
     "data": {
      "text/plain": [
       "True"
      ]
     },
     "execution_count": 23,
     "metadata": {},
     "output_type": "execute_result"
    }
   ],
   "source": [
    "smru_name = 'ft23-C900-18'\n",
    "meop_process.process_tags(deployment='',smru_name=smru_name,notlc=False)"
   ]
  },
  {
   "cell_type": "code",
   "execution_count": 26,
   "metadata": {
    "tags": []
   },
   "outputs": [
    {
     "name": "stdout",
     "output_type": "stream",
     "text": [
      "conf = init_mirounga;\n",
      "\n",
      "generate_plot2(conf,EXP,one_smru_name);\n",
      "plot diag ft23: lr0, raw\n",
      "plot diag ft23: lr1, adj\n",
      "plot diag ft23: hr1, adj\n",
      "plot diag ft23: fr1, adj\n",
      "\n"
     ]
    },
    {
     "data": {
      "text/plain": [
       "True"
      ]
     },
     "execution_count": 26,
     "metadata": {},
     "output_type": "execute_result"
    }
   ],
   "source": [
    "meop_process.generate_doc_latex(smru_name=smru_name)"
   ]
  },
  {
   "cell_type": "code",
   "execution_count": 24,
   "metadata": {
    "tags": []
   },
   "outputs": [
    {
     "name": "stdout",
     "output_type": "stream",
     "text": [
      "conf = init_mirounga;\n",
      "\n",
      "generate_plot1(conf,EXP,one_smru_name);\n",
      "calibration plots: ft23-C900-18\n",
      "\n"
     ]
    },
    {
     "data": {
      "text/plain": [
       "True"
      ]
     },
     "execution_count": 24,
     "metadata": {},
     "output_type": "execute_result"
    }
   ],
   "source": [
    "meop_process.generate_calibration_plots(smru_name=smru_name)"
   ]
  },
  {
   "cell_type": "markdown",
   "metadata": {},
   "source": [
    "# ct160"
   ]
  },
  {
   "cell_type": "code",
   "execution_count": 17,
   "metadata": {
    "tags": []
   },
   "outputs": [
    {
     "name": "stdout",
     "output_type": "stream",
     "text": [
      "conf = init_mirounga;\n",
      "\n",
      "\n",
      "info_deployment = \n",
      "\n",
      "  struct with fields:\n",
      "\n",
      "               EXP: 'ct168'\n",
      "                PI: 'GUINET'\n",
      "            NATION: 'FRANCE'\n",
      "            nomfic: 'ct168_ODV.txt'\n",
      "               dir: '/media/disk2/roquet/MEOP_process/final_dataset_prof/ct168/'\n",
      "           process: 1\n",
      "            public: 0\n",
      "          list_tag: [15x1 struct]\n",
      "      list_tag_lr0: [15x1 struct]\n",
      "      list_tag_lr1: [0x1 struct]\n",
      "      list_tag_hr0: [15x1 struct]\n",
      "      list_tag_hr1: [0x1 struct]\n",
      "      list_tag_hr2: [0x1 struct]\n",
      "      list_tag_fr0: [0x1 struct]\n",
      "      list_tag_fr1: [0x1 struct]\n",
      "    list_smru_name: {1x15 cell}\n",
      "\n",
      "\n"
     ]
    }
   ],
   "source": [
    "deployment = 'ct168'\n",
    "meop_process.load_info_deployment(deployment=deployment,smru_name='')\n",
    "meop_process.print_matlab('info_deployment')"
   ]
  },
  {
   "cell_type": "code",
   "execution_count": 18,
   "metadata": {
    "tags": []
   },
   "outputs": [],
   "source": [
    "meop_process.import_raw_data(deployment=deployment)"
   ]
  },
  {
   "cell_type": "code",
   "execution_count": 23,
   "metadata": {
    "tags": []
   },
   "outputs": [
    {
     "name": "stdout",
     "output_type": "stream",
     "text": [
      "Process deployment :ct168\n",
      "\n",
      "conf = init_mirounga;\n",
      "\n",
      "remove_deployment(conf,EXP,one_smru_name);\n",
      "\n",
      "create_ncargo(conf,EXP,one_smru_name);\n",
      "Process EXP=ct168\n",
      "\t15 tags\n",
      "\t1515 profiles\n",
      "  ct168-051-BAT2-19: 0 profiles and 0 Sprofiles removed\n",
      "  ct168-052-BAT2-19: 0 profiles and 44 Sprofiles removed\n",
      "Tag ct168-054-BAT-19 lr0 removed\n",
      "  ct168-054-BAT-19: 0 profiles and 16 Sprofiles removed\n",
      "  ct168-060-BAT-19: 1 profiles and 0 Sprofiles removed\n",
      "  ct168-061-BAT-19: 4 profiles and 0 Sprofiles removed\n",
      "  ct168-873-BAT3-19: 1 profiles and 0 Sprofiles removed\n",
      "  ct168-881-BAT3-19: 0 profiles and 0 Sprofiles removed\n",
      "  ct168-942BAT-21: 0 profiles and 0 Sprofiles removed\n",
      "  ct168-943-BAT2-19: 0 profiles and 0 Sprofiles removed\n",
      "  ct168-C899-BAT3-19: 0 profiles and 0 Sprofiles removed\n",
      "Tag ct168-F465-21 lr0 removed\n",
      "  ct168-F465-21: 0 profiles and 0 Sprofiles removed\n",
      "  ct168-F514-21: 2 profiles and 0 Sprofiles removed\n",
      "  ct168-F515-21: 0 profiles and 0 Sprofiles removed\n",
      "Tag ct168-F516-21 lr0 removed\n",
      "  ct168-F516-21: 0 profiles and 0 Sprofiles removed\n",
      "  ct168-F904-BAT2-19: 0 profiles and 0 Sprofiles removed\n",
      "\n",
      "create_fr0(conf,EXP,one_smru_name);\n",
      "\n",
      "create_fr0_without_lr0(conf,EXP,one_smru_name);\n",
      "\n",
      "update_metadata(conf,EXP,one_smru_name);\n",
      "\n",
      "apply_adjustments(conf,EXP,one_smru_name);\n",
      "\n",
      "apply_tlc(conf,EXP,one_smru_name);\n",
      "\n",
      "apply_tlc_fr(conf,EXP,one_smru_name);\n",
      "\n"
     ]
    },
    {
     "data": {
      "text/plain": [
       "True"
      ]
     },
     "execution_count": 23,
     "metadata": {},
     "output_type": "execute_result"
    }
   ],
   "source": [
    "meop_process.process_tags(deployment=deployment)"
   ]
  },
  {
   "cell_type": "code",
   "execution_count": 24,
   "metadata": {
    "tags": []
   },
   "outputs": [
    {
     "name": "stdout",
     "output_type": "stream",
     "text": [
      "Process deployment :ct168\n",
      "\n",
      "conf = init_mirounga;\n",
      "\n",
      "create_hr2(conf,EXP,one_smru_name);\n",
      "Create hr2 version [by default, hr1 --> hr2]\n",
      "  ct168-051-BAT2-19: hr1 --> hr2\n",
      "  ct168-052-BAT2-19: hr1 --> hr2\n",
      "  ct168-054-BAT-19: hr1 --> hr2\n",
      "  ct168-060-BAT-19: hr1 --> hr2\n",
      "  ct168-061-BAT-19: hr1 --> hr2\n",
      "  ct168-873-BAT3-19: hr1 --> hr2\n",
      "  ct168-881-BAT3-19: hr1 --> hr2\n",
      "  ct168-942BAT-21: hr1 --> hr2\n",
      "  ct168-943-BAT2-19: hr1 --> hr2\n",
      "  ct168-C899-BAT3-19: hr1 --> hr2\n",
      "  ct168-F465-21: hr1 --> hr2\n",
      "  ct168-F514-21: hr1 --> hr2\n",
      "  ct168-F515-21: hr1 --> hr2\n",
      "  ct168-F516-21: hr1 --> hr2\n",
      "  ct168-F904-BAT2-19: hr1 --> hr2\n",
      "\n"
     ]
    },
    {
     "data": {
      "text/plain": [
       "True"
      ]
     },
     "execution_count": 24,
     "metadata": {},
     "output_type": "execute_result"
    }
   ],
   "source": [
    "meop_process.create_hr2(deployment=deployment)"
   ]
  },
  {
   "cell_type": "code",
   "execution_count": 25,
   "metadata": {
    "tags": []
   },
   "outputs": [
    {
     "name": "stdout",
     "output_type": "stream",
     "text": [
      "conf = init_mirounga;\n",
      "\n",
      "generate_plot2(conf,EXP,one_smru_name);\n",
      "plot diag ct168: lr0, raw\n",
      "plot diag ct168: lr1, adj\n",
      "plot diag ct168: hr1, adj\n",
      "plot diag ct168: hr2, adj\n",
      "\n"
     ]
    },
    {
     "data": {
      "text/plain": [
       "True"
      ]
     },
     "execution_count": 25,
     "metadata": {},
     "output_type": "execute_result"
    }
   ],
   "source": [
    "meop_process.generate_doc_latex(deployment=deployment)"
   ]
  },
  {
   "cell_type": "code",
   "execution_count": 26,
   "metadata": {
    "tags": []
   },
   "outputs": [
    {
     "name": "stdout",
     "output_type": "stream",
     "text": [
      "conf = init_mirounga;\n",
      "\n",
      "generate_plot1(conf,EXP,one_smru_name);\n",
      "calibration plots: \n",
      "\n"
     ]
    },
    {
     "data": {
      "text/plain": [
       "True"
      ]
     },
     "execution_count": 26,
     "metadata": {},
     "output_type": "execute_result"
    }
   ],
   "source": [
    "meop_process.generate_calibration_plots(deployment=deployment)"
   ]
  },
  {
   "cell_type": "code",
   "execution_count": null,
   "metadata": {},
   "outputs": [],
   "source": []
  }
 ],
 "metadata": {
  "kernelspec": {
   "display_name": "base",
   "language": "python",
   "name": "base"
  },
  "language_info": {
   "codemirror_mode": {
    "name": "ipython",
    "version": 3
   },
   "file_extension": ".py",
   "mimetype": "text/x-python",
   "name": "python",
   "nbconvert_exporter": "python",
   "pygments_lexer": "ipython3",
   "version": "3.9.16"
  }
 },
 "nbformat": 4,
 "nbformat_minor": 4
}
